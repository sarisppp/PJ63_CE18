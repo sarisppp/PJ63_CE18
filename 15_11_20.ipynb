{
  "nbformat": 4,
  "nbformat_minor": 0,
  "metadata": {
    "colab": {
      "name": "15/11/20.ipynb",
      "provenance": [],
      "collapsed_sections": [],
      "authorship_tag": "ABX9TyMuF8QPbRJPaxkaDITnHISD",
      "include_colab_link": true
    },
    "kernelspec": {
      "name": "python3",
      "display_name": "Python 3"
    },
    "accelerator": "GPU"
  },
  "cells": [
    {
      "cell_type": "markdown",
      "metadata": {
        "id": "view-in-github",
        "colab_type": "text"
      },
      "source": [
        "<a href=\"https://colab.research.google.com/github/sarisppp/PJ63_CE18/blob/master/15_11_20.ipynb\" target=\"_parent\"><img src=\"https://colab.research.google.com/assets/colab-badge.svg\" alt=\"Open In Colab\"/></a>"
      ]
    },
    {
      "cell_type": "markdown",
      "metadata": {
        "id": "xUWWRKFAxpDl"
      },
      "source": [
        "\n",
        "ทำการ import Envoloment แล้ว โหลดข้อมูล"
      ]
    },
    {
      "cell_type": "code",
      "metadata": {
        "id": "Q65YVXl0xdbC",
        "colab": {
          "base_uri": "https://localhost:8080/"
        },
        "outputId": "13660132-b23b-42b0-c6a1-2a53e8d8694c"
      },
      "source": [
        "import numpy as np\n",
        "import pandas as pd\n",
        "from pandas_datareader import data as pdr\n",
        "import matplotlib.pyplot as plt\n",
        "from google.colab import drive\n",
        "drive.mount('/content/drive')\n",
        "\n",
        "from sklearn.preprocessing import MinMaxScaler\n",
        "%matplotlib inline\n"
      ],
      "execution_count": 5,
      "outputs": [
        {
          "output_type": "stream",
          "text": [
            "Drive already mounted at /content/drive; to attempt to forcibly remount, call drive.mount(\"/content/drive\", force_remount=True).\n"
          ],
          "name": "stdout"
        }
      ]
    },
    {
      "cell_type": "code",
      "metadata": {
        "id": "FI91EeBmxp6d"
      },
      "source": [
        "used_features = ['Timestamp','SET50.Close','EMAV(34)','RSI(14)','EMAV(RSI,13)','MACD(13,5,5)','Signal','MSTO%K','MSTO%D','DI+','DI-','ADX']\r\n",
        "data1 = pd.read_excel(\"/content/drive/My Drive/Data/new/Set50_130919_200820_1.xlsx\",usecols =used_features)\r\n",
        "data2 = pd.read_excel(\"/content/drive/My Drive/Data/new/Set50_210829_191020_2.xlsx\",usecols =used_features)\r\n",
        "data3 = pd.read_excel(\"/content/drive/My Drive/Data/new/Set50_201020_041120_3.xlsx\",usecols =used_features)\r\n",
        "data4 = pd.read_excel(\"/content/drive/My Drive/Data/new/Set50_051120_060121_4.xlsx\",usecols =used_features)\r\n",
        "data = pd.concat([data1,data2,data3,data4],ignore_index=True)\r\n",
        "data[\"Timestamp\"] = pd.to_datetime(data['Timestamp']) #ทำวันที่\r\n",
        "data.set_index(\"Timestamp\",inplace=True)\r\n",
        "#data.reset_index(\"Timestamp\") # ยกเลิก Index Row\r\n",
        "data=data.dropna()\r\n",
        "data.tail(100)\r\n",
        "#data.loc[\"2020-08\"]\r\n"
      ],
      "execution_count": null,
      "outputs": []
    },
    {
      "cell_type": "code",
      "metadata": {
        "id": "Dea_doYgcazw"
      },
      "source": [
        "data.info() # ดูข้อมูล"
      ],
      "execution_count": null,
      "outputs": []
    },
    {
      "cell_type": "code",
      "metadata": {
        "id": "dSWZQ9IMcs9R"
      },
      "source": [
        "for i in [\"EMAV(34)\",\"MSTO%K\",\"MSTO%D\",\"RSI(14)\",\"ADX\",\"DI+\",\"DI-\",\"MACD(13,5,5)\",\"Signal\",\"EMAV(RSI,13)\"]:\r\n",
        "  data[i] = pd.to_numeric(data[i],errors='coerce')"
      ],
      "execution_count": 9,
      "outputs": []
    },
    {
      "cell_type": "code",
      "metadata": {
        "colab": {
          "base_uri": "https://localhost:8080/"
        },
        "id": "jQ4-8pvtuNdm",
        "outputId": "fb43239d-77e1-4df5-e38b-7378096921cd"
      },
      "source": [
        "data.isnull().sum()\r\n",
        "data=data.dropna()\r\n",
        "data.info()"
      ],
      "execution_count": 10,
      "outputs": [
        {
          "output_type": "stream",
          "text": [
            "<class 'pandas.core.frame.DataFrame'>\n",
            "DatetimeIndex: 81447 entries, 2019-03-13 14:59:00 to 2021-06-01 16:46:00\n",
            "Data columns (total 11 columns):\n",
            " #   Column        Non-Null Count  Dtype  \n",
            "---  ------        --------------  -----  \n",
            " 0   SET50.Close   81447 non-null  float64\n",
            " 1   EMAV(34)      81447 non-null  float64\n",
            " 2   MSTO%K        81447 non-null  float64\n",
            " 3   MSTO%D        81447 non-null  float64\n",
            " 4   RSI(14)       81447 non-null  float64\n",
            " 5   ADX           81447 non-null  float64\n",
            " 6   DI+           81447 non-null  float64\n",
            " 7   DI-           81447 non-null  float64\n",
            " 8   MACD(13,5,5)  81447 non-null  float64\n",
            " 9   Signal        81447 non-null  float64\n",
            " 10  EMAV(RSI,13)  81447 non-null  float64\n",
            "dtypes: float64(11)\n",
            "memory usage: 7.5 MB\n"
          ],
          "name": "stdout"
        }
      ]
    },
    {
      "cell_type": "code",
      "metadata": {
        "id": "kPm1wLfdC9t2"
      },
      "source": [
        "#plt.plot(data[\"Timestamp\"].head(100))\r\n",
        "plt.figure(figsize=(40,20))\r\n",
        "plt.plot(data.index,data[\"SET50.Close\"])\r\n",
        "plt.show() "
      ],
      "execution_count": null,
      "outputs": []
    },
    {
      "cell_type": "code",
      "metadata": {
        "id": "nfz33WBcGuSb"
      },
      "source": [
        "def signal(data,periods=16):\r\n",
        "  data['output']=0\r\n",
        "  for index,row in data.iterrows():\r\n",
        "    if row['MACD(13,5,5)']>row['Signal'] and row['RSI(14)']>row['EMAV(RSI,13)'] and row['RSI(14)']<70:\r\n",
        "      signalPre=1\r\n",
        "    elif row['MACD(13,5,5)']<row['Signal'] and row['RSI(14)']<row['EMAV(RSI,13)'] and row['RSI(14)']>30:\r\n",
        "      if row['SET50.Close']<row['EMAV(34)']:\r\n",
        "        signalPre=-1\r\n",
        "      else:\r\n",
        "        signalPre=0\r\n",
        "    else:\r\n",
        "      signalPre=0\r\n",
        "    data.at[index,'output']= signalPre\r\n",
        "    \r\n",
        "     \r\n",
        "  return data"
      ],
      "execution_count": 11,
      "outputs": []
    },
    {
      "cell_type": "code",
      "metadata": {
        "id": "l00of-AjGwsQ"
      },
      "source": [
        "def updown(data):\r\n",
        "    data['UpHoldDown']=0\r\n",
        "    for index,row in data.iterrows():\r\n",
        "      if row['SET50.Close']>row['SET50.Close']:\r\n",
        "        signalpre = 1\r\n",
        "      elif row['SET50.Close']<row['SET50.Close']:\r\n",
        "        signalpre = -1\r\n",
        "      else:\r\n",
        "        signalpre = 0\r\n",
        "      data.at[index,'UpHoldDown']=signalpre\r\n",
        "    \r\n",
        "    return data"
      ],
      "execution_count": 12,
      "outputs": []
    },
    {
      "cell_type": "code",
      "metadata": {
        "id": "I-76GG0iGngq"
      },
      "source": [
        "#เงื่อนไขใหม่\r\n",
        "def signal2(data,periods=16):\r\n",
        "  data['output2']=0\r\n",
        "  for index,row in data.iterrows():\r\n",
        "    if row['MACD(13,5,5)']>row['Signal'] and row['RSI(14)']>row['EMAV(RSI,13)'] and row['RSI(14)']<70 and row['MSTO%K']>row[\"MSTO%D\"] and row[\"DI+\"]>row[\"DI-\"]:\r\n",
        "      signalPre=1\r\n",
        "    elif row['MACD(13,5,5)']<row['Signal'] and row['RSI(14)']<row['EMAV(RSI,13)'] and row['RSI(14)']>30 and row['MSTO%K']<row[\"MSTO%D\"] and row[\"DI+\"]<row[\"DI-\"]:\r\n",
        "      if row['SET50.Close']<row['EMAV(34)']:\r\n",
        "        signalPre=-1\r\n",
        "      else:\r\n",
        "        signalPre=0\r\n",
        "    else:\r\n",
        "      signalPre=0\r\n",
        "    data.at[index,'output2']= signalPre\r\n",
        "    \r\n",
        "     \r\n",
        "  return data"
      ],
      "execution_count": 13,
      "outputs": []
    },
    {
      "cell_type": "code",
      "metadata": {
        "colab": {
          "base_uri": "https://localhost:8080/"
        },
        "id": "zY_5WZMGG1FA",
        "outputId": "786be254-e975-4773-caf9-bdaecee67867"
      },
      "source": [
        "data['UHD']=0\r\n",
        "for i in range(len(data[\"SET50.Close\"])):\r\n",
        "  if data[\"SET50.Close\"][i]>data[\"SET50.Close\"][i-1]:\r\n",
        "    signalpre = 1 \r\n",
        "  elif data[\"SET50.Close\"][i]<data[\"SET50.Close\"][i-1]:\r\n",
        "    signalpre = -1\r\n",
        "  else:\r\n",
        "    signalpre = 0\r\n",
        "  data[\"UHD\"][i]=signalpre\r\n",
        "#data.head(40)"
      ],
      "execution_count": 14,
      "outputs": [
        {
          "output_type": "stream",
          "text": [
            "/usr/local/lib/python3.6/dist-packages/ipykernel_launcher.py:9: SettingWithCopyWarning: \n",
            "A value is trying to be set on a copy of a slice from a DataFrame\n",
            "\n",
            "See the caveats in the documentation: https://pandas.pydata.org/pandas-docs/stable/user_guide/indexing.html#returning-a-view-versus-a-copy\n",
            "  if __name__ == '__main__':\n"
          ],
          "name": "stderr"
        }
      ]
    },
    {
      "cell_type": "code",
      "metadata": {
        "colab": {
          "base_uri": "https://localhost:8080/",
          "height": 700
        },
        "id": "GgDIpmMpYyiU",
        "outputId": "a08635b2-0a79-4fc6-b197-ab5c36cbdbc3"
      },
      "source": [
        "data.tail(20)"
      ],
      "execution_count": 15,
      "outputs": [
        {
          "output_type": "execute_result",
          "data": {
            "text/html": [
              "<div>\n",
              "<style scoped>\n",
              "    .dataframe tbody tr th:only-of-type {\n",
              "        vertical-align: middle;\n",
              "    }\n",
              "\n",
              "    .dataframe tbody tr th {\n",
              "        vertical-align: top;\n",
              "    }\n",
              "\n",
              "    .dataframe thead th {\n",
              "        text-align: right;\n",
              "    }\n",
              "</style>\n",
              "<table border=\"1\" class=\"dataframe\">\n",
              "  <thead>\n",
              "    <tr style=\"text-align: right;\">\n",
              "      <th></th>\n",
              "      <th>SET50.Close</th>\n",
              "      <th>EMAV(34)</th>\n",
              "      <th>MSTO%K</th>\n",
              "      <th>MSTO%D</th>\n",
              "      <th>RSI(14)</th>\n",
              "      <th>ADX</th>\n",
              "      <th>DI+</th>\n",
              "      <th>DI-</th>\n",
              "      <th>MACD(13,5,5)</th>\n",
              "      <th>Signal</th>\n",
              "      <th>EMAV(RSI,13)</th>\n",
              "      <th>UHD</th>\n",
              "    </tr>\n",
              "    <tr>\n",
              "      <th>Timestamp</th>\n",
              "      <th></th>\n",
              "      <th></th>\n",
              "      <th></th>\n",
              "      <th></th>\n",
              "      <th></th>\n",
              "      <th></th>\n",
              "      <th></th>\n",
              "      <th></th>\n",
              "      <th></th>\n",
              "      <th></th>\n",
              "      <th></th>\n",
              "      <th></th>\n",
              "    </tr>\n",
              "  </thead>\n",
              "  <tbody>\n",
              "    <tr>\n",
              "      <th>2021-06-01 16:18:00</th>\n",
              "      <td>940.37</td>\n",
              "      <td>941.8072</td>\n",
              "      <td>92.697</td>\n",
              "      <td>90.496</td>\n",
              "      <td>46.3002</td>\n",
              "      <td>37.556</td>\n",
              "      <td>33.564</td>\n",
              "      <td>35.633</td>\n",
              "      <td>-0.1465</td>\n",
              "      <td>-0.8086</td>\n",
              "      <td>35.202</td>\n",
              "      <td>1</td>\n",
              "    </tr>\n",
              "    <tr>\n",
              "      <th>2021-06-01 16:19:00</th>\n",
              "      <td>940.29</td>\n",
              "      <td>941.7205</td>\n",
              "      <td>84.853</td>\n",
              "      <td>87.675</td>\n",
              "      <td>45.9098</td>\n",
              "      <td>35.035</td>\n",
              "      <td>32.452</td>\n",
              "      <td>35.714</td>\n",
              "      <td>0.0461</td>\n",
              "      <td>-0.5237</td>\n",
              "      <td>36.732</td>\n",
              "      <td>-1</td>\n",
              "    </tr>\n",
              "    <tr>\n",
              "      <th>2021-06-01 16:20:00</th>\n",
              "      <td>940.76</td>\n",
              "      <td>941.6656</td>\n",
              "      <td>79.242</td>\n",
              "      <td>83.458</td>\n",
              "      <td>48.6493</td>\n",
              "      <td>32.357</td>\n",
              "      <td>34.232</td>\n",
              "      <td>34.084</td>\n",
              "      <td>0.2436</td>\n",
              "      <td>-0.2679</td>\n",
              "      <td>38.434</td>\n",
              "      <td>1</td>\n",
              "    </tr>\n",
              "    <tr>\n",
              "      <th>2021-06-01 16:21:00</th>\n",
              "      <td>939.67</td>\n",
              "      <td>941.5516</td>\n",
              "      <td>55.080</td>\n",
              "      <td>69.269</td>\n",
              "      <td>43.1865</td>\n",
              "      <td>30.346</td>\n",
              "      <td>31.226</td>\n",
              "      <td>35.361</td>\n",
              "      <td>0.1372</td>\n",
              "      <td>-0.1329</td>\n",
              "      <td>39.113</td>\n",
              "      <td>-1</td>\n",
              "    </tr>\n",
              "    <tr>\n",
              "      <th>2021-06-01 16:22:00</th>\n",
              "      <td>939.20</td>\n",
              "      <td>941.4172</td>\n",
              "      <td>27.926</td>\n",
              "      <td>48.597</td>\n",
              "      <td>41.0462</td>\n",
              "      <td>29.103</td>\n",
              "      <td>29.404</td>\n",
              "      <td>39.132</td>\n",
              "      <td>-0.0197</td>\n",
              "      <td>-0.0952</td>\n",
              "      <td>39.389</td>\n",
              "      <td>-1</td>\n",
              "    </tr>\n",
              "    <tr>\n",
              "      <th>2021-06-01 16:23:00</th>\n",
              "      <td>939.89</td>\n",
              "      <td>941.3299</td>\n",
              "      <td>26.411</td>\n",
              "      <td>37.504</td>\n",
              "      <td>45.3298</td>\n",
              "      <td>27.341</td>\n",
              "      <td>32.269</td>\n",
              "      <td>36.530</td>\n",
              "      <td>0.0230</td>\n",
              "      <td>-0.0558</td>\n",
              "      <td>40.238</td>\n",
              "      <td>1</td>\n",
              "    </tr>\n",
              "    <tr>\n",
              "      <th>2021-06-01 16:24:00</th>\n",
              "      <td>939.61</td>\n",
              "      <td>941.2317</td>\n",
              "      <td>37.681</td>\n",
              "      <td>37.593</td>\n",
              "      <td>43.9347</td>\n",
              "      <td>25.273</td>\n",
              "      <td>32.946</td>\n",
              "      <td>32.650</td>\n",
              "      <td>-0.0070</td>\n",
              "      <td>-0.0395</td>\n",
              "      <td>40.766</td>\n",
              "      <td>-1</td>\n",
              "    </tr>\n",
              "    <tr>\n",
              "      <th>2021-06-01 16:25:00</th>\n",
              "      <td>939.23</td>\n",
              "      <td>941.1173</td>\n",
              "      <td>37.668</td>\n",
              "      <td>37.630</td>\n",
              "      <td>42.0436</td>\n",
              "      <td>23.474</td>\n",
              "      <td>30.382</td>\n",
              "      <td>29.257</td>\n",
              "      <td>-0.0962</td>\n",
              "      <td>-0.0584</td>\n",
              "      <td>40.949</td>\n",
              "      <td>-1</td>\n",
              "    </tr>\n",
              "    <tr>\n",
              "      <th>2021-06-01 16:26:00</th>\n",
              "      <td>939.37</td>\n",
              "      <td>941.0174</td>\n",
              "      <td>22.759</td>\n",
              "      <td>30.195</td>\n",
              "      <td>43.0167</td>\n",
              "      <td>21.703</td>\n",
              "      <td>27.370</td>\n",
              "      <td>27.120</td>\n",
              "      <td>-0.1159</td>\n",
              "      <td>-0.0775</td>\n",
              "      <td>41.244</td>\n",
              "      <td>1</td>\n",
              "    </tr>\n",
              "    <tr>\n",
              "      <th>2021-06-01 16:27:00</th>\n",
              "      <td>939.81</td>\n",
              "      <td>940.9484</td>\n",
              "      <td>23.776</td>\n",
              "      <td>26.985</td>\n",
              "      <td>46.0811</td>\n",
              "      <td>20.069</td>\n",
              "      <td>25.379</td>\n",
              "      <td>25.147</td>\n",
              "      <td>-0.0378</td>\n",
              "      <td>-0.0643</td>\n",
              "      <td>41.935</td>\n",
              "      <td>1</td>\n",
              "    </tr>\n",
              "    <tr>\n",
              "      <th>2021-06-01 16:28:00</th>\n",
              "      <td>940.64</td>\n",
              "      <td>940.9308</td>\n",
              "      <td>55.606</td>\n",
              "      <td>41.296</td>\n",
              "      <td>51.3915</td>\n",
              "      <td>18.988</td>\n",
              "      <td>26.538</td>\n",
              "      <td>23.526</td>\n",
              "      <td>0.1667</td>\n",
              "      <td>0.0127</td>\n",
              "      <td>43.286</td>\n",
              "      <td>1</td>\n",
              "    </tr>\n",
              "    <tr>\n",
              "      <th>2021-06-01 16:29:00</th>\n",
              "      <td>940.50</td>\n",
              "      <td>940.9062</td>\n",
              "      <td>79.350</td>\n",
              "      <td>60.323</td>\n",
              "      <td>50.4882</td>\n",
              "      <td>17.901</td>\n",
              "      <td>23.797</td>\n",
              "      <td>26.224</td>\n",
              "      <td>0.2489</td>\n",
              "      <td>0.0914</td>\n",
              "      <td>44.315</td>\n",
              "      <td>-1</td>\n",
              "    </tr>\n",
              "    <tr>\n",
              "      <th>2021-06-01 16:30:00</th>\n",
              "      <td>940.68</td>\n",
              "      <td>940.8933</td>\n",
              "      <td>96.737</td>\n",
              "      <td>78.530</td>\n",
              "      <td>51.6645</td>\n",
              "      <td>16.667</td>\n",
              "      <td>24.901</td>\n",
              "      <td>25.844</td>\n",
              "      <td>0.3184</td>\n",
              "      <td>0.1671</td>\n",
              "      <td>45.365</td>\n",
              "      <td>1</td>\n",
              "    </tr>\n",
              "    <tr>\n",
              "      <th>2021-06-01 16:36:00</th>\n",
              "      <td>940.41</td>\n",
              "      <td>940.8657</td>\n",
              "      <td>90.215</td>\n",
              "      <td>84.372</td>\n",
              "      <td>49.7550</td>\n",
              "      <td>15.862</td>\n",
              "      <td>24.328</td>\n",
              "      <td>27.550</td>\n",
              "      <td>0.2914</td>\n",
              "      <td>0.2085</td>\n",
              "      <td>45.992</td>\n",
              "      <td>-1</td>\n",
              "    </tr>\n",
              "    <tr>\n",
              "      <th>2021-06-01 16:37:00</th>\n",
              "      <td>940.41</td>\n",
              "      <td>940.8396</td>\n",
              "      <td>82.524</td>\n",
              "      <td>83.448</td>\n",
              "      <td>49.7550</td>\n",
              "      <td>15.120</td>\n",
              "      <td>24.328</td>\n",
              "      <td>27.550</td>\n",
              "      <td>0.2622</td>\n",
              "      <td>0.2264</td>\n",
              "      <td>46.530</td>\n",
              "      <td>0</td>\n",
              "    </tr>\n",
              "    <tr>\n",
              "      <th>2021-06-01 16:38:00</th>\n",
              "      <td>940.41</td>\n",
              "      <td>940.8151</td>\n",
              "      <td>67.857</td>\n",
              "      <td>75.653</td>\n",
              "      <td>49.7550</td>\n",
              "      <td>14.434</td>\n",
              "      <td>24.328</td>\n",
              "      <td>27.550</td>\n",
              "      <td>0.2330</td>\n",
              "      <td>0.2286</td>\n",
              "      <td>46.990</td>\n",
              "      <td>0</td>\n",
              "    </tr>\n",
              "    <tr>\n",
              "      <th>2021-06-01 16:40:00</th>\n",
              "      <td>940.41</td>\n",
              "      <td>940.7919</td>\n",
              "      <td>0.000</td>\n",
              "      <td>37.826</td>\n",
              "      <td>49.7550</td>\n",
              "      <td>13.802</td>\n",
              "      <td>24.328</td>\n",
              "      <td>27.550</td>\n",
              "      <td>0.2052</td>\n",
              "      <td>0.2208</td>\n",
              "      <td>47.385</td>\n",
              "      <td>0</td>\n",
              "    </tr>\n",
              "    <tr>\n",
              "      <th>2021-06-01 16:44:00</th>\n",
              "      <td>940.41</td>\n",
              "      <td>940.7701</td>\n",
              "      <td>0.000</td>\n",
              "      <td>18.913</td>\n",
              "      <td>49.7550</td>\n",
              "      <td>13.218</td>\n",
              "      <td>24.328</td>\n",
              "      <td>27.550</td>\n",
              "      <td>0.1796</td>\n",
              "      <td>0.2071</td>\n",
              "      <td>47.724</td>\n",
              "      <td>0</td>\n",
              "    </tr>\n",
              "    <tr>\n",
              "      <th>2021-06-01 16:45:00</th>\n",
              "      <td>940.41</td>\n",
              "      <td>940.7495</td>\n",
              "      <td>0.000</td>\n",
              "      <td>9.457</td>\n",
              "      <td>49.7551</td>\n",
              "      <td>12.679</td>\n",
              "      <td>24.328</td>\n",
              "      <td>27.550</td>\n",
              "      <td>0.1564</td>\n",
              "      <td>0.1902</td>\n",
              "      <td>48.014</td>\n",
              "      <td>0</td>\n",
              "    </tr>\n",
              "    <tr>\n",
              "      <th>2021-06-01 16:46:00</th>\n",
              "      <td>940.41</td>\n",
              "      <td>940.7301</td>\n",
              "      <td>0.000</td>\n",
              "      <td>4.728</td>\n",
              "      <td>49.7550</td>\n",
              "      <td>12.181</td>\n",
              "      <td>24.328</td>\n",
              "      <td>27.550</td>\n",
              "      <td>0.1356</td>\n",
              "      <td>0.1720</td>\n",
              "      <td>48.263</td>\n",
              "      <td>0</td>\n",
              "    </tr>\n",
              "  </tbody>\n",
              "</table>\n",
              "</div>"
            ],
            "text/plain": [
              "                     SET50.Close  EMAV(34)  MSTO%K  ...  Signal  EMAV(RSI,13)  UHD\n",
              "Timestamp                                           ...                           \n",
              "2021-06-01 16:18:00       940.37  941.8072  92.697  ... -0.8086        35.202    1\n",
              "2021-06-01 16:19:00       940.29  941.7205  84.853  ... -0.5237        36.732   -1\n",
              "2021-06-01 16:20:00       940.76  941.6656  79.242  ... -0.2679        38.434    1\n",
              "2021-06-01 16:21:00       939.67  941.5516  55.080  ... -0.1329        39.113   -1\n",
              "2021-06-01 16:22:00       939.20  941.4172  27.926  ... -0.0952        39.389   -1\n",
              "2021-06-01 16:23:00       939.89  941.3299  26.411  ... -0.0558        40.238    1\n",
              "2021-06-01 16:24:00       939.61  941.2317  37.681  ... -0.0395        40.766   -1\n",
              "2021-06-01 16:25:00       939.23  941.1173  37.668  ... -0.0584        40.949   -1\n",
              "2021-06-01 16:26:00       939.37  941.0174  22.759  ... -0.0775        41.244    1\n",
              "2021-06-01 16:27:00       939.81  940.9484  23.776  ... -0.0643        41.935    1\n",
              "2021-06-01 16:28:00       940.64  940.9308  55.606  ...  0.0127        43.286    1\n",
              "2021-06-01 16:29:00       940.50  940.9062  79.350  ...  0.0914        44.315   -1\n",
              "2021-06-01 16:30:00       940.68  940.8933  96.737  ...  0.1671        45.365    1\n",
              "2021-06-01 16:36:00       940.41  940.8657  90.215  ...  0.2085        45.992   -1\n",
              "2021-06-01 16:37:00       940.41  940.8396  82.524  ...  0.2264        46.530    0\n",
              "2021-06-01 16:38:00       940.41  940.8151  67.857  ...  0.2286        46.990    0\n",
              "2021-06-01 16:40:00       940.41  940.7919   0.000  ...  0.2208        47.385    0\n",
              "2021-06-01 16:44:00       940.41  940.7701   0.000  ...  0.2071        47.724    0\n",
              "2021-06-01 16:45:00       940.41  940.7495   0.000  ...  0.1902        48.014    0\n",
              "2021-06-01 16:46:00       940.41  940.7301   0.000  ...  0.1720        48.263    0\n",
              "\n",
              "[20 rows x 12 columns]"
            ]
          },
          "metadata": {
            "tags": []
          },
          "execution_count": 15
        }
      ]
    },
    {
      "cell_type": "code",
      "metadata": {
        "colab": {
          "base_uri": "https://localhost:8080/"
        },
        "id": "NWHMzggO3tJg",
        "outputId": "9c055c3d-8cf6-4b5f-9986-d5164a6ef885"
      },
      "source": [
        "g = ['UHD']\r\n",
        "data.groupby(by= g)['SET50.Close'].count()"
      ],
      "execution_count": 12,
      "outputs": [
        {
          "output_type": "execute_result",
          "data": {
            "text/plain": [
              "UHD\n",
              "-1    39574\n",
              " 0     2504\n",
              " 1    39369\n",
              "Name: SET50.Close, dtype: int64"
            ]
          },
          "metadata": {
            "tags": []
          },
          "execution_count": 12
        }
      ]
    },
    {
      "cell_type": "code",
      "metadata": {
        "colab": {
          "base_uri": "https://localhost:8080/",
          "height": 700
        },
        "id": "TsFPpkiI9EbH",
        "outputId": "b28ea8d7-9efb-48fc-ccc1-9207d1376fc2"
      },
      "source": [
        "data_new = data\r\n",
        "data_new = signal2(data)\r\n",
        "data_new.loc[\"20-08-20\":\"20-08-20 12\"].head(20)\r\n"
      ],
      "execution_count": 16,
      "outputs": [
        {
          "output_type": "execute_result",
          "data": {
            "text/html": [
              "<div>\n",
              "<style scoped>\n",
              "    .dataframe tbody tr th:only-of-type {\n",
              "        vertical-align: middle;\n",
              "    }\n",
              "\n",
              "    .dataframe tbody tr th {\n",
              "        vertical-align: top;\n",
              "    }\n",
              "\n",
              "    .dataframe thead th {\n",
              "        text-align: right;\n",
              "    }\n",
              "</style>\n",
              "<table border=\"1\" class=\"dataframe\">\n",
              "  <thead>\n",
              "    <tr style=\"text-align: right;\">\n",
              "      <th></th>\n",
              "      <th>SET50.Close</th>\n",
              "      <th>EMAV(34)</th>\n",
              "      <th>MSTO%K</th>\n",
              "      <th>MSTO%D</th>\n",
              "      <th>RSI(14)</th>\n",
              "      <th>ADX</th>\n",
              "      <th>DI+</th>\n",
              "      <th>DI-</th>\n",
              "      <th>MACD(13,5,5)</th>\n",
              "      <th>Signal</th>\n",
              "      <th>EMAV(RSI,13)</th>\n",
              "      <th>UHD</th>\n",
              "      <th>output2</th>\n",
              "    </tr>\n",
              "    <tr>\n",
              "      <th>Timestamp</th>\n",
              "      <th></th>\n",
              "      <th></th>\n",
              "      <th></th>\n",
              "      <th></th>\n",
              "      <th></th>\n",
              "      <th></th>\n",
              "      <th></th>\n",
              "      <th></th>\n",
              "      <th></th>\n",
              "      <th></th>\n",
              "      <th></th>\n",
              "      <th></th>\n",
              "      <th></th>\n",
              "    </tr>\n",
              "  </thead>\n",
              "  <tbody>\n",
              "    <tr>\n",
              "      <th>2020-08-20 09:58:00</th>\n",
              "      <td>840.14</td>\n",
              "      <td>850.7779</td>\n",
              "      <td>0.000</td>\n",
              "      <td>0.019</td>\n",
              "      <td>12.3991</td>\n",
              "      <td>36.930</td>\n",
              "      <td>4.467</td>\n",
              "      <td>77.038</td>\n",
              "      <td>-2.2307</td>\n",
              "      <td>-0.9798</td>\n",
              "      <td>39.149</td>\n",
              "      <td>-1</td>\n",
              "      <td>0</td>\n",
              "    </tr>\n",
              "    <tr>\n",
              "      <th>2020-08-20 09:59:00</th>\n",
              "      <td>842.24</td>\n",
              "      <td>850.2900</td>\n",
              "      <td>10.067</td>\n",
              "      <td>5.043</td>\n",
              "      <td>24.0116</td>\n",
              "      <td>40.157</td>\n",
              "      <td>7.910</td>\n",
              "      <td>67.007</td>\n",
              "      <td>-2.8386</td>\n",
              "      <td>-1.5994</td>\n",
              "      <td>36.987</td>\n",
              "      <td>1</td>\n",
              "      <td>0</td>\n",
              "    </tr>\n",
              "    <tr>\n",
              "      <th>2020-08-20 10:00:00</th>\n",
              "      <td>844.22</td>\n",
              "      <td>849.9431</td>\n",
              "      <td>24.641</td>\n",
              "      <td>14.842</td>\n",
              "      <td>33.0262</td>\n",
              "      <td>41.108</td>\n",
              "      <td>18.365</td>\n",
              "      <td>58.989</td>\n",
              "      <td>-2.6737</td>\n",
              "      <td>-1.9575</td>\n",
              "      <td>36.421</td>\n",
              "      <td>1</td>\n",
              "      <td>0</td>\n",
              "    </tr>\n",
              "    <tr>\n",
              "      <th>2020-08-20 10:01:00</th>\n",
              "      <td>845.96</td>\n",
              "      <td>849.7155</td>\n",
              "      <td>55.421</td>\n",
              "      <td>35.132</td>\n",
              "      <td>39.7865</td>\n",
              "      <td>40.668</td>\n",
              "      <td>25.442</td>\n",
              "      <td>53.316</td>\n",
              "      <td>-2.1208</td>\n",
              "      <td>-2.0119</td>\n",
              "      <td>36.902</td>\n",
              "      <td>1</td>\n",
              "      <td>0</td>\n",
              "    </tr>\n",
              "    <tr>\n",
              "      <th>2020-08-20 10:02:00</th>\n",
              "      <td>845.35</td>\n",
              "      <td>849.4661</td>\n",
              "      <td>91.840</td>\n",
              "      <td>63.486</td>\n",
              "      <td>38.3259</td>\n",
              "      <td>40.084</td>\n",
              "      <td>25.535</td>\n",
              "      <td>50.763</td>\n",
              "      <td>-1.8200</td>\n",
              "      <td>-1.9479</td>\n",
              "      <td>37.105</td>\n",
              "      <td>-1</td>\n",
              "      <td>0</td>\n",
              "    </tr>\n",
              "    <tr>\n",
              "      <th>2020-08-20 10:03:00</th>\n",
              "      <td>845.62</td>\n",
              "      <td>849.2463</td>\n",
              "      <td>85.404</td>\n",
              "      <td>74.445</td>\n",
              "      <td>39.3866</td>\n",
              "      <td>39.544</td>\n",
              "      <td>24.755</td>\n",
              "      <td>49.213</td>\n",
              "      <td>-1.5100</td>\n",
              "      <td>-1.8020</td>\n",
              "      <td>37.431</td>\n",
              "      <td>1</td>\n",
              "      <td>0</td>\n",
              "    </tr>\n",
              "    <tr>\n",
              "      <th>2020-08-20 10:04:00</th>\n",
              "      <td>845.78</td>\n",
              "      <td>849.0482</td>\n",
              "      <td>71.783</td>\n",
              "      <td>73.114</td>\n",
              "      <td>40.0446</td>\n",
              "      <td>39.262</td>\n",
              "      <td>23.636</td>\n",
              "      <td>50.085</td>\n",
              "      <td>-1.2305</td>\n",
              "      <td>-1.6115</td>\n",
              "      <td>37.804</td>\n",
              "      <td>1</td>\n",
              "      <td>0</td>\n",
              "    </tr>\n",
              "    <tr>\n",
              "      <th>2020-08-20 10:05:00</th>\n",
              "      <td>845.60</td>\n",
              "      <td>848.8512</td>\n",
              "      <td>63.391</td>\n",
              "      <td>68.252</td>\n",
              "      <td>39.5247</td>\n",
              "      <td>38.697</td>\n",
              "      <td>24.995</td>\n",
              "      <td>48.428</td>\n",
              "      <td>-1.0465</td>\n",
              "      <td>-1.4231</td>\n",
              "      <td>38.050</td>\n",
              "      <td>-1</td>\n",
              "      <td>0</td>\n",
              "    </tr>\n",
              "    <tr>\n",
              "      <th>2020-08-20 10:06:00</th>\n",
              "      <td>846.32</td>\n",
              "      <td>848.7065</td>\n",
              "      <td>70.248</td>\n",
              "      <td>69.250</td>\n",
              "      <td>42.7275</td>\n",
              "      <td>37.828</td>\n",
              "      <td>25.988</td>\n",
              "      <td>45.607</td>\n",
              "      <td>-0.7543</td>\n",
              "      <td>-1.2002</td>\n",
              "      <td>38.718</td>\n",
              "      <td>1</td>\n",
              "      <td>0</td>\n",
              "    </tr>\n",
              "    <tr>\n",
              "      <th>2020-08-20 10:07:00</th>\n",
              "      <td>846.51</td>\n",
              "      <td>848.5810</td>\n",
              "      <td>80.409</td>\n",
              "      <td>74.830</td>\n",
              "      <td>43.5767</td>\n",
              "      <td>37.352</td>\n",
              "      <td>24.363</td>\n",
              "      <td>46.924</td>\n",
              "      <td>-0.5153</td>\n",
              "      <td>-0.9719</td>\n",
              "      <td>39.412</td>\n",
              "      <td>1</td>\n",
              "      <td>0</td>\n",
              "    </tr>\n",
              "    <tr>\n",
              "      <th>2020-08-20 10:08:00</th>\n",
              "      <td>846.33</td>\n",
              "      <td>848.4524</td>\n",
              "      <td>89.666</td>\n",
              "      <td>82.248</td>\n",
              "      <td>42.9273</td>\n",
              "      <td>36.914</td>\n",
              "      <td>23.425</td>\n",
              "      <td>45.117</td>\n",
              "      <td>-0.3884</td>\n",
              "      <td>-0.7774</td>\n",
              "      <td>39.915</td>\n",
              "      <td>-1</td>\n",
              "      <td>0</td>\n",
              "    </tr>\n",
              "    <tr>\n",
              "      <th>2020-08-20 10:09:00</th>\n",
              "      <td>846.58</td>\n",
              "      <td>848.3454</td>\n",
              "      <td>91.156</td>\n",
              "      <td>86.702</td>\n",
              "      <td>44.1717</td>\n",
              "      <td>36.152</td>\n",
              "      <td>25.072</td>\n",
              "      <td>43.628</td>\n",
              "      <td>-0.2498</td>\n",
              "      <td>-0.6015</td>\n",
              "      <td>40.523</td>\n",
              "      <td>1</td>\n",
              "      <td>0</td>\n",
              "    </tr>\n",
              "    <tr>\n",
              "      <th>2020-08-20 10:10:00</th>\n",
              "      <td>845.58</td>\n",
              "      <td>848.1874</td>\n",
              "      <td>57.325</td>\n",
              "      <td>72.013</td>\n",
              "      <td>40.3792</td>\n",
              "      <td>35.858</td>\n",
              "      <td>23.142</td>\n",
              "      <td>45.255</td>\n",
              "      <td>-0.3492</td>\n",
              "      <td>-0.5174</td>\n",
              "      <td>40.502</td>\n",
              "      <td>-1</td>\n",
              "      <td>0</td>\n",
              "    </tr>\n",
              "    <tr>\n",
              "      <th>2020-08-20 10:11:00</th>\n",
              "      <td>845.03</td>\n",
              "      <td>848.0070</td>\n",
              "      <td>27.344</td>\n",
              "      <td>49.679</td>\n",
              "      <td>38.4251</td>\n",
              "      <td>35.872</td>\n",
              "      <td>22.173</td>\n",
              "      <td>47.167</td>\n",
              "      <td>-0.4941</td>\n",
              "      <td>-0.5097</td>\n",
              "      <td>40.205</td>\n",
              "      <td>-1</td>\n",
              "      <td>0</td>\n",
              "    </tr>\n",
              "    <tr>\n",
              "      <th>2020-08-20 10:12:00</th>\n",
              "      <td>844.51</td>\n",
              "      <td>847.8071</td>\n",
              "      <td>1.481</td>\n",
              "      <td>25.580</td>\n",
              "      <td>36.6207</td>\n",
              "      <td>36.177</td>\n",
              "      <td>21.244</td>\n",
              "      <td>49.379</td>\n",
              "      <td>-0.6525</td>\n",
              "      <td>-0.5573</td>\n",
              "      <td>39.693</td>\n",
              "      <td>-1</td>\n",
              "      <td>-1</td>\n",
              "    </tr>\n",
              "    <tr>\n",
              "      <th>2020-08-20 10:13:00</th>\n",
              "      <td>843.79</td>\n",
              "      <td>847.5776</td>\n",
              "      <td>0.216</td>\n",
              "      <td>12.898</td>\n",
              "      <td>34.2242</td>\n",
              "      <td>36.826</td>\n",
              "      <td>19.756</td>\n",
              "      <td>51.572</td>\n",
              "      <td>-0.8490</td>\n",
              "      <td>-0.6545</td>\n",
              "      <td>38.912</td>\n",
              "      <td>-1</td>\n",
              "      <td>-1</td>\n",
              "    </tr>\n",
              "    <tr>\n",
              "      <th>2020-08-20 10:14:00</th>\n",
              "      <td>845.05</td>\n",
              "      <td>847.4331</td>\n",
              "      <td>37.578</td>\n",
              "      <td>25.238</td>\n",
              "      <td>41.4457</td>\n",
              "      <td>37.681</td>\n",
              "      <td>17.114</td>\n",
              "      <td>48.635</td>\n",
              "      <td>-0.6809</td>\n",
              "      <td>-0.6633</td>\n",
              "      <td>39.274</td>\n",
              "      <td>1</td>\n",
              "      <td>0</td>\n",
              "    </tr>\n",
              "    <tr>\n",
              "      <th>2020-08-20 10:15:00</th>\n",
              "      <td>844.57</td>\n",
              "      <td>847.2695</td>\n",
              "      <td>58.601</td>\n",
              "      <td>41.920</td>\n",
              "      <td>39.6594</td>\n",
              "      <td>38.470</td>\n",
              "      <td>16.135</td>\n",
              "      <td>45.852</td>\n",
              "      <td>-0.6438</td>\n",
              "      <td>-0.6568</td>\n",
              "      <td>39.329</td>\n",
              "      <td>-1</td>\n",
              "      <td>0</td>\n",
              "    </tr>\n",
              "    <tr>\n",
              "      <th>2020-08-20 10:16:00</th>\n",
              "      <td>844.74</td>\n",
              "      <td>847.1250</td>\n",
              "      <td>85.289</td>\n",
              "      <td>63.604</td>\n",
              "      <td>40.6353</td>\n",
              "      <td>39.198</td>\n",
              "      <td>15.694</td>\n",
              "      <td>44.599</td>\n",
              "      <td>-0.5596</td>\n",
              "      <td>-0.6244</td>\n",
              "      <td>39.516</td>\n",
              "      <td>1</td>\n",
              "      <td>0</td>\n",
              "    </tr>\n",
              "    <tr>\n",
              "      <th>2020-08-20 10:17:00</th>\n",
              "      <td>845.06</td>\n",
              "      <td>847.0070</td>\n",
              "      <td>77.851</td>\n",
              "      <td>70.728</td>\n",
              "      <td>42.5198</td>\n",
              "      <td>39.047</td>\n",
              "      <td>19.481</td>\n",
              "      <td>42.595</td>\n",
              "      <td>-0.4239</td>\n",
              "      <td>-0.5576</td>\n",
              "      <td>39.945</td>\n",
              "      <td>1</td>\n",
              "      <td>0</td>\n",
              "    </tr>\n",
              "  </tbody>\n",
              "</table>\n",
              "</div>"
            ],
            "text/plain": [
              "                     SET50.Close  EMAV(34)  MSTO%K  ...  EMAV(RSI,13)  UHD  output2\n",
              "Timestamp                                           ...                            \n",
              "2020-08-20 09:58:00       840.14  850.7779   0.000  ...        39.149   -1        0\n",
              "2020-08-20 09:59:00       842.24  850.2900  10.067  ...        36.987    1        0\n",
              "2020-08-20 10:00:00       844.22  849.9431  24.641  ...        36.421    1        0\n",
              "2020-08-20 10:01:00       845.96  849.7155  55.421  ...        36.902    1        0\n",
              "2020-08-20 10:02:00       845.35  849.4661  91.840  ...        37.105   -1        0\n",
              "2020-08-20 10:03:00       845.62  849.2463  85.404  ...        37.431    1        0\n",
              "2020-08-20 10:04:00       845.78  849.0482  71.783  ...        37.804    1        0\n",
              "2020-08-20 10:05:00       845.60  848.8512  63.391  ...        38.050   -1        0\n",
              "2020-08-20 10:06:00       846.32  848.7065  70.248  ...        38.718    1        0\n",
              "2020-08-20 10:07:00       846.51  848.5810  80.409  ...        39.412    1        0\n",
              "2020-08-20 10:08:00       846.33  848.4524  89.666  ...        39.915   -1        0\n",
              "2020-08-20 10:09:00       846.58  848.3454  91.156  ...        40.523    1        0\n",
              "2020-08-20 10:10:00       845.58  848.1874  57.325  ...        40.502   -1        0\n",
              "2020-08-20 10:11:00       845.03  848.0070  27.344  ...        40.205   -1        0\n",
              "2020-08-20 10:12:00       844.51  847.8071   1.481  ...        39.693   -1       -1\n",
              "2020-08-20 10:13:00       843.79  847.5776   0.216  ...        38.912   -1       -1\n",
              "2020-08-20 10:14:00       845.05  847.4331  37.578  ...        39.274    1        0\n",
              "2020-08-20 10:15:00       844.57  847.2695  58.601  ...        39.329   -1        0\n",
              "2020-08-20 10:16:00       844.74  847.1250  85.289  ...        39.516    1        0\n",
              "2020-08-20 10:17:00       845.06  847.0070  77.851  ...        39.945    1        0\n",
              "\n",
              "[20 rows x 13 columns]"
            ]
          },
          "metadata": {
            "tags": []
          },
          "execution_count": 16
        }
      ]
    },
    {
      "cell_type": "code",
      "metadata": {
        "colab": {
          "base_uri": "https://localhost:8080/",
          "height": 450
        },
        "id": "1wcWUzadH4i9",
        "outputId": "f7bac5af-b5c0-4279-8511-45d00cbc4811"
      },
      "source": [
        "signal2(data)"
      ],
      "execution_count": 17,
      "outputs": [
        {
          "output_type": "execute_result",
          "data": {
            "text/html": [
              "<div>\n",
              "<style scoped>\n",
              "    .dataframe tbody tr th:only-of-type {\n",
              "        vertical-align: middle;\n",
              "    }\n",
              "\n",
              "    .dataframe tbody tr th {\n",
              "        vertical-align: top;\n",
              "    }\n",
              "\n",
              "    .dataframe thead th {\n",
              "        text-align: right;\n",
              "    }\n",
              "</style>\n",
              "<table border=\"1\" class=\"dataframe\">\n",
              "  <thead>\n",
              "    <tr style=\"text-align: right;\">\n",
              "      <th></th>\n",
              "      <th>SET50.Close</th>\n",
              "      <th>EMAV(34)</th>\n",
              "      <th>MSTO%K</th>\n",
              "      <th>MSTO%D</th>\n",
              "      <th>RSI(14)</th>\n",
              "      <th>ADX</th>\n",
              "      <th>DI+</th>\n",
              "      <th>DI-</th>\n",
              "      <th>MACD(13,5,5)</th>\n",
              "      <th>Signal</th>\n",
              "      <th>EMAV(RSI,13)</th>\n",
              "      <th>UHD</th>\n",
              "      <th>output2</th>\n",
              "    </tr>\n",
              "    <tr>\n",
              "      <th>Timestamp</th>\n",
              "      <th></th>\n",
              "      <th></th>\n",
              "      <th></th>\n",
              "      <th></th>\n",
              "      <th></th>\n",
              "      <th></th>\n",
              "      <th></th>\n",
              "      <th></th>\n",
              "      <th></th>\n",
              "      <th></th>\n",
              "      <th></th>\n",
              "      <th></th>\n",
              "      <th></th>\n",
              "    </tr>\n",
              "  </thead>\n",
              "  <tbody>\n",
              "    <tr>\n",
              "      <th>2019-03-13 14:59:00</th>\n",
              "      <td>1081.74</td>\n",
              "      <td>1081.6691</td>\n",
              "      <td>28.800</td>\n",
              "      <td>40.430</td>\n",
              "      <td>49.0514</td>\n",
              "      <td>13.328</td>\n",
              "      <td>30.881</td>\n",
              "      <td>22.476</td>\n",
              "      <td>0.0831</td>\n",
              "      <td>0.2186</td>\n",
              "      <td>53.734</td>\n",
              "      <td>1</td>\n",
              "      <td>0</td>\n",
              "    </tr>\n",
              "    <tr>\n",
              "      <th>2019-03-13 15:00:00</th>\n",
              "      <td>1082.10</td>\n",
              "      <td>1081.6937</td>\n",
              "      <td>18.338</td>\n",
              "      <td>29.384</td>\n",
              "      <td>52.0825</td>\n",
              "      <td>13.515</td>\n",
              "      <td>29.443</td>\n",
              "      <td>21.429</td>\n",
              "      <td>0.0583</td>\n",
              "      <td>0.1652</td>\n",
              "      <td>53.498</td>\n",
              "      <td>1</td>\n",
              "      <td>0</td>\n",
              "    </tr>\n",
              "    <tr>\n",
              "      <th>2019-03-13 15:01:00</th>\n",
              "      <td>1081.04</td>\n",
              "      <td>1081.6564</td>\n",
              "      <td>9.574</td>\n",
              "      <td>19.479</td>\n",
              "      <td>43.8165</td>\n",
              "      <td>12.781</td>\n",
              "      <td>26.118</td>\n",
              "      <td>28.279</td>\n",
              "      <td>-0.1605</td>\n",
              "      <td>0.0566</td>\n",
              "      <td>52.115</td>\n",
              "      <td>-1</td>\n",
              "      <td>-1</td>\n",
              "    </tr>\n",
              "    <tr>\n",
              "      <th>2019-03-13 15:02:00</th>\n",
              "      <td>1082.73</td>\n",
              "      <td>1081.7177</td>\n",
              "      <td>50.868</td>\n",
              "      <td>35.174</td>\n",
              "      <td>55.8480</td>\n",
              "      <td>12.927</td>\n",
              "      <td>31.803</td>\n",
              "      <td>23.663</td>\n",
              "      <td>0.0440</td>\n",
              "      <td>0.0524</td>\n",
              "      <td>52.648</td>\n",
              "      <td>1</td>\n",
              "      <td>0</td>\n",
              "    </tr>\n",
              "    <tr>\n",
              "      <th>2019-03-13 15:03:00</th>\n",
              "      <td>1082.66</td>\n",
              "      <td>1081.7716</td>\n",
              "      <td>67.551</td>\n",
              "      <td>51.362</td>\n",
              "      <td>55.3196</td>\n",
              "      <td>13.061</td>\n",
              "      <td>30.835</td>\n",
              "      <td>22.943</td>\n",
              "      <td>0.1454</td>\n",
              "      <td>0.0834</td>\n",
              "      <td>53.030</td>\n",
              "      <td>-1</td>\n",
              "      <td>1</td>\n",
              "    </tr>\n",
              "    <tr>\n",
              "      <th>...</th>\n",
              "      <td>...</td>\n",
              "      <td>...</td>\n",
              "      <td>...</td>\n",
              "      <td>...</td>\n",
              "      <td>...</td>\n",
              "      <td>...</td>\n",
              "      <td>...</td>\n",
              "      <td>...</td>\n",
              "      <td>...</td>\n",
              "      <td>...</td>\n",
              "      <td>...</td>\n",
              "      <td>...</td>\n",
              "      <td>...</td>\n",
              "    </tr>\n",
              "    <tr>\n",
              "      <th>2021-06-01 16:38:00</th>\n",
              "      <td>940.41</td>\n",
              "      <td>940.8151</td>\n",
              "      <td>67.857</td>\n",
              "      <td>75.653</td>\n",
              "      <td>49.7550</td>\n",
              "      <td>14.434</td>\n",
              "      <td>24.328</td>\n",
              "      <td>27.550</td>\n",
              "      <td>0.2330</td>\n",
              "      <td>0.2286</td>\n",
              "      <td>46.990</td>\n",
              "      <td>0</td>\n",
              "      <td>0</td>\n",
              "    </tr>\n",
              "    <tr>\n",
              "      <th>2021-06-01 16:40:00</th>\n",
              "      <td>940.41</td>\n",
              "      <td>940.7919</td>\n",
              "      <td>0.000</td>\n",
              "      <td>37.826</td>\n",
              "      <td>49.7550</td>\n",
              "      <td>13.802</td>\n",
              "      <td>24.328</td>\n",
              "      <td>27.550</td>\n",
              "      <td>0.2052</td>\n",
              "      <td>0.2208</td>\n",
              "      <td>47.385</td>\n",
              "      <td>0</td>\n",
              "      <td>0</td>\n",
              "    </tr>\n",
              "    <tr>\n",
              "      <th>2021-06-01 16:44:00</th>\n",
              "      <td>940.41</td>\n",
              "      <td>940.7701</td>\n",
              "      <td>0.000</td>\n",
              "      <td>18.913</td>\n",
              "      <td>49.7550</td>\n",
              "      <td>13.218</td>\n",
              "      <td>24.328</td>\n",
              "      <td>27.550</td>\n",
              "      <td>0.1796</td>\n",
              "      <td>0.2071</td>\n",
              "      <td>47.724</td>\n",
              "      <td>0</td>\n",
              "      <td>0</td>\n",
              "    </tr>\n",
              "    <tr>\n",
              "      <th>2021-06-01 16:45:00</th>\n",
              "      <td>940.41</td>\n",
              "      <td>940.7495</td>\n",
              "      <td>0.000</td>\n",
              "      <td>9.457</td>\n",
              "      <td>49.7551</td>\n",
              "      <td>12.679</td>\n",
              "      <td>24.328</td>\n",
              "      <td>27.550</td>\n",
              "      <td>0.1564</td>\n",
              "      <td>0.1902</td>\n",
              "      <td>48.014</td>\n",
              "      <td>0</td>\n",
              "      <td>0</td>\n",
              "    </tr>\n",
              "    <tr>\n",
              "      <th>2021-06-01 16:46:00</th>\n",
              "      <td>940.41</td>\n",
              "      <td>940.7301</td>\n",
              "      <td>0.000</td>\n",
              "      <td>4.728</td>\n",
              "      <td>49.7550</td>\n",
              "      <td>12.181</td>\n",
              "      <td>24.328</td>\n",
              "      <td>27.550</td>\n",
              "      <td>0.1356</td>\n",
              "      <td>0.1720</td>\n",
              "      <td>48.263</td>\n",
              "      <td>0</td>\n",
              "      <td>0</td>\n",
              "    </tr>\n",
              "  </tbody>\n",
              "</table>\n",
              "<p>81447 rows × 13 columns</p>\n",
              "</div>"
            ],
            "text/plain": [
              "                     SET50.Close   EMAV(34)  MSTO%K  ...  EMAV(RSI,13)  UHD  output2\n",
              "Timestamp                                            ...                            \n",
              "2019-03-13 14:59:00      1081.74  1081.6691  28.800  ...        53.734    1        0\n",
              "2019-03-13 15:00:00      1082.10  1081.6937  18.338  ...        53.498    1        0\n",
              "2019-03-13 15:01:00      1081.04  1081.6564   9.574  ...        52.115   -1       -1\n",
              "2019-03-13 15:02:00      1082.73  1081.7177  50.868  ...        52.648    1        0\n",
              "2019-03-13 15:03:00      1082.66  1081.7716  67.551  ...        53.030   -1        1\n",
              "...                          ...        ...     ...  ...           ...  ...      ...\n",
              "2021-06-01 16:38:00       940.41   940.8151  67.857  ...        46.990    0        0\n",
              "2021-06-01 16:40:00       940.41   940.7919   0.000  ...        47.385    0        0\n",
              "2021-06-01 16:44:00       940.41   940.7701   0.000  ...        47.724    0        0\n",
              "2021-06-01 16:45:00       940.41   940.7495   0.000  ...        48.014    0        0\n",
              "2021-06-01 16:46:00       940.41   940.7301   0.000  ...        48.263    0        0\n",
              "\n",
              "[81447 rows x 13 columns]"
            ]
          },
          "metadata": {
            "tags": []
          },
          "execution_count": 17
        }
      ]
    },
    {
      "cell_type": "markdown",
      "metadata": {
        "id": "fkO2fyaHAjZx"
      },
      "source": [
        "ตรวจสอบฟังชั่นกับราคาจริง"
      ]
    },
    {
      "cell_type": "code",
      "metadata": {
        "id": "7VfKfe66AdqE"
      },
      "source": [
        "data['UHD=OUTPUT2']=0\r\n",
        "for i in range(len(data[\"UHD\"])):\r\n",
        "  if data[\"UHD\"][i]==data[\"output2\"][i-1]:\r\n",
        "    s = 1 \r\n",
        "  else:\r\n",
        "    s = 0\r\n",
        "  data[\"UHD=OUTPUT2\"][i]=s"
      ],
      "execution_count": null,
      "outputs": []
    },
    {
      "cell_type": "code",
      "metadata": {
        "id": "HTtXuePDAeP0"
      },
      "source": [
        "data['UHD=PREDICT']=0\r\n",
        "for i in range(len(data[\"UHD\"])):\r\n",
        "  if data[\"UHD\"][i]==data[\"signal_predict\"][i-1]:\r\n",
        "    s = 1 \r\n",
        "  else:\r\n",
        "    s = 0\r\n",
        "  data[\"UHD=PREDICT\"][i]=s\r\n"
      ],
      "execution_count": null,
      "outputs": []
    },
    {
      "cell_type": "code",
      "metadata": {
        "id": "1IY_EB4zD4Q-"
      },
      "source": [
        "data.groupby([\"UHD=OUTPUT2\"])[[\"SET50.Close\"]].count()"
      ],
      "execution_count": null,
      "outputs": []
    },
    {
      "cell_type": "code",
      "metadata": {
        "id": "F5X16FeQDew4"
      },
      "source": [
        "a=0\r\n",
        "b=0\r\n",
        "for i in range(len(data[\"UHD=OUTPUT2\"])):\r\n",
        "  if data[\"UHD=OUTPUT2\"][i]==1:\r\n",
        "    a+=1\r\n",
        "  else:\r\n",
        "    b+=1\r\n",
        "print(\"TRUE\",a)\r\n",
        "print(\"FALSE\",a)"
      ],
      "execution_count": null,
      "outputs": []
    },
    {
      "cell_type": "code",
      "metadata": {
        "id": "qdHjtTv0BFTd"
      },
      "source": [
        "data.tail(50)"
      ],
      "execution_count": null,
      "outputs": []
    },
    {
      "cell_type": "code",
      "metadata": {
        "id": "PdHrxpqkw__I"
      },
      "source": [
        "data.to_excel('new.xlsx') #export file"
      ],
      "execution_count": null,
      "outputs": []
    },
    {
      "cell_type": "code",
      "metadata": {
        "id": "lwlsOXU5s1cA"
      },
      "source": [
        "data2 = data.iloc[:,0:12]\r\n",
        "X = data2.iloc[:,0:11]\r\n",
        "y = data2[\"UHD\"]"
      ],
      "execution_count": 20,
      "outputs": []
    },
    {
      "cell_type": "code",
      "metadata": {
        "id": "W6nETwf4wFjM"
      },
      "source": [
        "from sklearn.tree import DecisionTreeClassifier\r\n",
        "from sklearn.model_selection import train_test_split\r\n",
        "from sklearn.metrics import accuracy_score\r\n",
        "model = DecisionTreeClassifier()\r\n",
        "X_train,X_test,y_train,y_test = train_test_split(X,y, test_size=0.2)"
      ],
      "execution_count": 21,
      "outputs": []
    },
    {
      "cell_type": "code",
      "metadata": {
        "colab": {
          "base_uri": "https://localhost:8080/"
        },
        "id": "nc3mGUnLx7X2",
        "outputId": "8a26c0c7-e205-422f-df7b-424f87a61b57"
      },
      "source": [
        "print(\"Total X: {}\".format(len(X)))\r\n",
        "print(\"Total Train: {}\".format(len(X_train)))\r\n",
        "print(\"Total Test: {}\".format(len(X_test)))"
      ],
      "execution_count": 22,
      "outputs": [
        {
          "output_type": "stream",
          "text": [
            "Total X: 81447\n",
            "Total Train: 65157\n",
            "Total Test: 16290\n"
          ],
          "name": "stdout"
        }
      ]
    },
    {
      "cell_type": "code",
      "metadata": {
        "colab": {
          "base_uri": "https://localhost:8080/"
        },
        "id": "3qzECx52xq3F",
        "outputId": "7da05a3c-c5bf-4196-ec4f-7a69d8d7862f"
      },
      "source": [
        "model.fit(X_train,y_train)"
      ],
      "execution_count": 23,
      "outputs": [
        {
          "output_type": "execute_result",
          "data": {
            "text/plain": [
              "DecisionTreeClassifier(ccp_alpha=0.0, class_weight=None, criterion='gini',\n",
              "                       max_depth=None, max_features=None, max_leaf_nodes=None,\n",
              "                       min_impurity_decrease=0.0, min_impurity_split=None,\n",
              "                       min_samples_leaf=1, min_samples_split=2,\n",
              "                       min_weight_fraction_leaf=0.0, presort='deprecated',\n",
              "                       random_state=None, splitter='best')"
            ]
          },
          "metadata": {
            "tags": []
          },
          "execution_count": 23
        }
      ]
    },
    {
      "cell_type": "code",
      "metadata": {
        "colab": {
          "base_uri": "https://localhost:8080/"
        },
        "id": "JF-GcI8VyzA4",
        "outputId": "1a1ab590-3ed3-4252-bfb7-7ce66bb33cf3"
      },
      "source": [
        "y_predict = model.predict(X_test)\r\n",
        "y_predict\r\n"
      ],
      "execution_count": 24,
      "outputs": [
        {
          "output_type": "execute_result",
          "data": {
            "text/plain": [
              "array([ 1, -1,  1, ...,  1,  1,  1])"
            ]
          },
          "metadata": {
            "tags": []
          },
          "execution_count": 24
        }
      ]
    },
    {
      "cell_type": "code",
      "metadata": {
        "colab": {
          "base_uri": "https://localhost:8080/"
        },
        "id": "KtU25e0wzIix",
        "outputId": "ec6a74fd-1d70-4fdb-a88f-69f52fd59864"
      },
      "source": [
        "y_test"
      ],
      "execution_count": 25,
      "outputs": [
        {
          "output_type": "execute_result",
          "data": {
            "text/plain": [
              "Timestamp\n",
              "2020-05-29 12:12:00   -1\n",
              "2020-12-30 12:28:00   -1\n",
              "2020-09-11 14:38:00   -1\n",
              "2020-02-19 11:41:00   -1\n",
              "2020-07-17 16:11:00    1\n",
              "                      ..\n",
              "2020-02-09 11:29:00   -1\n",
              "2019-11-09 14:48:00   -1\n",
              "2019-12-18 15:15:00   -1\n",
              "2019-12-09 15:05:00    1\n",
              "2019-11-28 11:05:00    1\n",
              "Name: UHD, Length: 16290, dtype: int64"
            ]
          },
          "metadata": {
            "tags": []
          },
          "execution_count": 25
        }
      ]
    },
    {
      "cell_type": "code",
      "metadata": {
        "colab": {
          "base_uri": "https://localhost:8080/"
        },
        "id": "8rE5KBw9zWBK",
        "outputId": "eab56693-fa9d-4c59-ea83-262b59f1a789"
      },
      "source": [
        "print(\"Score = {}\".format(accuracy_score(y_test,y_predict)*100))"
      ],
      "execution_count": 26,
      "outputs": [
        {
          "output_type": "stream",
          "text": [
            "Score = 72.49232658072438\n"
          ],
          "name": "stdout"
        }
      ]
    },
    {
      "cell_type": "code",
      "metadata": {
        "id": "aLik7mjBz9AB"
      },
      "source": [
        "from sklearn.ensemble import RandomForestClassifier\r\n",
        "from sklearn.model_selection import train_test_split\r\n",
        "X_train,X_test,y_train,y_test = train_test_split(X,y, test_size=0.2, random_state=0)\r\n",
        "print(X_train.info())\r\n",
        "print(\"=====================================\")\r\n",
        "print(y_train.head())\r\n",
        "RandomForest = RandomForestClassifier(n_estimators=100,verbose=2)\r\n",
        "RandomForest.fit(X_train, y_train)"
      ],
      "execution_count": null,
      "outputs": []
    },
    {
      "cell_type": "code",
      "metadata": {
        "colab": {
          "base_uri": "https://localhost:8080/"
        },
        "id": "kUncC3Fr0A8z",
        "outputId": "a6c9343e-32b0-4548-9c6b-a183ec5dd146"
      },
      "source": [
        "y_predict=RandomForest.predict(X_test)\r\n",
        "\r\n",
        "from sklearn.metrics import classification_report \r\n",
        "report = classification_report(y_test,y_predict)\r\n",
        "print(report)"
      ],
      "execution_count": 29,
      "outputs": [
        {
          "output_type": "stream",
          "text": [
            "[Parallel(n_jobs=1)]: Using backend SequentialBackend with 1 concurrent workers.\n",
            "[Parallel(n_jobs=1)]: Done   1 out of   1 | elapsed:    0.0s remaining:    0.0s\n"
          ],
          "name": "stderr"
        },
        {
          "output_type": "stream",
          "text": [
            "              precision    recall  f1-score   support\n",
            "\n",
            "          -1       0.80      0.80      0.80      7951\n",
            "           0       0.95      0.59      0.73       496\n",
            "           1       0.79      0.81      0.80      7843\n",
            "\n",
            "    accuracy                           0.80     16290\n",
            "   macro avg       0.85      0.73      0.78     16290\n",
            "weighted avg       0.80      0.80      0.80     16290\n",
            "\n"
          ],
          "name": "stdout"
        },
        {
          "output_type": "stream",
          "text": [
            "[Parallel(n_jobs=1)]: Done 100 out of 100 | elapsed:    0.4s finished\n"
          ],
          "name": "stderr"
        }
      ]
    },
    {
      "cell_type": "code",
      "metadata": {
        "id": "9DTZ5vix1qdf"
      },
      "source": [
        "xx = \"SET50.Close\",\"EMAV(34)\",\"MSTO%K\",\"MSTO%D\",\"RSI(14)\",\"ADX\",\"DI+\",\"DI-\",\"MACD(13,5,5)\",\"Signal\",\"EMAV(RSI,13)\"\r\n",
        "yy = \"UHD\"\r\n",
        "import pydotplus\r\n",
        "from sklearn.tree import export_graphviz\r\n",
        "from IPython.display import Image\r\n",
        "\r\n",
        "dot_data = export_graphviz(model,out_file=\"tree\",\r\n",
        "                           feature_names=xx,\r\n",
        "                           class_names=yy,\r\n",
        "                           proportion=True,\r\n",
        "                           filled=True,rounded=True,\r\n",
        "                            impurity=False)\r\n",
        "graph = pydotplus.graph_from_dot_data(dot_data)\r\n",
        "Image(graph.create_png())"
      ],
      "execution_count": null,
      "outputs": []
    },
    {
      "cell_type": "code",
      "metadata": {
        "id": "5NFAm5YoEajk"
      },
      "source": [
        "export_graphviz(model,\r\n",
        "                out_file='tree.dot',\r\n",
        "                feature_names=encoded_data.columns,\r\n",
        "                proportion=True,\r\n",
        "                filled=True,\r\n",
        "                impurity=False)"
      ],
      "execution_count": null,
      "outputs": []
    }
  ]
}