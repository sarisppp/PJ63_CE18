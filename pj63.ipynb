{
  "nbformat": 4,
  "nbformat_minor": 0,
  "metadata": {
    "colab": {
      "name": "pj63.ipynb",
      "provenance": [],
      "collapsed_sections": [
        "xz2AKzHK5loP"
      ],
      "include_colab_link": true
    },
    "kernelspec": {
      "name": "python3",
      "display_name": "Python 3"
    },
    "accelerator": "GPU"
  },
  "cells": [
    {
      "cell_type": "markdown",
      "metadata": {
        "id": "view-in-github",
        "colab_type": "text"
      },
      "source": [
        "<a href=\"https://colab.research.google.com/github/sarisppp/PJ63_CE18/blob/master/pj63.ipynb\" target=\"_parent\"><img src=\"https://colab.research.google.com/assets/colab-badge.svg\" alt=\"Open In Colab\"/></a>"
      ]
    },
    {
      "cell_type": "code",
      "metadata": {
        "id": "g3EoKo4E5TmB",
        "outputId": "a7a03e95-cfdd-4913-eabe-79031f7a3c86",
        "colab": {
          "base_uri": "https://localhost:8080/",
          "height": 17
        }
      },
      "source": [
        "\"\"\"\n",
        "%tensorflow_version 2.x\n",
        "import tensorflow as tf\n",
        "import numpy as np\n",
        "import pandas as pd \n",
        "from matplotlib import pyplot as plt\n",
        "\n",
        "from tensorflow import  keras\n",
        "from tensorflow.keras import layers\"\"\"\n",
        "\n",
        "import os, sys\n",
        "import os.path\n",
        "import numpy as np\n",
        "import pandas as pd\n",
        "import datetime \n",
        "\n",
        "#pd.core.common.is_list_like = pd.api.types.is_list_like\n",
        "\n",
        "from pandas_datareader import data as pdr\n",
        "from tqdm import tqdm, trange\n",
        "\n",
        "import matplotlib.pyplot as plt\n",
        "import pandas as pd\n",
        "from IPython.core.display import display, HTML\n",
        "\n",
        "display(HTML(\"<style>.container { width:90% !important; }</style>\"))\n",
        "pd.options.display.max_columns = 999\n",
        "pd.options.display.max_rows = 999"
      ],
      "execution_count": 7,
      "outputs": [
        {
          "output_type": "display_data",
          "data": {
            "text/html": [
              "<style>.container { width:90% !important; }</style>"
            ],
            "text/plain": [
              "<IPython.core.display.HTML object>"
            ]
          },
          "metadata": {
            "tags": []
          }
        }
      ]
    },
    {
      "cell_type": "code",
      "metadata": {
        "id": "6S3ngn-Aqaf_"
      },
      "source": [
        "from google.colab import drive\n",
        "drive.mount('/content/drive')"
      ],
      "execution_count": null,
      "outputs": []
    },
    {
      "cell_type": "markdown",
      "metadata": {
        "id": "xz2AKzHK5loP"
      },
      "source": [
        "## **Test**"
      ]
    },
    {
      "cell_type": "code",
      "metadata": {
        "id": "brJZAe8d506x",
        "outputId": "fd8c193e-0e36-4b3f-f851-335af660fd0e",
        "colab": {
          "base_uri": "https://localhost:8080/",
          "height": 265
        }
      },
      "source": [
        "N = 100\n",
        "X = np.random.rand(N,1)\n",
        "Y = np.sin(2 * np.pi * X) + 0.4 * np.random.rand(N,1)\n",
        "plt.plot(X,Y,'.')\n",
        "plt.show()"
      ],
      "execution_count": 3,
      "outputs": [
        {
          "output_type": "display_data",
          "data": {
            "image/png": "[encoded data removed]",
            "text/plain": [
              "<Figure size 432x288 with 1 Axes>"
            ]
          },
          "metadata": {
            "tags": [],
            "needs_background": "light"
          }
        }
      ]
    },
    {
      "cell_type": "code",
      "metadata": {
        "id": "MP1KuEKX6It7",
        "outputId": "fc5d8433-139a-4894-93e3-6db555da1aa7",
        "colab": {
          "base_uri": "https://localhost:8080/",
          "height": 231
        }
      },
      "source": [
        "#  1-100-100-1\n",
        "inputs = keras.Input(shape=(1,))\n",
        "d1 = layers.Dense(100,activation='relu')\n",
        "d2 = layers.Dense(100,activation='relu')\n",
        "d3 = layers.Dense(1)\n",
        "outputs = d3(d2(d1(inputs)))\n",
        "model = keras.Model(inputs,outputs)\n",
        "model.compile(optimizer=keras.optimizers.SGD(learning_rate=0.1),loss=keras.losses.MeanSquaredError())\n",
        "\n",
        "\n",
        "\n",
        "\n"
      ],
      "execution_count": 4,
      "outputs": [
        {
          "output_type": "error",
          "ename": "NameError",
          "evalue": "ignored",
          "traceback": [
            "\u001b[0;31m---------------------------------------------------------------------------\u001b[0m",
            "\u001b[0;31mNameError\u001b[0m                                 Traceback (most recent call last)",
            "\u001b[0;32m<ipython-input-4-2ad7053fe0d5>\u001b[0m in \u001b[0;36m<module>\u001b[0;34m()\u001b[0m\n\u001b[1;32m      1\u001b[0m \u001b[0;31m#  1-100-100-1\u001b[0m\u001b[0;34m\u001b[0m\u001b[0;34m\u001b[0m\u001b[0;34m\u001b[0m\u001b[0m\n\u001b[0;32m----> 2\u001b[0;31m \u001b[0minputs\u001b[0m \u001b[0;34m=\u001b[0m \u001b[0mkeras\u001b[0m\u001b[0;34m.\u001b[0m\u001b[0mInput\u001b[0m\u001b[0;34m(\u001b[0m\u001b[0mshape\u001b[0m\u001b[0;34m=\u001b[0m\u001b[0;34m(\u001b[0m\u001b[0;36m1\u001b[0m\u001b[0;34m,\u001b[0m\u001b[0;34m)\u001b[0m\u001b[0;34m)\u001b[0m\u001b[0;34m\u001b[0m\u001b[0;34m\u001b[0m\u001b[0m\n\u001b[0m\u001b[1;32m      3\u001b[0m \u001b[0md1\u001b[0m \u001b[0;34m=\u001b[0m \u001b[0mlayers\u001b[0m\u001b[0;34m.\u001b[0m\u001b[0mDense\u001b[0m\u001b[0;34m(\u001b[0m\u001b[0;36m100\u001b[0m\u001b[0;34m,\u001b[0m\u001b[0mactivation\u001b[0m\u001b[0;34m=\u001b[0m\u001b[0;34m'relu'\u001b[0m\u001b[0;34m)\u001b[0m\u001b[0;34m\u001b[0m\u001b[0;34m\u001b[0m\u001b[0m\n\u001b[1;32m      4\u001b[0m \u001b[0md2\u001b[0m \u001b[0;34m=\u001b[0m \u001b[0mlayers\u001b[0m\u001b[0;34m.\u001b[0m\u001b[0mDense\u001b[0m\u001b[0;34m(\u001b[0m\u001b[0;36m100\u001b[0m\u001b[0;34m,\u001b[0m\u001b[0mactivation\u001b[0m\u001b[0;34m=\u001b[0m\u001b[0;34m'relu'\u001b[0m\u001b[0;34m)\u001b[0m\u001b[0;34m\u001b[0m\u001b[0;34m\u001b[0m\u001b[0m\n\u001b[1;32m      5\u001b[0m \u001b[0md3\u001b[0m \u001b[0;34m=\u001b[0m \u001b[0mlayers\u001b[0m\u001b[0;34m.\u001b[0m\u001b[0mDense\u001b[0m\u001b[0;34m(\u001b[0m\u001b[0;36m1\u001b[0m\u001b[0;34m)\u001b[0m\u001b[0;34m\u001b[0m\u001b[0;34m\u001b[0m\u001b[0m\n",
            "\u001b[0;31mNameError\u001b[0m: name 'keras' is not defined"
          ]
        }
      ]
    },
    {
      "cell_type": "code",
      "metadata": {
        "id": "S-BCYTGRMiVI"
      },
      "source": [
        "model.fit(X,Y,epochs=500)"
      ],
      "execution_count": null,
      "outputs": []
    },
    {
      "cell_type": "code",
      "metadata": {
        "id": "JdlFGByuNyEx"
      },
      "source": [
        "Z = model.predict(X)\n",
        "plt.plot(X,Z,'.r')\n",
        "plt.plot(X,Y,'.')\n",
        "plt.show()"
      ],
      "execution_count": null,
      "outputs": []
    },
    {
      "cell_type": "markdown",
      "metadata": {
        "id": "FTOrEW-yqIRj"
      },
      "source": [
        "# Load Data"
      ]
    },
    {
      "cell_type": "code",
      "metadata": {
        "id": "2zwEZGC1pcKc"
      },
      "source": [
        "df = pd.read_excel(\"/content/drive/My Drive/Set50_2.xlsx\",sep='\\t')\n"
      ],
      "execution_count": null,
      "outputs": []
    },
    {
      "cell_type": "code",
      "metadata": {
        "id": "7gXaElDBq03M"
      },
      "source": [
        "df[30:40]\n",
        "df.info()\n"
      ],
      "execution_count": null,
      "outputs": []
    },
    {
      "cell_type": "markdown",
      "metadata": {
        "id": "8lfyeyQo7pkm"
      },
      "source": [
        "# **Load Data from xlsx file**"
      ]
    },
    {
      "cell_type": "code",
      "metadata": {
        "id": "hIY9j_9Z7sKC"
      },
      "source": [
        "used_features = ['Timestamp','SMA(5)','SMA(12)','SMA(26)','MACD','MACD(10)','RSI','Money(5)']\n",
        "stock = pd.read_excel(\"/content/drive/My Drive/Set50_2.xlsx\", usecols = used_features)\n",
        "#print(stock.shape)\n",
        "stock[40:50]\n",
        "stock.info()\n",
        "\"\"\"for i in [\"SMA(5)\"]:\n",
        "  stock[i] = stock[i].map(lambda x:x.replace(\"-\",''))\n",
        "  stock[i] = stock[i].astype(float)\"\"\"\n"
      ],
      "execution_count": null,
      "outputs": []
    },
    {
      "cell_type": "code",
      "metadata": {
        "id": "jj-DrHrf-BFR"
      },
      "source": [
        "plt.title(\"SET50\")\n",
        "plt.xlabel('Timestamp')\t\n",
        "plt.ylabel('Closed')\n",
        "\"\"\"plt.plot(df.OBL, df.OSL , 'ob')\n",
        "plt.show()\t\n",
        "\"\"\""
      ],
      "execution_count": null,
      "outputs": []
    },
    {
      "cell_type": "code",
      "metadata": {
        "id": "CrkyknmhL9Mz"
      },
      "source": [
        "\"\"\"stock.info()\n",
        "stock.dtypes\n",
        "stock['SMA(5)'] = stock['SMA(5)'].astype(float)\"\"\""
      ],
      "execution_count": null,
      "outputs": []
    },
    {
      "cell_type": "markdown",
      "metadata": {
        "id": "5HiDZf1ddGO4"
      },
      "source": [
        "## **-------------Indicator-------------**\n",
        "\n",
        "\n"
      ]
    },
    {
      "cell_type": "markdown",
      "metadata": {
        "id": "Sdfsyd3MktjU"
      },
      "source": [
        "### Simple Moving Average"
      ]
    },
    {
      "cell_type": "code",
      "metadata": {
        "id": "y2lNnAsUZs-j"
      },
      "source": [
        "def sma(price_close,day):      \n",
        "    result = price_close.rolling(window=day).mean()\n",
        "    return result "
      ],
      "execution_count": null,
      "outputs": []
    },
    {
      "cell_type": "markdown",
      "metadata": {
        "id": "TIWxU8P3k2Pl"
      },
      "source": [
        "### MACD = Moving Average Convergence/Divergence"
      ]
    },
    {
      "cell_type": "code",
      "metadata": {
        "id": "RIB7olCSlGkY"
      },
      "source": [
        "def macd( slow, fast):    \n",
        "    result = slow-fast  \n",
        "    return result"
      ],
      "execution_count": null,
      "outputs": []
    },
    {
      "cell_type": "code",
      "metadata": {
        "id": "8rkcGzvgbc64"
      },
      "source": [
        "df['SMA5'] = sma(df[\"SET50.Close\"],5)\n",
        "df['SMA12'] = sma(df[\"SET50.Close\"],12)\n",
        "df['SMA26'] = sma(df[\"SET50.Close\"],26)\n",
        "\n",
        "#df.drop(columns=['sma55'],inplace=True)\n",
        "df[\"EMA12\"] = df[\"EMA(12)\"]\n",
        "\n",
        "\n",
        "df.head(10)\n",
        "\n",
        "\n",
        "\n",
        "\n"
      ],
      "execution_count": null,
      "outputs": []
    },
    {
      "cell_type": "markdown",
      "metadata": {
        "id": "FMqhkdV7OcQ1"
      },
      "source": [
        "# **features**"
      ]
    },
    {
      "cell_type": "code",
      "metadata": {
        "id": "NiShRD69M54G",
        "outputId": "f5b376e0-d077-4c99-f66e-3531b91e6c94",
        "colab": {
          "base_uri": "https://localhost:8080/",
          "height": 374
        }
      },
      "source": [
        "used_features = ['Timestamp','SET50.Open','SET50.Close','SET50.High','SET50.Low','SMA(5)','SMA(12)','SMA(26)','MACD','MACD(10)','RSI','Money','Money(5)']\n",
        "dtn = pd.read_excel(\"/content/drive/My Drive/Set50_new.csv\", usecols = used_features)\n",
        "cols={'SET50.Open':'Open','SET50.Close':'Close','SET50.High':'High','SET50.Low':'Low'}\n",
        "dtn.rename(columns=cols,inplace=True)\n",
        "dtn.Timestamp = pd.to_datetime(dtn.Timestamp)\n",
        "print(dtn.shape)\n",
        "dtn.set_index(\"Timestamp\",inplace=True)\n",
        "dtn.info()\n",
        "dtn.head(7)\n"
      ],
      "execution_count": 8,
      "outputs": [
        {
          "output_type": "error",
          "ename": "FileNotFoundError",
          "evalue": "ignored",
          "traceback": [
            "\u001b[0;31m---------------------------------------------------------------------------\u001b[0m",
            "\u001b[0;31mFileNotFoundError\u001b[0m                         Traceback (most recent call last)",
            "\u001b[0;32m<ipython-input-8-8d63df90e20e>\u001b[0m in \u001b[0;36m<module>\u001b[0;34m()\u001b[0m\n\u001b[1;32m      1\u001b[0m \u001b[0mused_features\u001b[0m \u001b[0;34m=\u001b[0m \u001b[0;34m[\u001b[0m\u001b[0;34m'Timestamp'\u001b[0m\u001b[0;34m,\u001b[0m\u001b[0;34m'SET50.Open'\u001b[0m\u001b[0;34m,\u001b[0m\u001b[0;34m'SET50.Close'\u001b[0m\u001b[0;34m,\u001b[0m\u001b[0;34m'SET50.High'\u001b[0m\u001b[0;34m,\u001b[0m\u001b[0;34m'SET50.Low'\u001b[0m\u001b[0;34m,\u001b[0m\u001b[0;34m'SMA(5)'\u001b[0m\u001b[0;34m,\u001b[0m\u001b[0;34m'SMA(12)'\u001b[0m\u001b[0;34m,\u001b[0m\u001b[0;34m'SMA(26)'\u001b[0m\u001b[0;34m,\u001b[0m\u001b[0;34m'MACD'\u001b[0m\u001b[0;34m,\u001b[0m\u001b[0;34m'MACD(10)'\u001b[0m\u001b[0;34m,\u001b[0m\u001b[0;34m'RSI'\u001b[0m\u001b[0;34m,\u001b[0m\u001b[0;34m'Money'\u001b[0m\u001b[0;34m,\u001b[0m\u001b[0;34m'Money(5)'\u001b[0m\u001b[0;34m]\u001b[0m\u001b[0;34m\u001b[0m\u001b[0;34m\u001b[0m\u001b[0m\n\u001b[0;32m----> 2\u001b[0;31m \u001b[0mdtn\u001b[0m \u001b[0;34m=\u001b[0m \u001b[0mpd\u001b[0m\u001b[0;34m.\u001b[0m\u001b[0mread_excel\u001b[0m\u001b[0;34m(\u001b[0m\u001b[0;34m\"/content/drive/My Drive/Set50_new.csv\"\u001b[0m\u001b[0;34m,\u001b[0m \u001b[0musecols\u001b[0m \u001b[0;34m=\u001b[0m \u001b[0mused_features\u001b[0m\u001b[0;34m)\u001b[0m\u001b[0;34m\u001b[0m\u001b[0;34m\u001b[0m\u001b[0m\n\u001b[0m\u001b[1;32m      3\u001b[0m \u001b[0mcols\u001b[0m\u001b[0;34m=\u001b[0m\u001b[0;34m{\u001b[0m\u001b[0;34m'SET50.Open'\u001b[0m\u001b[0;34m:\u001b[0m\u001b[0;34m'Open'\u001b[0m\u001b[0;34m,\u001b[0m\u001b[0;34m'SET50.Close'\u001b[0m\u001b[0;34m:\u001b[0m\u001b[0;34m'Close'\u001b[0m\u001b[0;34m,\u001b[0m\u001b[0;34m'SET50.High'\u001b[0m\u001b[0;34m:\u001b[0m\u001b[0;34m'High'\u001b[0m\u001b[0;34m,\u001b[0m\u001b[0;34m'SET50.Low'\u001b[0m\u001b[0;34m:\u001b[0m\u001b[0;34m'Low'\u001b[0m\u001b[0;34m}\u001b[0m\u001b[0;34m\u001b[0m\u001b[0;34m\u001b[0m\u001b[0m\n\u001b[1;32m      4\u001b[0m \u001b[0mdtn\u001b[0m\u001b[0;34m.\u001b[0m\u001b[0mrename\u001b[0m\u001b[0;34m(\u001b[0m\u001b[0mcolumns\u001b[0m\u001b[0;34m=\u001b[0m\u001b[0mcols\u001b[0m\u001b[0;34m,\u001b[0m\u001b[0minplace\u001b[0m\u001b[0;34m=\u001b[0m\u001b[0;32mTrue\u001b[0m\u001b[0;34m)\u001b[0m\u001b[0;34m\u001b[0m\u001b[0;34m\u001b[0m\u001b[0m\n\u001b[1;32m      5\u001b[0m \u001b[0mdtn\u001b[0m\u001b[0;34m.\u001b[0m\u001b[0mTimestamp\u001b[0m \u001b[0;34m=\u001b[0m \u001b[0mpd\u001b[0m\u001b[0;34m.\u001b[0m\u001b[0mto_datetime\u001b[0m\u001b[0;34m(\u001b[0m\u001b[0mdtn\u001b[0m\u001b[0;34m.\u001b[0m\u001b[0mTimestamp\u001b[0m\u001b[0;34m)\u001b[0m\u001b[0;34m\u001b[0m\u001b[0;34m\u001b[0m\u001b[0m\n",
            "\u001b[0;32m/usr/local/lib/python3.6/dist-packages/pandas/util/_decorators.py\u001b[0m in \u001b[0;36mwrapper\u001b[0;34m(*args, **kwargs)\u001b[0m\n\u001b[1;32m    294\u001b[0m                 )\n\u001b[1;32m    295\u001b[0m                 \u001b[0mwarnings\u001b[0m\u001b[0;34m.\u001b[0m\u001b[0mwarn\u001b[0m\u001b[0;34m(\u001b[0m\u001b[0mmsg\u001b[0m\u001b[0;34m,\u001b[0m \u001b[0mFutureWarning\u001b[0m\u001b[0;34m,\u001b[0m \u001b[0mstacklevel\u001b[0m\u001b[0;34m=\u001b[0m\u001b[0mstacklevel\u001b[0m\u001b[0;34m)\u001b[0m\u001b[0;34m\u001b[0m\u001b[0;34m\u001b[0m\u001b[0m\n\u001b[0;32m--> 296\u001b[0;31m             \u001b[0;32mreturn\u001b[0m \u001b[0mfunc\u001b[0m\u001b[0;34m(\u001b[0m\u001b[0;34m*\u001b[0m\u001b[0margs\u001b[0m\u001b[0;34m,\u001b[0m \u001b[0;34m**\u001b[0m\u001b[0mkwargs\u001b[0m\u001b[0;34m)\u001b[0m\u001b[0;34m\u001b[0m\u001b[0;34m\u001b[0m\u001b[0m\n\u001b[0m\u001b[1;32m    297\u001b[0m \u001b[0;34m\u001b[0m\u001b[0m\n\u001b[1;32m    298\u001b[0m         \u001b[0;32mreturn\u001b[0m \u001b[0mwrapper\u001b[0m\u001b[0;34m\u001b[0m\u001b[0;34m\u001b[0m\u001b[0m\n",
            "\u001b[0;32m/usr/local/lib/python3.6/dist-packages/pandas/io/excel/_base.py\u001b[0m in \u001b[0;36mread_excel\u001b[0;34m(io, sheet_name, header, names, index_col, usecols, squeeze, dtype, engine, converters, true_values, false_values, skiprows, nrows, na_values, keep_default_na, na_filter, verbose, parse_dates, date_parser, thousands, comment, skipfooter, convert_float, mangle_dupe_cols)\u001b[0m\n\u001b[1;32m    302\u001b[0m \u001b[0;34m\u001b[0m\u001b[0m\n\u001b[1;32m    303\u001b[0m     \u001b[0;32mif\u001b[0m \u001b[0;32mnot\u001b[0m \u001b[0misinstance\u001b[0m\u001b[0;34m(\u001b[0m\u001b[0mio\u001b[0m\u001b[0;34m,\u001b[0m \u001b[0mExcelFile\u001b[0m\u001b[0;34m)\u001b[0m\u001b[0;34m:\u001b[0m\u001b[0;34m\u001b[0m\u001b[0;34m\u001b[0m\u001b[0m\n\u001b[0;32m--> 304\u001b[0;31m         \u001b[0mio\u001b[0m \u001b[0;34m=\u001b[0m \u001b[0mExcelFile\u001b[0m\u001b[0;34m(\u001b[0m\u001b[0mio\u001b[0m\u001b[0;34m,\u001b[0m \u001b[0mengine\u001b[0m\u001b[0;34m=\u001b[0m\u001b[0mengine\u001b[0m\u001b[0;34m)\u001b[0m\u001b[0;34m\u001b[0m\u001b[0;34m\u001b[0m\u001b[0m\n\u001b[0m\u001b[1;32m    305\u001b[0m     \u001b[0;32melif\u001b[0m \u001b[0mengine\u001b[0m \u001b[0;32mand\u001b[0m \u001b[0mengine\u001b[0m \u001b[0;34m!=\u001b[0m \u001b[0mio\u001b[0m\u001b[0;34m.\u001b[0m\u001b[0mengine\u001b[0m\u001b[0;34m:\u001b[0m\u001b[0;34m\u001b[0m\u001b[0;34m\u001b[0m\u001b[0m\n\u001b[1;32m    306\u001b[0m         raise ValueError(\n",
            "\u001b[0;32m/usr/local/lib/python3.6/dist-packages/pandas/io/excel/_base.py\u001b[0m in \u001b[0;36m__init__\u001b[0;34m(self, path_or_buffer, engine)\u001b[0m\n\u001b[1;32m    865\u001b[0m         \u001b[0mself\u001b[0m\u001b[0;34m.\u001b[0m\u001b[0m_io\u001b[0m \u001b[0;34m=\u001b[0m \u001b[0mstringify_path\u001b[0m\u001b[0;34m(\u001b[0m\u001b[0mpath_or_buffer\u001b[0m\u001b[0;34m)\u001b[0m\u001b[0;34m\u001b[0m\u001b[0;34m\u001b[0m\u001b[0m\n\u001b[1;32m    866\u001b[0m \u001b[0;34m\u001b[0m\u001b[0m\n\u001b[0;32m--> 867\u001b[0;31m         \u001b[0mself\u001b[0m\u001b[0;34m.\u001b[0m\u001b[0m_reader\u001b[0m \u001b[0;34m=\u001b[0m \u001b[0mself\u001b[0m\u001b[0;34m.\u001b[0m\u001b[0m_engines\u001b[0m\u001b[0;34m[\u001b[0m\u001b[0mengine\u001b[0m\u001b[0;34m]\u001b[0m\u001b[0;34m(\u001b[0m\u001b[0mself\u001b[0m\u001b[0;34m.\u001b[0m\u001b[0m_io\u001b[0m\u001b[0;34m)\u001b[0m\u001b[0;34m\u001b[0m\u001b[0;34m\u001b[0m\u001b[0m\n\u001b[0m\u001b[1;32m    868\u001b[0m \u001b[0;34m\u001b[0m\u001b[0m\n\u001b[1;32m    869\u001b[0m     \u001b[0;32mdef\u001b[0m \u001b[0m__fspath__\u001b[0m\u001b[0;34m(\u001b[0m\u001b[0mself\u001b[0m\u001b[0;34m)\u001b[0m\u001b[0;34m:\u001b[0m\u001b[0;34m\u001b[0m\u001b[0;34m\u001b[0m\u001b[0m\n",
            "\u001b[0;32m/usr/local/lib/python3.6/dist-packages/pandas/io/excel/_xlrd.py\u001b[0m in \u001b[0;36m__init__\u001b[0;34m(self, filepath_or_buffer)\u001b[0m\n\u001b[1;32m     20\u001b[0m         \u001b[0merr_msg\u001b[0m \u001b[0;34m=\u001b[0m \u001b[0;34m\"Install xlrd >= 1.0.0 for Excel support\"\u001b[0m\u001b[0;34m\u001b[0m\u001b[0;34m\u001b[0m\u001b[0m\n\u001b[1;32m     21\u001b[0m         \u001b[0mimport_optional_dependency\u001b[0m\u001b[0;34m(\u001b[0m\u001b[0;34m\"xlrd\"\u001b[0m\u001b[0;34m,\u001b[0m \u001b[0mextra\u001b[0m\u001b[0;34m=\u001b[0m\u001b[0merr_msg\u001b[0m\u001b[0;34m)\u001b[0m\u001b[0;34m\u001b[0m\u001b[0;34m\u001b[0m\u001b[0m\n\u001b[0;32m---> 22\u001b[0;31m         \u001b[0msuper\u001b[0m\u001b[0;34m(\u001b[0m\u001b[0;34m)\u001b[0m\u001b[0;34m.\u001b[0m\u001b[0m__init__\u001b[0m\u001b[0;34m(\u001b[0m\u001b[0mfilepath_or_buffer\u001b[0m\u001b[0;34m)\u001b[0m\u001b[0;34m\u001b[0m\u001b[0;34m\u001b[0m\u001b[0m\n\u001b[0m\u001b[1;32m     23\u001b[0m \u001b[0;34m\u001b[0m\u001b[0m\n\u001b[1;32m     24\u001b[0m     \u001b[0;34m@\u001b[0m\u001b[0mproperty\u001b[0m\u001b[0;34m\u001b[0m\u001b[0;34m\u001b[0m\u001b[0m\n",
            "\u001b[0;32m/usr/local/lib/python3.6/dist-packages/pandas/io/excel/_base.py\u001b[0m in \u001b[0;36m__init__\u001b[0;34m(self, filepath_or_buffer)\u001b[0m\n\u001b[1;32m    351\u001b[0m             \u001b[0mself\u001b[0m\u001b[0;34m.\u001b[0m\u001b[0mbook\u001b[0m \u001b[0;34m=\u001b[0m \u001b[0mself\u001b[0m\u001b[0;34m.\u001b[0m\u001b[0mload_workbook\u001b[0m\u001b[0;34m(\u001b[0m\u001b[0mfilepath_or_buffer\u001b[0m\u001b[0;34m)\u001b[0m\u001b[0;34m\u001b[0m\u001b[0;34m\u001b[0m\u001b[0m\n\u001b[1;32m    352\u001b[0m         \u001b[0;32melif\u001b[0m \u001b[0misinstance\u001b[0m\u001b[0;34m(\u001b[0m\u001b[0mfilepath_or_buffer\u001b[0m\u001b[0;34m,\u001b[0m \u001b[0mstr\u001b[0m\u001b[0;34m)\u001b[0m\u001b[0;34m:\u001b[0m\u001b[0;34m\u001b[0m\u001b[0;34m\u001b[0m\u001b[0m\n\u001b[0;32m--> 353\u001b[0;31m             \u001b[0mself\u001b[0m\u001b[0;34m.\u001b[0m\u001b[0mbook\u001b[0m \u001b[0;34m=\u001b[0m \u001b[0mself\u001b[0m\u001b[0;34m.\u001b[0m\u001b[0mload_workbook\u001b[0m\u001b[0;34m(\u001b[0m\u001b[0mfilepath_or_buffer\u001b[0m\u001b[0;34m)\u001b[0m\u001b[0;34m\u001b[0m\u001b[0;34m\u001b[0m\u001b[0m\n\u001b[0m\u001b[1;32m    354\u001b[0m         \u001b[0;32melif\u001b[0m \u001b[0misinstance\u001b[0m\u001b[0;34m(\u001b[0m\u001b[0mfilepath_or_buffer\u001b[0m\u001b[0;34m,\u001b[0m \u001b[0mbytes\u001b[0m\u001b[0;34m)\u001b[0m\u001b[0;34m:\u001b[0m\u001b[0;34m\u001b[0m\u001b[0;34m\u001b[0m\u001b[0m\n\u001b[1;32m    355\u001b[0m             \u001b[0mself\u001b[0m\u001b[0;34m.\u001b[0m\u001b[0mbook\u001b[0m \u001b[0;34m=\u001b[0m \u001b[0mself\u001b[0m\u001b[0;34m.\u001b[0m\u001b[0mload_workbook\u001b[0m\u001b[0;34m(\u001b[0m\u001b[0mBytesIO\u001b[0m\u001b[0;34m(\u001b[0m\u001b[0mfilepath_or_buffer\u001b[0m\u001b[0;34m)\u001b[0m\u001b[0;34m)\u001b[0m\u001b[0;34m\u001b[0m\u001b[0;34m\u001b[0m\u001b[0m\n",
            "\u001b[0;32m/usr/local/lib/python3.6/dist-packages/pandas/io/excel/_xlrd.py\u001b[0m in \u001b[0;36mload_workbook\u001b[0;34m(self, filepath_or_buffer)\u001b[0m\n\u001b[1;32m     35\u001b[0m             \u001b[0;32mreturn\u001b[0m \u001b[0mopen_workbook\u001b[0m\u001b[0;34m(\u001b[0m\u001b[0mfile_contents\u001b[0m\u001b[0;34m=\u001b[0m\u001b[0mdata\u001b[0m\u001b[0;34m)\u001b[0m\u001b[0;34m\u001b[0m\u001b[0;34m\u001b[0m\u001b[0m\n\u001b[1;32m     36\u001b[0m         \u001b[0;32melse\u001b[0m\u001b[0;34m:\u001b[0m\u001b[0;34m\u001b[0m\u001b[0;34m\u001b[0m\u001b[0m\n\u001b[0;32m---> 37\u001b[0;31m             \u001b[0;32mreturn\u001b[0m \u001b[0mopen_workbook\u001b[0m\u001b[0;34m(\u001b[0m\u001b[0mfilepath_or_buffer\u001b[0m\u001b[0;34m)\u001b[0m\u001b[0;34m\u001b[0m\u001b[0;34m\u001b[0m\u001b[0m\n\u001b[0m\u001b[1;32m     38\u001b[0m \u001b[0;34m\u001b[0m\u001b[0m\n\u001b[1;32m     39\u001b[0m     \u001b[0;34m@\u001b[0m\u001b[0mproperty\u001b[0m\u001b[0;34m\u001b[0m\u001b[0;34m\u001b[0m\u001b[0m\n",
            "\u001b[0;32m/usr/local/lib/python3.6/dist-packages/xlrd/__init__.py\u001b[0m in \u001b[0;36mopen_workbook\u001b[0;34m(filename, logfile, verbosity, use_mmap, file_contents, encoding_override, formatting_info, on_demand, ragged_rows)\u001b[0m\n\u001b[1;32m    114\u001b[0m         \u001b[0mpeek\u001b[0m \u001b[0;34m=\u001b[0m \u001b[0mfile_contents\u001b[0m\u001b[0;34m[\u001b[0m\u001b[0;34m:\u001b[0m\u001b[0mpeeksz\u001b[0m\u001b[0;34m]\u001b[0m\u001b[0;34m\u001b[0m\u001b[0;34m\u001b[0m\u001b[0m\n\u001b[1;32m    115\u001b[0m     \u001b[0;32melse\u001b[0m\u001b[0;34m:\u001b[0m\u001b[0;34m\u001b[0m\u001b[0;34m\u001b[0m\u001b[0m\n\u001b[0;32m--> 116\u001b[0;31m         \u001b[0;32mwith\u001b[0m \u001b[0mopen\u001b[0m\u001b[0;34m(\u001b[0m\u001b[0mfilename\u001b[0m\u001b[0;34m,\u001b[0m \u001b[0;34m\"rb\"\u001b[0m\u001b[0;34m)\u001b[0m \u001b[0;32mas\u001b[0m \u001b[0mf\u001b[0m\u001b[0;34m:\u001b[0m\u001b[0;34m\u001b[0m\u001b[0;34m\u001b[0m\u001b[0m\n\u001b[0m\u001b[1;32m    117\u001b[0m             \u001b[0mpeek\u001b[0m \u001b[0;34m=\u001b[0m \u001b[0mf\u001b[0m\u001b[0;34m.\u001b[0m\u001b[0mread\u001b[0m\u001b[0;34m(\u001b[0m\u001b[0mpeeksz\u001b[0m\u001b[0;34m)\u001b[0m\u001b[0;34m\u001b[0m\u001b[0;34m\u001b[0m\u001b[0m\n\u001b[1;32m    118\u001b[0m     \u001b[0;32mif\u001b[0m \u001b[0mpeek\u001b[0m \u001b[0;34m==\u001b[0m \u001b[0;34mb\"PK\\x03\\x04\"\u001b[0m\u001b[0;34m:\u001b[0m \u001b[0;31m# a ZIP file\u001b[0m\u001b[0;34m\u001b[0m\u001b[0;34m\u001b[0m\u001b[0m\n",
            "\u001b[0;31mFileNotFoundError\u001b[0m: [Errno 2] No such file or directory: '/content/drive/My Drive/Set50_new.csv'"
          ]
        }
      ]
    },
    {
      "cell_type": "markdown",
      "metadata": {
        "id": "bM8MNfZPOxh8"
      },
      "source": [
        "### Check for Null value and preprocessing data"
      ]
    },
    {
      "cell_type": "code",
      "metadata": {
        "id": "a6lCBx5aOqSh"
      },
      "source": [
        "for feature in ['Open','Close','High','Low','SMA(5)','SMA(12)','SMA(26)','MACD','MACD(10)','RSI','Money','Money(5)']:\n",
        "    if dtn[feature].isnull().values.any():\n",
        "        print (feature)"
      ],
      "execution_count": null,
      "outputs": []
    },
    {
      "cell_type": "code",
      "metadata": {
        "id": "7AxbKrP0O1rK"
      },
      "source": [
        "for feature in ['Open','Close','High','Low','SMA(5)','SMA(12)','SMA(26)','MACD','MACD(10)','RSI','Money','Money(5)']:\n",
        "    dtn[feature].fillna(dtn[feature].median(),inplace = True)"
      ],
      "execution_count": null,
      "outputs": []
    },
    {
      "cell_type": "code",
      "metadata": {
        "id": "V-jGSpTnP3h8"
      },
      "source": [
        "dtn.head(30)\n"
      ],
      "execution_count": null,
      "outputs": []
    },
    {
      "cell_type": "code",
      "metadata": {
        "id": "lNB-Brgu4mH4"
      },
      "source": [
        "dtn.Close.plot(figsize=(20,10))\n",
        "plt.xlabel(\"Date\")\n",
        "plt.ylabel(\"Close\")     \n",
        "plt.show()\n"
      ],
      "execution_count": null,
      "outputs": []
    },
    {
      "cell_type": "markdown",
      "metadata": {
        "id": "7PkMUOYnAEBH"
      },
      "source": [
        "**2019-2020**\n"
      ]
    },
    {
      "cell_type": "code",
      "metadata": {
        "id": "IDfjwlxxACfj"
      },
      "source": [
        "dtn2=dtn.loc['2019':'2020-01'].Close.plot(grid=True,figsize=(20,10))\n",
        "plt.xlabel(\"Date\")\n",
        "plt.ylabel(\"Close\")\n",
        "plt.show()\n",
        "#['Open','Close','High','Low','SMA(5)','SMA(12)','SMA(26)','MACD','MACD(10)','RSI','Money','Money(5)']:\n"
      ],
      "execution_count": null,
      "outputs": []
    },
    {
      "cell_type": "code",
      "metadata": {
        "id": "g1wd6huF2iJX"
      },
      "source": [
        "import seaborn as sns \n",
        "corr_val = dtn.corr().round(2)\n",
        "sns.heatmap(corr_val,annot=True,cmap='coolwarm')"
      ],
      "execution_count": null,
      "outputs": []
    },
    {
      "cell_type": "code",
      "metadata": {
        "id": "_rnAjKj83NZx"
      },
      "source": [
        "def series_to_supervised(data, n_in=1, n_out=1, dropnan=True,feat_name=None):\n",
        "    \n",
        "    n_vars = 1 if type(data) is list else data.shape[1]\n",
        "    df = pd.DataFrame(data)\n",
        "    cols, names = list(), list()\n",
        "    \n",
        "    # input sequence (t-n, ... t-1)\n",
        "    for i in range(n_in, 0, -1):\n",
        "        cols.append(df.shift(i))\n",
        "        names += [f'{feat_name[j]}(t-{i})' for j in range(n_vars)]\n",
        "    \n",
        "    # forecast sequence (t, t+1, ... t+n)\n",
        "    for i in range(0, n_out):\n",
        "        cols.append(df.shift(-i))\n",
        "        if i == 0:\n",
        "            names += [f'{feat_name[j]}(t)' for j in range(n_vars)]\n",
        "        else:\n",
        "            names += [f'{feat_name[j]}(t+{i})' for j in range(n_vars)]\n",
        "    \n",
        "    # put it all together\n",
        "    agg = pd.concat(cols, axis=1)\n",
        "    agg.columns = names\n",
        "    \n",
        "    # drop rows with NaN values\n",
        "    if dropnan:\n",
        "        agg.dropna(inplace=True)\n",
        "    return agg\n",
        "\n",
        "\n",
        "# เลือกข้อมูลหุ้นจาก list ของ DataFrame และ drop column 'Close' เนื่องจากเราจะใช้ column 'Adj. Close' เท่านั้น\n",
        "\n",
        "dataset = dtn\n",
        "values = dataset.values\n",
        "values = values.astype('float32')\n",
        "\n",
        "# ทำ scaling ข้อมูลด้วยวิธี min max scaling เปลี่ยน scale ข้อมูลแต่ละ column ให้อยู่ระหว่าง [0,1] และเก็บค่า min max แต่ละ column ไว้สำหรับทำ rescale ข้อมูลภายหลัง\n",
        "min_dict = dict()\n",
        "max_dict = dict()\n",
        "for col in dataset.columns:\n",
        "  min_dict[col] = dataset[col].min()\n",
        "  max_dict[col] = dataset[col].max()\n",
        "  dataset[col] = (dataset[col] - dataset[col].min())/(dataset[col].max()-dataset[col].min())\n",
        "  \n",
        "# ใช้ function สำหรับ preprocess ข้อมูลที่เขียนไว้ และ drop column ที่ไม่ได้ใช้\n",
        "reframed = series_to_supervised(dataset.values, 30, 3,feat_name=dtn.columns)\n",
        "reframed.drop(['High(t)','High(t+1)','High(t+2)',\n",
        "               'Low(t)','Low(t+1)','Low(t+2)',\n",
        "               'Open(t)','Open(t+1)','Open(t+2)',\n",
        "               'SMA(12)(t)','SMA(12)(t+1)','SMA(12)(t+2)',\n",
        "               'SMA(26)(t)','SMA(26)(t+1)','SMA(26)(t+2)',\n",
        "               'MACD(t)','MACD(t+1)','MACD(t+2)',\n",
        "               'MACD(10)(t)','MACD(10)(t+1)','MACD(10)(t+2)',\n",
        "                'RSI(t)','RSI(t+1)','RSI(t+2)',\n",
        "               'Money(t)','Money(t+1)','Money(t+2)',\n",
        "               'Money(5)(t)','Money(5)(t+1)','Money(5)(t+2)',\n",
        "               'SMA(5)(t)','SMA(5)(t+1)','SMA(5)(t+2)'],axis=1,inplace=True)"
      ],
      "execution_count": null,
      "outputs": []
    },
    {
      "cell_type": "code",
      "metadata": {
        "id": "auM7Sg_r5Q18"
      },
      "source": [
        "reframed.head()\n"
      ],
      "execution_count": null,
      "outputs": []
    },
    {
      "cell_type": "code",
      "metadata": {
        "id": "p-owhgIy0sw9"
      },
      "source": [
        "# ทำ train & test split\n",
        "values = reframed.values\n",
        "n_train_percent = 0.9\n",
        "split = int(values.shape[0]*0.9)\n",
        "train = values[:split, :]\n",
        "test = values[split:, :]\n",
        "\n",
        "# เก็บค่า datetime ของ train & test\n",
        "date_reframed = dataset.index[reframed.index]\n",
        "date_train = date_reframed[:split]\n",
        "date_test = date_reframed[split:]\n",
        "\n",
        "# split feature และ target\n",
        "train_X, train_y = train[:, :-3], train[:, -3:]\n",
        "test_X, test_y = test[:, :-3], test[:, -3:]\n",
        "\n",
        "# reshape input ให้เป็น 3D (samples, timesteps, features)\n",
        "train_X = train_X.reshape((train_X.shape[0], 1, train_X.shape[1]))\n",
        "test_X = test_X.reshape((test_X.shape[0], 1, test_X.shape[1]))"
      ],
      "execution_count": null,
      "outputs": []
    },
    {
      "cell_type": "code",
      "metadata": {
        "id": "MC_WjdsEtGYy"
      },
      "source": [
        "from keras.models import Sequential\n",
        "from keras.layers import Dense\n",
        "from keras.layers import LSTM\n",
        "\n",
        "# สร้าง LSTM network ด้วย library Keras โดยกำหนดขนาด hidden layer(50) และ shape ของข้อมูล input(#rows x #features)\n",
        "model = Sequential()\n",
        "model.add(LSTM(200, input_shape=(train_X.shape[1], train_X.shape[2])))\n",
        "# สร้าง hidden layer ตามขนาด output หรือ จำนวนวันที่ต้องการ forecast (3) \n",
        "model.add(Dense(3))\n",
        "model.compile(loss='mae', optimizer='adam')\n",
        "\n",
        "# train โมเดล และเก็บ log\n",
        "history = model.fit(train_X, train_y, epochs=10, batch_size=72, validation_data=(test_X, test_y), verbose=2, shuffle=False)\n",
        "\n",
        "# พล็อตค่า train&test loss\n",
        "plt.plot(history.history['loss'], label='train')\n",
        "plt.plot(history.history['val_loss'], label='test')\n",
        "plt.legend()\n",
        "plt.show()"
      ],
      "execution_count": null,
      "outputs": []
    },
    {
      "cell_type": "code",
      "metadata": {
        "id": "VPoAWSRcIec0"
      },
      "source": [
        "from sklearn.metrics import  mean_squared_error,mean_absolute_error,r2_score\n",
        "y_predict = model.predict(test_X)\n",
        "mean_absolute_error(test_y,y_predict)"
      ],
      "execution_count": null,
      "outputs": []
    },
    {
      "cell_type": "code",
      "metadata": {
        "id": "mVzNDyyU-aGz"
      },
      "source": [
        "# ทำ prediction\n",
        "yhat = model.predict(test_X)\n",
        "test_X = test_X.reshape((test_X.shape[0], test_X.shape[2]))\n",
        "\n",
        "# rescale ข้อมูลกลับ\n",
        "inv_yhat = yhat*(max_dict['Close']-min_dict['Close'])+min_dict['Close']\n",
        "inv_y = test_y*(max_dict['Close']-min_dict['Close'])+min_dict['Close']\n",
        "\n",
        "# พล็อตราคาจริงของวันที่ทำ prediction ล่วงหน้า 3 วัน + ราคาย้อนหลัง 30 วัน (สีน้ำเงิน) และ ราคา forecast (สีแดง)\n",
        "import numpy as np\n",
        "idx = np.random.randint(0,len(yhat-3))\n",
        "if idx <30:\n",
        "  date_actual = date_test[:idx+3]\n",
        "else:\n",
        "  date_actual = date_test[idx-30:idx+3]\n",
        "  \n",
        "  plt.plot(date_actual,inv_y[max(0,idx-30):idx+3,0],'b')\n",
        "  plt.plot(date_test[idx:idx+3],inv_yhat[idx],'r')"
      ],
      "execution_count": null,
      "outputs": []
    },
    {
      "cell_type": "markdown",
      "metadata": {
        "id": "194Vgov6QGV7"
      },
      "source": [
        "## Condition\n",
        "    1) หากมูลค่าตามราคาตลาดมีค่ามากกว่ามูลค่าตามราคาตลาดเฉลี่ยระยะเวลา 5วัน จะเข้าเงื่อนไขในกฎข้อ 2, 3 และ 4 ต่อไป เพื่อให้ความสนใจในกรณีการแลกเปลี่ยนซื้อขายที่มีขนาดกลางไปจนถึงขนาดใหญ่ และในกรณีที่มูลค่าตามตลาดในขณะนั้น มีค่านอ้ยกว่ามูลค่าตามตลาดเฉลี่ยระยะเวลา 5 วันหรือเกิดการแลกเปลี่ยนซื้อขายขนาดเล็ก ก็จะทำาการถือหลักทรัพย์นั้นไว้และไม่ทำ การขายหรือซ้ือเพิ่มในกรณีที่มีหลักทรัพย์นั้นในการครอบครอง\n",
        "    2) หากราคาปิดของหลักทรัพย์มีค่ามากกว่าราคาปิดของหลักทรัพย์เฉลี่ยระยะเวลา 5วัน จะทำ การซ้ือหลักทรัพย์น้นัและในกรณีหากราคาปิดของหลักทรัพย์มีค่าน้อยกว่าราคาปิ ดของหลักทรัพย์เฉลี่ยระยะเวลา 5 วัน จะท าการขายหลักทรัพย์น้นั18\n",
        "    3) หากค่า MACD เป็นบวก ซึ่งมีค่า EMA(12) มากกว่า EMA(26) แสดงว่า ทิศทางแนวโน้มของราคาหลักทรัพย์ และแรงส่งของราคาหลักทรัพย์ กำลังอยู่ในช่วงขาขึ้น จะทำ การขายหลักทรัพย์นั้น และในกรณีค่า MACD เป็นลบซึ่งมีค่า EMA(12)น้อยกว่า EMA(26) แสดงว่า ทิศทางแนวโน้มของราคาหลักทรัพย์และแรงส่งของราคาหลักทรัพย์กำลังอยู่ในช่วงขาลง และใน 2 กรณีที่กล่าวมาข้างต้น โอกาสที่ค่าMACD จะเปลี่ยนจากบวกเป็นลบหรือลบเป็นบวกเกิดข้ึนไดน้อ้ยมากหรืออาจเกิดได้ช้า ซึ่งราคาของหลักทรัพย์อาจจะตกหรือข้ึนไปมากแลว้ เพื่อเพิ่มโอกาสในการทา กา ไร ผูว้ิจยัจึงไดเ้พิ่มกฏยอ่ ยเขา้ไปว่า หากค่า MACD มีค่าเป็ นบวก และค่าMACD มากกว่า MACD เฉลี่ย ระยะเวลา 10 วนั จะทา การซ้ือหลักทรัพย์น้น ใน ักรณีหากค่า MACD มีค่าเป็ นบวกและค่า MACD น้อยกว่า MACD เฉลี่ยระยะเวลา10 วัน จะท าการขายหลักทรัพย์น้นั และในกรณีหากค่า MACD มีค่าเป็ นลบ จะท าการขายหลักทรัพย์น้นั\n",
        "    4) หากค่า RSI น้อยกว่า 30 แสดงว่าหลักทรัพย์น้นัอาจมีแนวโนม้ ในการพลิกจากช่วงขาลงมาเป็ นช่วงขาข้ึนได้ และในกรณีหากค่า RSI มากกว่า 70 หลักทรัพย์น้นัอาจมีแนวโนม้ ในการพลิกจากช่วงขาข้ึนมาเป็นช่วงขาลงได้ผูว้ิจยัจึงคิดกฏว่า หากจะทาการซ้ือหลักทรัพย์น้นั ไดก้็ต่อเมอื่ ค่า RSI น้อยกว่า 70 และในกรณีจะขายหลักทรัพย์น้นั จะสามารถขายได้เมื่อค่า RSI มากกว่า 30จากเงื่อนไขที่กล่าวมาข้างต้น หากเข้าเงื่อนไขตามกฎข้อ1 คือ \n",
        "\n",
        "\n",
        "\n",
        "---\n",
        "\n",
        "    มูลค่าตามราคาตลาดมีค่ามากกว่ามูลค่าตามราคาตลาดเฉลี่ยระยะเวลา 5 วัน จะสามารถสรุปการเพิ่มค่ากลุ่มแนวโนม้ของหลักทรัพย์ได้ดังนี้\n",
        "    1) หากเงื่อนไขจากกฎข้อ 2, 3 และ 4 ท้้ง 3 ข้อ ตรงกบั เงื่อนไขการซ้ือ จะเพิ่มค่ากลุ่มแนวโน้มของหลักทรัพย์เป็นการแนะนำให้ซ้ือหลักทรัพย์น้้น ในวัดถัดไป\n",
        "    2) หากเงื่อนไขจากกฎข้อ 2, 3และ 4 ท้งั 3ขอ้ ตรงกบั เงื่อนไขการขาย จะเพิ่มค่ากลุ่มแนวโน้มของหลักทรัพย์เป็ นการแนะน าให้ขายหลักทรัพย์น้นั ในวนัถดัไป\n",
        "    3) หากเงื่อนไขจากกฎข้อ 2, 3 และ 4 ท้งั 3 ขอ้ ไม่ตรงเงื่อนไขซ้ือหรือเงื่อนไขขายท้งัหมด จะไม่กระทา การใดๆ หรือทา การถือหลักทรัพย์น้นั ไวใ้นกรณีที่มีหลักทรัพย์น้นัอยใู่ นการครอบครอง19และหากไม่เข้าเงื่อนไขตามกฎข้อ 1 คือ มูลค่าตามราคาตลาดมีค่าน้อยกว่ามูลค่าตามราคาตลาดเฉลี่ยระยะเวลา 5 วัน จะไม่กระท าการใดๆ หรือท าการถือหลักทรัพย์น้นั ไวใ้นกรณีที่มีหลักทรัพย์น้นัอยใู่ นการครอบครอง\n"
      ]
    },
    {
      "cell_type": "code",
      "metadata": {
        "id": "wbDfTKn7QF1c"
      },
      "source": [
        "def sel(money,money5):\n",
        "  if money < money5:\n",
        "      result = 'Stay'\n",
        "  else:\n",
        "      if close > close5:\n",
        "         result = 'Buy'\n",
        "      else:\n",
        "          result = \"Sell\"\n",
        "      if macd>=0.0:\n",
        "          result = \"Buy\"\n",
        "      else:\n",
        "          result = \"Sell\"\n",
        "      if rsi >30 and rsi <70:\n",
        "          result = 'Buy'\n",
        "      else:\n",
        "          result = \"Sell\"\n",
        "  return result\n",
        "    "
      ],
      "execution_count": null,
      "outputs": []
    },
    {
      "cell_type": "code",
      "metadata": {
        "id": "-vSfs-XQexih"
      },
      "source": [
        "plt.plot(dtn[\"SET50.Close\"],dtn[\"SET50.Open\"])\n",
        "\n",
        "plt.title('SET50')\n",
        "plt.xlabel('X axis')\n",
        "plt.ylabel('Y axis')\n",
        "\n",
        "plt.show()\n",
        "\n"
      ],
      "execution_count": null,
      "outputs": []
    },
    {
      "cell_type": "code",
      "metadata": {
        "id": "Nflb7Jozi0wm"
      },
      "source": [
        "sel(dtn[\"Money\"][2],dtn[\"Money(5)\"][2])"
      ],
      "execution_count": null,
      "outputs": []
    },
    {
      "cell_type": "markdown",
      "metadata": {
        "id": "v-bUywURmzKx"
      },
      "source": [
        "# Train"
      ]
    },
    {
      "cell_type": "code",
      "metadata": {
        "id": "rHsDrZ1QnJ7U"
      },
      "source": [
        "def encode_mysignal(signal, predict=\"up\"):\n",
        "  if predict==\"up\":    \n",
        "    signal[signal < 4] = 0 \n",
        "    signal[signal == 4] = 1 # สนใจราคาขึ้นมากสุด 4 วันติดกัน\n",
        "\n",
        "  elif predict==\"down\":\n",
        "    signal[signal > 0] = 1     \n",
        "    signal[signal==0] = 0 # สนใจราคาลงมากสุด 4 วันติดกัน\n",
        "\n",
        "  return signal\n",
        "\n",
        "signal = my_signal(dtn['SET50.Close'])\n",
        "\n",
        "# ปรับตำแหน่งแถวของ ข้อมูล กับ signal ให้สอดคล้องกัน\n",
        "signal = signal.shift(-2) # shift ขึ้นไปสองแถว\n",
        "signal = signal.fillna(0) # ยังมี NaN อยู่แถวแรก แก้ให้เป็น 0\n",
        "signal = signal[:-2] # cut tail that is NaN\n",
        "\n",
        "signal = encode_mysignal(signal, predict=\"up\")\n",
        "\n",
        "df_new = dtn[:-2] # ตัดให้เหลือแถวเท่ากับ signal\n",
        "\n",
        "assert len(df_new) == len(data[stock_name]) - 2\n",
        "assert len(signal) == len(data[stock_name]) - 2\n",
        "assert len(df_new) == len(signal)\n",
        "\n",
        "\n",
        "print(np.shape(df_new))\n",
        "print(np.shape(signal))"
      ],
      "execution_count": null,
      "outputs": []
    },
    {
      "cell_type": "code",
      "metadata": {
        "id": "zvDhv32Am4iK"
      },
      "source": [
        "from sklearn.preprocessing import MinMaxScaler\n",
        "sc = MinMaxScaler(feature_range = (0, 1))\n",
        "df_scaled = sc.fit_transform(dtn)\n",
        "\n",
        "assert np.shape(df_scaled)  == np.shape(dtn)\n",
        "\n",
        "labels = signal.to_numpy()\n",
        "assert len(df_scaled) == len(labels)"
      ],
      "execution_count": null,
      "outputs": []
    },
    {
      "cell_type": "markdown",
      "metadata": {
        "id": "h7S1dwwC6Sgj"
      },
      "source": [
        "# PULL Stock #ยังไม่ได้"
      ]
    },
    {
      "cell_type": "code",
      "metadata": {
        "id": "qG5rKjZF6PEn"
      },
      "source": [
        "%%capture\n",
        "!pip install starfishX\n",
        "\n",
        "# Import all necessary packages\n",
        "import starfishX as sx\n",
        "import pandas as pd\n",
        "from pandas_datareader import data\n",
        "import matplotlib.pyplot as plt\n",
        "%matplotlib inline\n",
        "%config InlineBackend.figure_format = 'svg'\n",
        "pd.options.display.float_format = '{:,.2f}'.format"
      ],
      "execution_count": null,
      "outputs": []
    },
    {
      "cell_type": "code",
      "metadata": {
        "id": "dnn_DuzTbgts"
      },
      "source": [
        "df = data.DataReader('^SET50.BK',data_source='yahoo')\n",
        "df.head()"
      ],
      "execution_count": null,
      "outputs": []
    },
    {
      "cell_type": "code",
      "metadata": {
        "id": "JBs7h5Rm853q"
      },
      "source": [
        "df.info()"
      ],
      "execution_count": null,
      "outputs": []
    },
    {
      "cell_type": "code",
      "metadata": {
        "id": "K_Cxt2-j8_Jk"
      },
      "source": [
        "df.describe()"
      ],
      "execution_count": null,
      "outputs": []
    },
    {
      "cell_type": "code",
      "metadata": {
        "id": "86YJeWla9B7u"
      },
      "source": [
        "df.head()"
      ],
      "execution_count": null,
      "outputs": []
    },
    {
      "cell_type": "code",
      "metadata": {
        "id": "GlFzrVsZ9FkH"
      },
      "source": [
        "# A quick look at stock price\n",
        "df.Close.plot(figsize=(15,5))\n",
        "plt.title('Symbol: {}'.format(stock_symbol))\n",
        "plt.grid()\n",
        "plt.legend();"
      ],
      "execution_count": null,
      "outputs": []
    },
    {
      "cell_type": "code",
      "metadata": {
        "id": "hapGIuWb9qTr"
      },
      "source": [
        " #decompose trend, seasonal, and residual\n",
        "from statsmodels.tsa.seasonal import seasonal_decompose\n",
        "\n",
        "df_decom = seasonal_decompose(df.CLOSE, model='additive',freq=30)\n",
        "\n",
        "df_decom.plot();"
      ],
      "execution_count": null,
      "outputs": []
    },
    {
      "cell_type": "markdown",
      "metadata": {
        "id": "7-ntinh0af07"
      },
      "source": [
        "# New"
      ]
    },
    {
      "cell_type": "code",
      "metadata": {
        "id": "F0EQLKH3ajlA"
      },
      "source": [
        "sed_features = ['Timestamp','SET50.Open','SET50.Close','SET50.High','SET50.Low','SMA(5)','SMA(12)','SMA(26)','MACD','MACD(10)','RSI','Money','Money(5)']\n",
        "dtn = pd.read_excel(\"/content/drive/My Drive/Set50.xlsx\", usecols = used_features)\n",
        "cols={'SET50.Open':'Open','SET50.Close':'Close','SET50.High':'High','SET50.Low':'Low'}\n",
        "dtn.rename(columns=cols,inplace=True)\n",
        "dtn.Timestamp = pd.to_datetime(dtn.Timestamp)\n",
        "print(dtn.shape)\n",
        "dtn.set_index(\"Timestamp\",inplace=True)\n",
        "dtn.info()\n",
        "dtn.head(7)\n"
      ],
      "execution_count": null,
      "outputs": []
    }
  ]
}