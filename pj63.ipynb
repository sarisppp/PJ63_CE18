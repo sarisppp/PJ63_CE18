{
  "nbformat": 4,
  "nbformat_minor": 0,
  "metadata": {
    "colab": {
      "name": "pj63.ipynb",
      "provenance": [],
      "collapsed_sections": [
        "xz2AKzHK5loP"
      ],
      "include_colab_link": true
    },
    "kernelspec": {
      "name": "python3",
      "display_name": "Python 3"
    },
    "accelerator": "GPU"
  },
  "cells": [
    {
      "cell_type": "markdown",
      "metadata": {
        "id": "view-in-github",
        "colab_type": "text"
      },
      "source": [
        "<a href=\"https://colab.research.google.com/github/sarisppp/PJ63_CE18/blob/master/pj63.ipynb\" target=\"_parent\"><img src=\"https://colab.research.google.com/assets/colab-badge.svg\" alt=\"Open In Colab\"/></a>"
      ]
    },
    {
      "cell_type": "code",
      "metadata": {
        "id": "g3EoKo4E5TmB",
        "outputId": "d37a21d7-5c61-4439-a122-25f589d9a2f4",
        "colab": {
          "base_uri": "https://localhost:8080/",
          "height": 17
        }
      },
      "source": [
        "\"\"\"\n",
        "%tensorflow_version 2.x\n",
        "import tensorflow as tf\n",
        "import numpy as np\n",
        "import pandas as pd \n",
        "from matplotlib import pyplot as plt\n",
        "\n",
        "from tensorflow import  keras\n",
        "from tensorflow.keras import layers\"\"\"\n",
        "\n",
        "import os, sys\n",
        "import os.path\n",
        "import numpy as np\n",
        "import pandas as pd\n",
        "import datetime \n",
        "\n",
        "#pd.core.common.is_list_like = pd.api.types.is_list_like\n",
        "\n",
        "from pandas_datareader import data as pdr\n",
        "from tqdm import tqdm, trange\n",
        "\n",
        "import matplotlib.pyplot as plt\n",
        "import pandas as pd\n",
        "from IPython.core.display import display, HTML\n",
        "\n",
        "display(HTML(\"<style>.container { width:90% !important; }</style>\"))\n",
        "pd.options.display.max_columns = 999\n",
        "pd.options.display.max_rows = 999"
      ],
      "execution_count": 1,
      "outputs": [
        {
          "output_type": "display_data",
          "data": {
            "text/html": [
              "<style>.container { width:90% !important; }</style>"
            ],
            "text/plain": [
              "<IPython.core.display.HTML object>"
            ]
          },
          "metadata": {
            "tags": []
          }
        }
      ]
    },
    {
      "cell_type": "code",
      "metadata": {
        "id": "6S3ngn-Aqaf_"
      },
      "source": [
        "from google.colab import drive\n",
        "drive.mount('/content/drive')"
      ],
      "execution_count": null,
      "outputs": []
    },
    {
      "cell_type": "markdown",
      "metadata": {
        "id": "xz2AKzHK5loP"
      },
      "source": [
        "## **Test**"
      ]
    },
    {
      "cell_type": "code",
      "metadata": {
        "id": "brJZAe8d506x"
      },
      "source": [
        "N = 100\n",
        "X = np.random.rand(N,1)\n",
        "Y = np.sin(2 * np.pi * X) + 0.4 * np.random.rand(N,1)\n",
        "plt.plot(X,Y,'.')\n",
        "plt.show()"
      ],
      "execution_count": null,
      "outputs": []
    },
    {
      "cell_type": "code",
      "metadata": {
        "id": "MP1KuEKX6It7"
      },
      "source": [
        "#  1-100-100-1\n",
        "inputs = keras.Input(shape=(1,))\n",
        "d1 = layers.Dense(100,activation='relu')\n",
        "d2 = layers.Dense(100,activation='relu')\n",
        "d3 = layers.Dense(1)\n",
        "outputs = d3(d2(d1(inputs)))\n",
        "model = keras.Model(inputs,outputs)\n",
        "model.compile(optimizer=keras.optimizers.SGD(learning_rate=0.1),loss=keras.losses.MeanSquaredError())\n",
        "\n",
        "\n",
        "\n",
        "\n"
      ],
      "execution_count": null,
      "outputs": []
    },
    {
      "cell_type": "code",
      "metadata": {
        "id": "S-BCYTGRMiVI"
      },
      "source": [
        "model.fit(X,Y,epochs=500)"
      ],
      "execution_count": null,
      "outputs": []
    },
    {
      "cell_type": "code",
      "metadata": {
        "id": "JdlFGByuNyEx"
      },
      "source": [
        "Z = model.predict(X)\n",
        "plt.plot(X,Z,'.r')\n",
        "plt.plot(X,Y,'.')\n",
        "plt.show()"
      ],
      "execution_count": null,
      "outputs": []
    },
    {
      "cell_type": "markdown",
      "metadata": {
        "id": "FTOrEW-yqIRj"
      },
      "source": [
        "# Load Data"
      ]
    },
    {
      "cell_type": "code",
      "metadata": {
        "id": "2zwEZGC1pcKc"
      },
      "source": [
        "df = pd.read_excel(\"/content/drive/My Drive/Set50_2.xlsx\",sep='\\t')\n"
      ],
      "execution_count": null,
      "outputs": []
    },
    {
      "cell_type": "code",
      "metadata": {
        "id": "7gXaElDBq03M"
      },
      "source": [
        "df[30:40]\n",
        "df.info()\n"
      ],
      "execution_count": null,
      "outputs": []
    },
    {
      "cell_type": "markdown",
      "metadata": {
        "id": "8lfyeyQo7pkm"
      },
      "source": [
        "# **Load Data from xlsx file**"
      ]
    },
    {
      "cell_type": "code",
      "metadata": {
        "id": "hIY9j_9Z7sKC"
      },
      "source": [
        "used_features = ['Timestamp','SMA(5)','SMA(12)','SMA(26)','MACD','MACD(10)','RSI','Money(5)']\n",
        "stock = pd.read_excel(\"/content/drive/My Drive/Set50_2.xlsx\", usecols = used_features)\n",
        "#print(stock.shape)\n",
        "stock[40:50]\n",
        "stock.info()\n",
        "for i in [\"SMA(5)\"]:\n",
        "  stock[i] = stock[i].map(lambda x:x.replace(\"-\",''))\n",
        "  stock[i] = stock[i].astype(float)\n"
      ],
      "execution_count": null,
      "outputs": []
    },
    {
      "cell_type": "code",
      "metadata": {
        "id": "jj-DrHrf-BFR"
      },
      "source": [
        "plt.title(\"SET50\")\n",
        "plt.xlabel('Timestamp')\t\n",
        "plt.ylabel('Closed')\n",
        "plt.plot(df.OBL, df.OSL , 'ob')\n",
        "plt.show()\t\n"
      ],
      "execution_count": null,
      "outputs": []
    },
    {
      "cell_type": "code",
      "metadata": {
        "id": "CrkyknmhL9Mz"
      },
      "source": [
        "\"\"\"stock.info()\n",
        "stock.dtypes\n",
        "stock['SMA(5)'] = stock['SMA(5)'].astype(float)\"\"\""
      ],
      "execution_count": null,
      "outputs": []
    },
    {
      "cell_type": "markdown",
      "metadata": {
        "id": "5HiDZf1ddGO4"
      },
      "source": [
        "## **-------------Indicator-------------**\n",
        "\n",
        "\n"
      ]
    },
    {
      "cell_type": "markdown",
      "metadata": {
        "id": "Sdfsyd3MktjU"
      },
      "source": [
        "### Simple Moving Average"
      ]
    },
    {
      "cell_type": "code",
      "metadata": {
        "id": "y2lNnAsUZs-j"
      },
      "source": [
        "def sma(price_close,day):      \n",
        "    result = price_close.rolling(window=day).mean()\n",
        "    return result "
      ],
      "execution_count": null,
      "outputs": []
    },
    {
      "cell_type": "markdown",
      "metadata": {
        "id": "TIWxU8P3k2Pl"
      },
      "source": [
        "### MACD = Moving Average Convergence/Divergence"
      ]
    },
    {
      "cell_type": "code",
      "metadata": {
        "id": "RIB7olCSlGkY"
      },
      "source": [
        "def macd( slow, fast):    \n",
        "    result = slow-fast  \n",
        "    return result"
      ],
      "execution_count": null,
      "outputs": []
    },
    {
      "cell_type": "code",
      "metadata": {
        "id": "8rkcGzvgbc64"
      },
      "source": [
        "df['SMA5'] = sma(df[\"SET50.Close\"],5)\n",
        "df['SMA12'] = sma(df[\"SET50.Close\"],12)\n",
        "df['SMA26'] = sma(df[\"SET50.Close\"],26)\n",
        "\n",
        "#df.drop(columns=['sma55'],inplace=True)\n",
        "df[\"EMA12\"] = df[\"EMA(12)\"]\n",
        "\n",
        "\n",
        "df.head(10)\n",
        "\n",
        "\n",
        "\n",
        "\n"
      ],
      "execution_count": null,
      "outputs": []
    },
    {
      "cell_type": "markdown",
      "metadata": {
        "id": "FMqhkdV7OcQ1"
      },
      "source": [
        "## **features**"
      ]
    },
    {
      "cell_type": "code",
      "metadata": {
        "id": "NiShRD69M54G"
      },
      "source": [
        "used_features = ['Timestamp','SET50.Open','SET50.Close','SET50.High','SET50.Low','SMA(5)','SMA(12)','SMA(26)','MACD','MACD(10)','RSI','Money','Money(5)']\n",
        "dtn = pd.read_excel(\"/content/drive/My Drive/Set50_2.xlsx\",sep='\\t', usecols = used_features)\n",
        "print(dtn.shape)\n",
        "dtn.head(7)"
      ],
      "execution_count": null,
      "outputs": []
    },
    {
      "cell_type": "markdown",
      "metadata": {
        "id": "bM8MNfZPOxh8"
      },
      "source": [
        "### Check for Null value and preprocessing data"
      ]
    },
    {
      "cell_type": "code",
      "metadata": {
        "id": "a6lCBx5aOqSh"
      },
      "source": [
        "for feature in used_features:\n",
        "    if dtn[feature].isnull().values.any():\n",
        "        print (feature)"
      ],
      "execution_count": null,
      "outputs": []
    },
    {
      "cell_type": "code",
      "metadata": {
        "id": "7AxbKrP0O1rK"
      },
      "source": [
        "for feature in ['SET50.Open','SET50.Close','SET50.High','SET50.Low','SMA(5)','SMA(12)','SMA(26)','MACD','MACD(10)','RSI','Money','Money(5)']:\n",
        "    dtn[feature].fillna(dtn[feature].median(),inplace = True)"
      ],
      "execution_count": null,
      "outputs": []
    },
    {
      "cell_type": "code",
      "metadata": {
        "id": "V-jGSpTnP3h8"
      },
      "source": [
        "dtn.head(30)\n"
      ],
      "execution_count": null,
      "outputs": []
    },
    {
      "cell_type": "markdown",
      "metadata": {
        "id": "194Vgov6QGV7"
      },
      "source": [
        "## Condition\n",
        "    1) หากมูลค่าตามราคาตลาดมีค่ามากกว่ามูลค่าตามราคาตลาดเฉลี่ยระยะเวลา 5วัน จะเข้าเงื่อนไขในกฎข้อ 2, 3 และ 4 ต่อไป เพื่อให้ความสนใจในกรณีการแลกเปลี่ยนซื้อขายที่มีขนาดกลางไปจนถึงขนาดใหญ่ และในกรณีที่มูลค่าตามตลาดในขณะนั้น มีค่านอ้ยกว่ามูลค่าตามตลาดเฉลี่ยระยะเวลา 5 วันหรือเกิดการแลกเปลี่ยนซื้อขายขนาดเล็ก ก็จะทำาการถือหลักทรัพย์นั้นไว้และไม่ทำ การขายหรือซ้ือเพิ่มในกรณีที่มีหลักทรัพย์นั้นในการครอบครอง\n",
        "    2) หากราคาปิดของหลักทรัพย์มีค่ามากกว่าราคาปิดของหลักทรัพย์เฉลี่ยระยะเวลา 5วัน จะทำ การซ้ือหลักทรัพย์น้นัและในกรณีหากราคาปิดของหลักทรัพย์มีค่าน้อยกว่าราคาปิ ดของหลักทรัพย์เฉลี่ยระยะเวลา 5 วัน จะท าการขายหลักทรัพย์น้นั18\n",
        "    3) หากค่า MACD เป็นบวก ซึ่งมีค่า EMA(12) มากกว่า EMA(26) แสดงว่า ทิศทางแนวโน้มของราคาหลักทรัพย์ และแรงส่งของราคาหลักทรัพย์ กำลังอยู่ในช่วงขาขึ้น จะทำ การขายหลักทรัพย์นั้น และในกรณีค่า MACD เป็นลบซึ่งมีค่า EMA(12)น้อยกว่า EMA(26) แสดงว่า ทิศทางแนวโน้มของราคาหลักทรัพย์และแรงส่งของราคาหลักทรัพย์กำลังอยู่ในช่วงขาลง และใน 2 กรณีที่กล่าวมาข้างต้น โอกาสที่ค่าMACD จะเปลี่ยนจากบวกเป็นลบหรือลบเป็นบวกเกิดข้ึนไดน้อ้ยมากหรืออาจเกิดได้ช้า ซึ่งราคาของหลักทรัพย์อาจจะตกหรือข้ึนไปมากแลว้ เพื่อเพิ่มโอกาสในการทา กา ไร ผูว้ิจยัจึงไดเ้พิ่มกฏยอ่ ยเขา้ไปว่า หากค่า MACD มีค่าเป็ นบวก และค่าMACD มากกว่า MACD เฉลี่ย ระยะเวลา 10 วนั จะทา การซ้ือหลักทรัพย์น้น ใน ักรณีหากค่า MACD มีค่าเป็ นบวกและค่า MACD น้อยกว่า MACD เฉลี่ยระยะเวลา10 วัน จะท าการขายหลักทรัพย์น้นั และในกรณีหากค่า MACD มีค่าเป็ นลบ จะท าการขายหลักทรัพย์น้นั\n",
        "    4) หากค่า RSI น้อยกว่า 30 แสดงว่าหลักทรัพย์น้นัอาจมีแนวโนม้ ในการพลิกจากช่วงขาลงมาเป็ นช่วงขาข้ึนได้ และในกรณีหากค่า RSI มากกว่า 70 หลักทรัพย์น้นัอาจมีแนวโนม้ ในการพลิกจากช่วงขาข้ึนมาเป็นช่วงขาลงได้ผูว้ิจยัจึงคิดกฏว่า หากจะทาการซ้ือหลักทรัพย์น้นั ไดก้็ต่อเมอื่ ค่า RSI น้อยกว่า 70 และในกรณีจะขายหลักทรัพย์น้นั จะสามารถขายได้เมื่อค่า RSI มากกว่า 30จากเงื่อนไขที่กล่าวมาข้างต้น หากเข้าเงื่อนไขตามกฎข้อ1 คือ \n",
        "\n",
        "\n",
        "\n",
        "---\n",
        "\n",
        "    มูลค่าตามราคาตลาดมีค่ามากกว่ามูลค่าตามราคาตลาดเฉลี่ยระยะเวลา 5 วัน จะสามารถสรุปการเพิ่มค่ากลุ่มแนวโนม้ของหลักทรัพย์ได้ดังนี้\n",
        "    1) หากเงื่อนไขจากกฎข้อ 2, 3 และ 4 ท้้ง 3 ข้อ ตรงกบั เงื่อนไขการซ้ือ จะเพิ่มค่ากลุ่มแนวโน้มของหลักทรัพย์เป็นการแนะนำให้ซ้ือหลักทรัพย์น้้น ในวัดถัดไป\n",
        "    2) หากเงื่อนไขจากกฎข้อ 2, 3และ 4 ท้งั 3ขอ้ ตรงกบั เงื่อนไขการขาย จะเพิ่มค่ากลุ่มแนวโน้มของหลักทรัพย์เป็ นการแนะน าให้ขายหลักทรัพย์น้นั ในวนัถดัไป\n",
        "    3) หากเงื่อนไขจากกฎข้อ 2, 3 และ 4 ท้งั 3 ขอ้ ไม่ตรงเงื่อนไขซ้ือหรือเงื่อนไขขายท้งัหมด จะไม่กระทา การใดๆ หรือทา การถือหลักทรัพย์น้นั ไวใ้นกรณีที่มีหลักทรัพย์น้นัอยใู่ นการครอบครอง19และหากไม่เข้าเงื่อนไขตามกฎข้อ 1 คือ มูลค่าตามราคาตลาดมีค่าน้อยกว่ามูลค่าตามราคาตลาดเฉลี่ยระยะเวลา 5 วัน จะไม่กระท าการใดๆ หรือท าการถือหลักทรัพย์น้นั ไวใ้นกรณีที่มีหลักทรัพย์น้นัอยใู่ นการครอบครอง\n"
      ]
    },
    {
      "cell_type": "code",
      "metadata": {
        "id": "wbDfTKn7QF1c"
      },
      "source": [
        "def sel(money,money5):\n",
        "  if money < money5:\n",
        "      result = 'Stay'\n",
        "  else:\n",
        "      if close > close5:\n",
        "         result = 'Buy'\n",
        "      else:\n",
        "          result = \"Sell\"\n",
        "      if macd>=0.0:\n",
        "          result = \"Buy\"\n",
        "      else:\n",
        "          result = \"Sell\"\n",
        "      if rsi >30 and rsi <70:\n",
        "          result = 'Buy'\n",
        "      else:\n",
        "          result = \"Sell\"\n",
        "  return result\n",
        "    "
      ],
      "execution_count": null,
      "outputs": []
    },
    {
      "cell_type": "code",
      "metadata": {
        "id": "-vSfs-XQexih"
      },
      "source": [
        "plt.plot(dtn[\"SET50.Close\"],dtn[\"SET50.Open\"])\n",
        "\n",
        "plt.title('SET50')\n",
        "plt.xlabel('X axis')\n",
        "plt.ylabel('Y axis')\n",
        "\n",
        "plt.show()\n",
        "\n"
      ],
      "execution_count": null,
      "outputs": []
    },
    {
      "cell_type": "code",
      "metadata": {
        "id": "Nflb7Jozi0wm"
      },
      "source": [
        "sel(dtn[\"Money\"][2],dtn[\"Money(5)\"][2])"
      ],
      "execution_count": null,
      "outputs": []
    },
    {
      "cell_type": "markdown",
      "metadata": {
        "id": "v-bUywURmzKx"
      },
      "source": [
        "# Train"
      ]
    },
    {
      "cell_type": "code",
      "metadata": {
        "id": "rHsDrZ1QnJ7U"
      },
      "source": [
        "def encode_mysignal(signal, predict=\"up\"):\n",
        "  if predict==\"up\":    \n",
        "    signal[signal < 4] = 0 \n",
        "    signal[signal == 4] = 1 # สนใจราคาขึ้นมากสุด 4 วันติดกัน\n",
        "\n",
        "  elif predict==\"down\":\n",
        "    signal[signal > 0] = 1     \n",
        "    signal[signal==0] = 0 # สนใจราคาลงมากสุด 4 วันติดกัน\n",
        "\n",
        "  return signal\n",
        "\n",
        "signal = my_signal(dtn['SET50.Close'])\n",
        "\n",
        "# ปรับตำแหน่งแถวของ ข้อมูล กับ signal ให้สอดคล้องกัน\n",
        "signal = signal.shift(-2) # shift ขึ้นไปสองแถว\n",
        "signal = signal.fillna(0) # ยังมี NaN อยู่แถวแรก แก้ให้เป็น 0\n",
        "signal = signal[:-2] # cut tail that is NaN\n",
        "\n",
        "signal = encode_mysignal(signal, predict=\"up\")\n",
        "\n",
        "df_new = dtn[:-2] # ตัดให้เหลือแถวเท่ากับ signal\n",
        "\n",
        "assert len(df_new) == len(data[stock_name]) - 2\n",
        "assert len(signal) == len(data[stock_name]) - 2\n",
        "assert len(df_new) == len(signal)\n",
        "\n",
        "\n",
        "print(np.shape(df_new))\n",
        "print(np.shape(signal))"
      ],
      "execution_count": null,
      "outputs": []
    },
    {
      "cell_type": "code",
      "metadata": {
        "id": "zvDhv32Am4iK"
      },
      "source": [
        "from sklearn.preprocessing import MinMaxScaler\n",
        "sc = MinMaxScaler(feature_range = (0, 1))\n",
        "df_scaled = sc.fit_transform(dtn)\n",
        "\n",
        "assert np.shape(df_scaled)  == np.shape(dtn)\n",
        "\n",
        "labels = signal.to_numpy()\n",
        "assert len(df_scaled) == len(labels)"
      ],
      "execution_count": null,
      "outputs": []
    }
  ]
}