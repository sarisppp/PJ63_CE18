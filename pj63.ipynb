{
  "nbformat": 4,
  "nbformat_minor": 0,
  "metadata": {
    "colab": {
      "name": "pj63.ipynb",
      "provenance": [],
      "collapsed_sections": [
        "xz2AKzHK5loP"
      ],
      "include_colab_link": true
    },
    "kernelspec": {
      "name": "python3",
      "display_name": "Python 3"
    },
    "accelerator": "GPU"
  },
  "cells": [
    {
      "cell_type": "markdown",
      "metadata": {
        "id": "view-in-github",
        "colab_type": "text"
      },
      "source": [
        "<a href=\"https://colab.research.google.com/github/sarisppp/PJ63_CE18/blob/master/pj63.ipynb\" target=\"_parent\"><img src=\"https://colab.research.google.com/assets/colab-badge.svg\" alt=\"Open In Colab\"/></a>"
      ]
    },
    {
      "cell_type": "code",
      "metadata": {
        "id": "g3EoKo4E5TmB",
        "outputId": "e0ec0e83-dc11-431e-aeb3-f62d50a52916",
        "colab": {
          "base_uri": "https://localhost:8080/",
          "height": 17
        }
      },
      "source": [
        "\"\"\"\n",
        "%tensorflow_version 2.x\n",
        "import tensorflow as tf\n",
        "import numpy as np\n",
        "import pandas as pd \n",
        "from matplotlib import pyplot as plt\n",
        "\n",
        "from tensorflow import  keras\n",
        "from tensorflow.keras import layers\"\"\"\n",
        "\n",
        "import os, sys\n",
        "import os.path\n",
        "import numpy as np\n",
        "import pandas as pd\n",
        "import datetime \n",
        "\n",
        "#pd.core.common.is_list_like = pd.api.types.is_list_like\n",
        "\n",
        "from pandas_datareader import data as pdr\n",
        "from tqdm import tqdm, trange\n",
        "\n",
        "import matplotlib.pyplot as plt\n",
        "import pandas as pd\n",
        "from IPython.core.display import display, HTML\n",
        "\n",
        "display(HTML(\"<style>.container { width:90% !important; }</style>\"))\n",
        "pd.options.display.max_columns = 999\n",
        "pd.options.display.max_rows = 999"
      ],
      "execution_count": 1,
      "outputs": [
        {
          "output_type": "display_data",
          "data": {
            "text/html": [
              "<style>.container { width:90% !important; }</style>"
            ],
            "text/plain": [
              "<IPython.core.display.HTML object>"
            ]
          },
          "metadata": {
            "tags": []
          }
        }
      ]
    },
    {
      "cell_type": "code",
      "metadata": {
        "id": "6S3ngn-Aqaf_",
        "outputId": "1de912f7-7b8a-4cfb-c481-de5533f9af2e",
        "colab": {
          "base_uri": "https://localhost:8080/",
          "height": 34
        }
      },
      "source": [
        "from google.colab import drive\n",
        "drive.mount('/content/drive')"
      ],
      "execution_count": 2,
      "outputs": [
        {
          "output_type": "stream",
          "text": [
            "Mounted at /content/drive\n"
          ],
          "name": "stdout"
        }
      ]
    },
    {
      "cell_type": "markdown",
      "metadata": {
        "id": "xz2AKzHK5loP"
      },
      "source": [
        "## **Test**"
      ]
    },
    {
      "cell_type": "code",
      "metadata": {
        "id": "brJZAe8d506x",
        "outputId": "fd8c193e-0e36-4b3f-f851-335af660fd0e",
        "colab": {
          "base_uri": "https://localhost:8080/",
          "height": 265
        }
      },
      "source": [
        "N = 100\n",
        "X = np.random.rand(N,1)\n",
        "Y = np.sin(2 * np.pi * X) + 0.4 * np.random.rand(N,1)\n",
        "plt.plot(X,Y,'.')\n",
        "plt.show()"
      ],
      "execution_count": null,
      "outputs": [
        {
          "output_type": "display_data",
          "data": {
            "image/png": "[encoded data removed]",
            "text/plain": [
              "<Figure size 432x288 with 1 Axes>"
            ]
          },
          "metadata": {
            "tags": [],
            "needs_background": "light"
          }
        }
      ]
    },
    {
      "cell_type": "code",
      "metadata": {
        "id": "MP1KuEKX6It7",
        "outputId": "fc5d8433-139a-4894-93e3-6db555da1aa7",
        "colab": {
          "base_uri": "https://localhost:8080/",
          "height": 231
        }
      },
      "source": [
        "#  1-100-100-1\n",
        "inputs = keras.Input(shape=(1,))\n",
        "d1 = layers.Dense(100,activation='relu')\n",
        "d2 = layers.Dense(100,activation='relu')\n",
        "d3 = layers.Dense(1)\n",
        "outputs = d3(d2(d1(inputs)))\n",
        "model = keras.Model(inputs,outputs)\n",
        "model.compile(optimizer=keras.optimizers.SGD(learning_rate=0.1),loss=keras.losses.MeanSquaredError())\n",
        "\n",
        "\n",
        "\n",
        "\n"
      ],
      "execution_count": null,
      "outputs": [
        {
          "output_type": "error",
          "ename": "NameError",
          "evalue": "ignored",
          "traceback": [
            "\u001b[0;31m---------------------------------------------------------------------------\u001b[0m",
            "\u001b[0;31mNameError\u001b[0m                                 Traceback (most recent call last)",
            "\u001b[0;32m<ipython-input-4-2ad7053fe0d5>\u001b[0m in \u001b[0;36m<module>\u001b[0;34m()\u001b[0m\n\u001b[1;32m      1\u001b[0m \u001b[0;31m#  1-100-100-1\u001b[0m\u001b[0;34m\u001b[0m\u001b[0;34m\u001b[0m\u001b[0;34m\u001b[0m\u001b[0m\n\u001b[0;32m----> 2\u001b[0;31m \u001b[0minputs\u001b[0m \u001b[0;34m=\u001b[0m \u001b[0mkeras\u001b[0m\u001b[0;34m.\u001b[0m\u001b[0mInput\u001b[0m\u001b[0;34m(\u001b[0m\u001b[0mshape\u001b[0m\u001b[0;34m=\u001b[0m\u001b[0;34m(\u001b[0m\u001b[0;36m1\u001b[0m\u001b[0;34m,\u001b[0m\u001b[0;34m)\u001b[0m\u001b[0;34m)\u001b[0m\u001b[0;34m\u001b[0m\u001b[0;34m\u001b[0m\u001b[0m\n\u001b[0m\u001b[1;32m      3\u001b[0m \u001b[0md1\u001b[0m \u001b[0;34m=\u001b[0m \u001b[0mlayers\u001b[0m\u001b[0;34m.\u001b[0m\u001b[0mDense\u001b[0m\u001b[0;34m(\u001b[0m\u001b[0;36m100\u001b[0m\u001b[0;34m,\u001b[0m\u001b[0mactivation\u001b[0m\u001b[0;34m=\u001b[0m\u001b[0;34m'relu'\u001b[0m\u001b[0;34m)\u001b[0m\u001b[0;34m\u001b[0m\u001b[0;34m\u001b[0m\u001b[0m\n\u001b[1;32m      4\u001b[0m \u001b[0md2\u001b[0m \u001b[0;34m=\u001b[0m \u001b[0mlayers\u001b[0m\u001b[0;34m.\u001b[0m\u001b[0mDense\u001b[0m\u001b[0;34m(\u001b[0m\u001b[0;36m100\u001b[0m\u001b[0;34m,\u001b[0m\u001b[0mactivation\u001b[0m\u001b[0;34m=\u001b[0m\u001b[0;34m'relu'\u001b[0m\u001b[0;34m)\u001b[0m\u001b[0;34m\u001b[0m\u001b[0;34m\u001b[0m\u001b[0m\n\u001b[1;32m      5\u001b[0m \u001b[0md3\u001b[0m \u001b[0;34m=\u001b[0m \u001b[0mlayers\u001b[0m\u001b[0;34m.\u001b[0m\u001b[0mDense\u001b[0m\u001b[0;34m(\u001b[0m\u001b[0;36m1\u001b[0m\u001b[0;34m)\u001b[0m\u001b[0;34m\u001b[0m\u001b[0;34m\u001b[0m\u001b[0m\n",
            "\u001b[0;31mNameError\u001b[0m: name 'keras' is not defined"
          ]
        }
      ]
    },
    {
      "cell_type": "code",
      "metadata": {
        "id": "S-BCYTGRMiVI"
      },
      "source": [
        "model.fit(X,Y,epochs=500)"
      ],
      "execution_count": null,
      "outputs": []
    },
    {
      "cell_type": "code",
      "metadata": {
        "id": "JdlFGByuNyEx"
      },
      "source": [
        "Z = model.predict(X)\n",
        "plt.plot(X,Z,'.r')\n",
        "plt.plot(X,Y,'.')\n",
        "plt.show()"
      ],
      "execution_count": null,
      "outputs": []
    },
    {
      "cell_type": "markdown",
      "metadata": {
        "id": "FTOrEW-yqIRj"
      },
      "source": [
        "# Load Data"
      ]
    },
    {
      "cell_type": "code",
      "metadata": {
        "id": "2zwEZGC1pcKc"
      },
      "source": [
        "df = pd.read_excel(\"/content/drive/My Drive/Set50_2.xlsx\",sep='\\t')\n"
      ],
      "execution_count": null,
      "outputs": []
    },
    {
      "cell_type": "code",
      "metadata": {
        "id": "7gXaElDBq03M"
      },
      "source": [
        "df[30:40]\n",
        "df.info()\n"
      ],
      "execution_count": null,
      "outputs": []
    },
    {
      "cell_type": "markdown",
      "metadata": {
        "id": "8lfyeyQo7pkm"
      },
      "source": [
        "# **Load Data from xlsx file**"
      ]
    },
    {
      "cell_type": "code",
      "metadata": {
        "id": "hIY9j_9Z7sKC"
      },
      "source": [
        "used_features = ['Timestamp','SMA(5)','SMA(12)','SMA(26)','MACD','MACD(10)','RSI','Money(5)']\n",
        "stock = pd.read_excel(\"/content/drive/My Drive/Set50_2.xlsx\", usecols = used_features)\n",
        "#print(stock.shape)\n",
        "stock[40:50]\n",
        "stock.info()\n",
        "\"\"\"for i in [\"SMA(5)\"]:\n",
        "  stock[i] = stock[i].map(lambda x:x.replace(\"-\",''))\n",
        "  stock[i] = stock[i].astype(float)\"\"\"\n"
      ],
      "execution_count": null,
      "outputs": []
    },
    {
      "cell_type": "code",
      "metadata": {
        "id": "jj-DrHrf-BFR"
      },
      "source": [
        "plt.title(\"SET50\")\n",
        "plt.xlabel('Timestamp')\t\n",
        "plt.ylabel('Closed')\n",
        "\"\"\"plt.plot(df.OBL, df.OSL , 'ob')\n",
        "plt.show()\t\n",
        "\"\"\""
      ],
      "execution_count": null,
      "outputs": []
    },
    {
      "cell_type": "code",
      "metadata": {
        "id": "CrkyknmhL9Mz"
      },
      "source": [
        "\"\"\"stock.info()\n",
        "stock.dtypes\n",
        "stock['SMA(5)'] = stock['SMA(5)'].astype(float)\"\"\""
      ],
      "execution_count": null,
      "outputs": []
    },
    {
      "cell_type": "markdown",
      "metadata": {
        "id": "5HiDZf1ddGO4"
      },
      "source": [
        "## **-------------Indicator-------------**\n",
        "\n",
        "\n"
      ]
    },
    {
      "cell_type": "markdown",
      "metadata": {
        "id": "Sdfsyd3MktjU"
      },
      "source": [
        "### Simple Moving Average"
      ]
    },
    {
      "cell_type": "code",
      "metadata": {
        "id": "y2lNnAsUZs-j"
      },
      "source": [
        "def sma(price_close,day):      \n",
        "    result = price_close.rolling(window=day).mean()\n",
        "    return result "
      ],
      "execution_count": null,
      "outputs": []
    },
    {
      "cell_type": "markdown",
      "metadata": {
        "id": "TIWxU8P3k2Pl"
      },
      "source": [
        "### MACD = Moving Average Convergence/Divergence"
      ]
    },
    {
      "cell_type": "code",
      "metadata": {
        "id": "RIB7olCSlGkY"
      },
      "source": [
        "def macd( slow, fast):    \n",
        "    result = slow-fast  \n",
        "    return result"
      ],
      "execution_count": null,
      "outputs": []
    },
    {
      "cell_type": "code",
      "metadata": {
        "id": "8rkcGzvgbc64"
      },
      "source": [
        "df['SMA5'] = sma(df[\"SET50.Close\"],5)\n",
        "df['SMA12'] = sma(df[\"SET50.Close\"],12)\n",
        "df['SMA26'] = sma(df[\"SET50.Close\"],26)\n",
        "\n",
        "#df.drop(columns=['sma55'],inplace=True)\n",
        "df[\"EMA12\"] = df[\"EMA(12)\"]\n",
        "\n",
        "\n",
        "df.head(10)\n",
        "\n",
        "\n",
        "\n",
        "\n"
      ],
      "execution_count": null,
      "outputs": []
    },
    {
      "cell_type": "markdown",
      "metadata": {
        "id": "FMqhkdV7OcQ1"
      },
      "source": [
        "# **features**"
      ]
    },
    {
      "cell_type": "code",
      "metadata": {
        "id": "NiShRD69M54G",
        "outputId": "62a54ce9-ac91-46af-e513-0c4ad7e4ffea",
        "colab": {
          "base_uri": "https://localhost:8080/",
          "height": 637
        }
      },
      "source": [
        "used_features = ['Timestamp','SET50.Open','SET50.Close','SET50.High','SET50.Low','SMA(5)','SMA(12)','SMA(26)','MACD','MACD(10)','RSI','Money','Money(5)']\n",
        "dtn = pd.read_excel(\"/content/drive/My Drive/Set50_2.xlsx\", usecols = used_features)\n",
        "cols={'SET50.Open':'Open','SET50.Close':'Close','SET50.High':'High','SET50.Low':'Low'}\n",
        "dtn.rename(columns=cols,inplace=True)\n",
        "dtn.Timestamp = pd.to_datetime(dtn.Timestamp)\n",
        "print(dtn.shape)\n",
        "dtn.set_index(\"Timestamp\",inplace=True)\n",
        "dtn.info()\n",
        "dtn.head(7)\n"
      ],
      "execution_count": null,
      "outputs": [
        {
          "output_type": "stream",
          "text": [
            "(55920, 13)\n",
            "<class 'pandas.core.frame.DataFrame'>\n",
            "DatetimeIndex: 55920 entries, 2019-03-13 14:26:00 to 2020-08-20 16:46:00\n",
            "Data columns (total 12 columns):\n",
            " #   Column    Non-Null Count  Dtype  \n",
            "---  ------    --------------  -----  \n",
            " 0   Open      55920 non-null  float64\n",
            " 1   High      55920 non-null  float64\n",
            " 2   Low       55920 non-null  float64\n",
            " 3   Close     55920 non-null  float64\n",
            " 4   SMA(5)    55916 non-null  float64\n",
            " 5   SMA(12)   55909 non-null  float64\n",
            " 6   SMA(26)   55895 non-null  float64\n",
            " 7   MACD      55895 non-null  float64\n",
            " 8   MACD(10)  55886 non-null  float64\n",
            " 9   RSI       55906 non-null  float64\n",
            " 10  Money     55904 non-null  float64\n",
            " 11  Money(5)  55839 non-null  float64\n",
            "dtypes: float64(12)\n",
            "memory usage: 5.5 MB\n"
          ],
          "name": "stdout"
        },
        {
          "output_type": "execute_result",
          "data": {
            "text/html": [
              "<div>\n",
              "<style scoped>\n",
              "    .dataframe tbody tr th:only-of-type {\n",
              "        vertical-align: middle;\n",
              "    }\n",
              "\n",
              "    .dataframe tbody tr th {\n",
              "        vertical-align: top;\n",
              "    }\n",
              "\n",
              "    .dataframe thead th {\n",
              "        text-align: right;\n",
              "    }\n",
              "</style>\n",
              "<table border=\"1\" class=\"dataframe\">\n",
              "  <thead>\n",
              "    <tr style=\"text-align: right;\">\n",
              "      <th></th>\n",
              "      <th>Open</th>\n",
              "      <th>High</th>\n",
              "      <th>Low</th>\n",
              "      <th>Close</th>\n",
              "      <th>SMA(5)</th>\n",
              "      <th>SMA(12)</th>\n",
              "      <th>SMA(26)</th>\n",
              "      <th>MACD</th>\n",
              "      <th>MACD(10)</th>\n",
              "      <th>RSI</th>\n",
              "      <th>Money</th>\n",
              "      <th>Money(5)</th>\n",
              "    </tr>\n",
              "    <tr>\n",
              "      <th>Timestamp</th>\n",
              "      <th></th>\n",
              "      <th></th>\n",
              "      <th></th>\n",
              "      <th></th>\n",
              "      <th></th>\n",
              "      <th></th>\n",
              "      <th></th>\n",
              "      <th></th>\n",
              "      <th></th>\n",
              "      <th></th>\n",
              "      <th></th>\n",
              "      <th></th>\n",
              "    </tr>\n",
              "  </thead>\n",
              "  <tbody>\n",
              "    <tr>\n",
              "      <th>2019-03-13 14:26:00</th>\n",
              "      <td>1081.38</td>\n",
              "      <td>1081.38</td>\n",
              "      <td>1081.38</td>\n",
              "      <td>1081.38</td>\n",
              "      <td>NaN</td>\n",
              "      <td>NaN</td>\n",
              "      <td>NaN</td>\n",
              "      <td>NaN</td>\n",
              "      <td>NaN</td>\n",
              "      <td>NaN</td>\n",
              "      <td>8324463.24</td>\n",
              "      <td>NaN</td>\n",
              "    </tr>\n",
              "    <tr>\n",
              "      <th>2019-03-13 14:27:00</th>\n",
              "      <td>1080.28</td>\n",
              "      <td>1080.28</td>\n",
              "      <td>1079.86</td>\n",
              "      <td>1079.86</td>\n",
              "      <td>NaN</td>\n",
              "      <td>NaN</td>\n",
              "      <td>NaN</td>\n",
              "      <td>NaN</td>\n",
              "      <td>NaN</td>\n",
              "      <td>NaN</td>\n",
              "      <td>882245.62</td>\n",
              "      <td>NaN</td>\n",
              "    </tr>\n",
              "    <tr>\n",
              "      <th>2019-03-13 14:28:00</th>\n",
              "      <td>1079.77</td>\n",
              "      <td>1081.50</td>\n",
              "      <td>1079.72</td>\n",
              "      <td>1081.50</td>\n",
              "      <td>NaN</td>\n",
              "      <td>NaN</td>\n",
              "      <td>NaN</td>\n",
              "      <td>NaN</td>\n",
              "      <td>NaN</td>\n",
              "      <td>NaN</td>\n",
              "      <td>3174202.50</td>\n",
              "      <td>NaN</td>\n",
              "    </tr>\n",
              "    <tr>\n",
              "      <th>2019-03-13 14:29:00</th>\n",
              "      <td>1081.54</td>\n",
              "      <td>1081.54</td>\n",
              "      <td>1081.32</td>\n",
              "      <td>1081.32</td>\n",
              "      <td>NaN</td>\n",
              "      <td>NaN</td>\n",
              "      <td>NaN</td>\n",
              "      <td>NaN</td>\n",
              "      <td>NaN</td>\n",
              "      <td>NaN</td>\n",
              "      <td>101644.08</td>\n",
              "      <td>NaN</td>\n",
              "    </tr>\n",
              "    <tr>\n",
              "      <th>2019-03-13 14:30:00</th>\n",
              "      <td>1081.38</td>\n",
              "      <td>1081.38</td>\n",
              "      <td>1081.37</td>\n",
              "      <td>1081.37</td>\n",
              "      <td>1081.086</td>\n",
              "      <td>NaN</td>\n",
              "      <td>NaN</td>\n",
              "      <td>NaN</td>\n",
              "      <td>NaN</td>\n",
              "      <td>NaN</td>\n",
              "      <td>2054603.00</td>\n",
              "      <td>2907431.688</td>\n",
              "    </tr>\n",
              "    <tr>\n",
              "      <th>2019-03-13 14:31:00</th>\n",
              "      <td>1081.29</td>\n",
              "      <td>1081.70</td>\n",
              "      <td>1081.29</td>\n",
              "      <td>1081.66</td>\n",
              "      <td>1081.142</td>\n",
              "      <td>NaN</td>\n",
              "      <td>NaN</td>\n",
              "      <td>NaN</td>\n",
              "      <td>NaN</td>\n",
              "      <td>NaN</td>\n",
              "      <td>760406.98</td>\n",
              "      <td>1394620.436</td>\n",
              "    </tr>\n",
              "    <tr>\n",
              "      <th>2019-03-13 14:32:00</th>\n",
              "      <td>1081.93</td>\n",
              "      <td>1081.93</td>\n",
              "      <td>1081.42</td>\n",
              "      <td>1081.42</td>\n",
              "      <td>1081.454</td>\n",
              "      <td>NaN</td>\n",
              "      <td>NaN</td>\n",
              "      <td>NaN</td>\n",
              "      <td>NaN</td>\n",
              "      <td>NaN</td>\n",
              "      <td>3602210.02</td>\n",
              "      <td>1938613.316</td>\n",
              "    </tr>\n",
              "  </tbody>\n",
              "</table>\n",
              "</div>"
            ],
            "text/plain": [
              "                        Open     High      Low    Close    SMA(5)  SMA(12)  \\\n",
              "Timestamp                                                                    \n",
              "2019-03-13 14:26:00  1081.38  1081.38  1081.38  1081.38       NaN      NaN   \n",
              "2019-03-13 14:27:00  1080.28  1080.28  1079.86  1079.86       NaN      NaN   \n",
              "2019-03-13 14:28:00  1079.77  1081.50  1079.72  1081.50       NaN      NaN   \n",
              "2019-03-13 14:29:00  1081.54  1081.54  1081.32  1081.32       NaN      NaN   \n",
              "2019-03-13 14:30:00  1081.38  1081.38  1081.37  1081.37  1081.086      NaN   \n",
              "2019-03-13 14:31:00  1081.29  1081.70  1081.29  1081.66  1081.142      NaN   \n",
              "2019-03-13 14:32:00  1081.93  1081.93  1081.42  1081.42  1081.454      NaN   \n",
              "\n",
              "                     SMA(26)  MACD  MACD(10)  RSI       Money     Money(5)  \n",
              "Timestamp                                                                   \n",
              "2019-03-13 14:26:00      NaN   NaN       NaN  NaN  8324463.24          NaN  \n",
              "2019-03-13 14:27:00      NaN   NaN       NaN  NaN   882245.62          NaN  \n",
              "2019-03-13 14:28:00      NaN   NaN       NaN  NaN  3174202.50          NaN  \n",
              "2019-03-13 14:29:00      NaN   NaN       NaN  NaN   101644.08          NaN  \n",
              "2019-03-13 14:30:00      NaN   NaN       NaN  NaN  2054603.00  2907431.688  \n",
              "2019-03-13 14:31:00      NaN   NaN       NaN  NaN   760406.98  1394620.436  \n",
              "2019-03-13 14:32:00      NaN   NaN       NaN  NaN  3602210.02  1938613.316  "
            ]
          },
          "metadata": {
            "tags": []
          },
          "execution_count": 30
        }
      ]
    },
    {
      "cell_type": "markdown",
      "metadata": {
        "id": "bM8MNfZPOxh8"
      },
      "source": [
        "### Check for Null value and preprocessing data"
      ]
    },
    {
      "cell_type": "code",
      "metadata": {
        "id": "a6lCBx5aOqSh",
        "outputId": "b10753ae-8671-4848-cb1f-07b228075a15",
        "colab": {
          "base_uri": "https://localhost:8080/",
          "height": 153
        }
      },
      "source": [
        "for feature in ['Open','Close','High','Low','SMA(5)','SMA(12)','SMA(26)','MACD','MACD(10)','RSI','Money','Money(5)']:\n",
        "    if dtn[feature].isnull().values.any():\n",
        "        print (feature)"
      ],
      "execution_count": null,
      "outputs": [
        {
          "output_type": "stream",
          "text": [
            "SMA(5)\n",
            "SMA(12)\n",
            "SMA(26)\n",
            "MACD\n",
            "MACD(10)\n",
            "RSI\n",
            "Money\n",
            "Money(5)\n"
          ],
          "name": "stdout"
        }
      ]
    },
    {
      "cell_type": "code",
      "metadata": {
        "id": "7AxbKrP0O1rK"
      },
      "source": [
        "for feature in ['Open','Close','High','Low','SMA(5)','SMA(12)','SMA(26)','MACD','MACD(10)','RSI','Money','Money(5)']:\n",
        "    dtn[feature].fillna(dtn[feature].median(),inplace = True)"
      ],
      "execution_count": null,
      "outputs": []
    },
    {
      "cell_type": "code",
      "metadata": {
        "id": "V-jGSpTnP3h8"
      },
      "source": [
        "dtn.head(30)\n"
      ],
      "execution_count": null,
      "outputs": []
    },
    {
      "cell_type": "code",
      "metadata": {
        "id": "lNB-Brgu4mH4"
      },
      "source": [
        "dtn.Close.plot(figsize=(20,10))\n",
        "plt.xlabel(\"Date\")\n",
        "plt.ylabel(\"Close\")     \n",
        "plt.show()\n"
      ],
      "execution_count": null,
      "outputs": []
    },
    {
      "cell_type": "markdown",
      "metadata": {
        "id": "7PkMUOYnAEBH"
      },
      "source": [
        "**2019-2020**\n"
      ]
    },
    {
      "cell_type": "code",
      "metadata": {
        "id": "IDfjwlxxACfj"
      },
      "source": [
        "dtn2=dtn.loc['2019':'2020-01'].Close.plot(grid=True,figsize=(20,10))\n",
        "plt.xlabel(\"Date\")\n",
        "plt.ylabel(\"Close\")\n",
        "plt.show()\n",
        "#['Open','Close','High','Low','SMA(5)','SMA(12)','SMA(26)','MACD','MACD(10)','RSI','Money','Money(5)']:\n"
      ],
      "execution_count": null,
      "outputs": []
    },
    {
      "cell_type": "code",
      "metadata": {
        "id": "g1wd6huF2iJX"
      },
      "source": [
        "import seaborn as sns \n",
        "corr_val = dtn.corr().round(2)\n",
        "sns.heatmap(corr_val,annot=True,cmap='coolwarm')"
      ],
      "execution_count": null,
      "outputs": []
    },
    {
      "cell_type": "code",
      "metadata": {
        "id": "_rnAjKj83NZx"
      },
      "source": [
        "def series_to_supervised(data, n_in=1, n_out=1, dropnan=True,feat_name=None):\n",
        "    \n",
        "    n_vars = 1 if type(data) is list else data.shape[1]\n",
        "    df = pd.DataFrame(data)\n",
        "    cols, names = list(), list()\n",
        "    \n",
        "    # input sequence (t-n, ... t-1)\n",
        "    for i in range(n_in, 0, -1):\n",
        "        cols.append(df.shift(i))\n",
        "        names += [f'{feat_name[j]}(t-{i})' for j in range(n_vars)]\n",
        "    \n",
        "    # forecast sequence (t, t+1, ... t+n)\n",
        "    for i in range(0, n_out):\n",
        "        cols.append(df.shift(-i))\n",
        "        if i == 0:\n",
        "            names += [f'{feat_name[j]}(t)' for j in range(n_vars)]\n",
        "        else:\n",
        "            names += [f'{feat_name[j]}(t+{i})' for j in range(n_vars)]\n",
        "    \n",
        "    # put it all together\n",
        "    agg = pd.concat(cols, axis=1)\n",
        "    agg.columns = names\n",
        "    \n",
        "    # drop rows with NaN values\n",
        "    if dropnan:\n",
        "        agg.dropna(inplace=True)\n",
        "    return agg\n",
        "\n",
        "\n",
        "# เลือกข้อมูลหุ้นจาก list ของ DataFrame และ drop column 'Close' เนื่องจากเราจะใช้ column 'Adj. Close' เท่านั้น\n",
        "\n",
        "dataset = dtn\n",
        "values = dataset.values\n",
        "values = values.astype('float32')\n",
        "\n",
        "# ทำ scaling ข้อมูลด้วยวิธี min max scaling เปลี่ยน scale ข้อมูลแต่ละ column ให้อยู่ระหว่าง [0,1] และเก็บค่า min max แต่ละ column ไว้สำหรับทำ rescale ข้อมูลภายหลัง\n",
        "min_dict = dict()\n",
        "max_dict = dict()\n",
        "for col in dataset.columns:\n",
        "  min_dict[col] = dataset[col].min()\n",
        "  max_dict[col] = dataset[col].max()\n",
        "  dataset[col] = (dataset[col] - dataset[col].min())/(dataset[col].max()-dataset[col].min())\n",
        "  \n",
        "# ใช้ function สำหรับ preprocess ข้อมูลที่เขียนไว้ และ drop column ที่ไม่ได้ใช้\n",
        "reframed = series_to_supervised(dataset.values, 30, 3,feat_name=dtn.columns)\n",
        "reframed.drop(['High(t)','High(t+1)','High(t+2)',\n",
        "               'Low(t)','Low(t+1)','Low(t+2)',\n",
        "               'Open(t)','Open(t+1)','Open(t+2)',\n",
        "               'SMA(12)(t)','SMA(12)(t+1)','SMA(12)(t+2)',\n",
        "               'SMA(26)(t)','SMA(26)(t+1)','SMA(26)(t+2)',\n",
        "               'MACD(t)','MACD(t+1)','MACD(t+2)',\n",
        "               'MACD(10)(t)','MACD(10)(t+1)','MACD(10)(t+2)',\n",
        "                'RSI(t)','RSI(t+1)','RSI(t+2)',\n",
        "               'Money(t)','Money(t+1)','Money(t+2)',\n",
        "               'Money(5)(t)','Money(5)(t+1)','Money(5)(t+2)',\n",
        "               'SMA(5)(t)','SMA(5)(t+1)','SMA(5)(t+2)'],axis=1,inplace=True)"
      ],
      "execution_count": null,
      "outputs": []
    },
    {
      "cell_type": "code",
      "metadata": {
        "id": "auM7Sg_r5Q18"
      },
      "source": [
        "reframed.head()\n"
      ],
      "execution_count": null,
      "outputs": []
    },
    {
      "cell_type": "code",
      "metadata": {
        "id": "p-owhgIy0sw9"
      },
      "source": [
        "# ทำ train & test split\n",
        "values = reframed.values\n",
        "n_train_percent = 0.9\n",
        "split = int(values.shape[0]*0.9)\n",
        "train = values[:split, :]\n",
        "test = values[split:, :]\n",
        "\n",
        "# เก็บค่า datetime ของ train & test\n",
        "date_reframed = dataset.index[reframed.index]\n",
        "date_train = date_reframed[:split]\n",
        "date_test = date_reframed[split:]\n",
        "\n",
        "# split feature และ target\n",
        "train_X, train_y = train[:, :-3], train[:, -3:]\n",
        "test_X, test_y = test[:, :-3], test[:, -3:]\n",
        "\n",
        "# reshape input ให้เป็น 3D (samples, timesteps, features)\n",
        "train_X = train_X.reshape((train_X.shape[0], 1, train_X.shape[1]))\n",
        "test_X = test_X.reshape((test_X.shape[0], 1, test_X.shape[1]))"
      ],
      "execution_count": null,
      "outputs": []
    },
    {
      "cell_type": "code",
      "metadata": {
        "id": "MC_WjdsEtGYy"
      },
      "source": [
        "from keras.models import Sequential\n",
        "from keras.layers import Dense\n",
        "from keras.layers import LSTM\n",
        "\n",
        "# สร้าง LSTM network ด้วย library Keras โดยกำหนดขนาด hidden layer(50) และ shape ของข้อมูล input(#rows x #features)\n",
        "model = Sequential()\n",
        "model.add(LSTM(200, input_shape=(train_X.shape[1], train_X.shape[2])))\n",
        "# สร้าง hidden layer ตามขนาด output หรือ จำนวนวันที่ต้องการ forecast (3) \n",
        "model.add(Dense(3))\n",
        "model.compile(loss='mae', optimizer='adam')\n",
        "\n",
        "# train โมเดล และเก็บ log\n",
        "history = model.fit(train_X, train_y, epochs=10, batch_size=72, validation_data=(test_X, test_y), verbose=2, shuffle=False)\n",
        "\n",
        "# พล็อตค่า train&test loss\n",
        "plt.plot(history.history['loss'], label='train')\n",
        "plt.plot(history.history['val_loss'], label='test')\n",
        "plt.legend()\n",
        "plt.show()"
      ],
      "execution_count": null,
      "outputs": []
    },
    {
      "cell_type": "code",
      "metadata": {
        "id": "VPoAWSRcIec0"
      },
      "source": [
        "from sklearn.metrics import  mean_squared_error,mean_absolute_error,r2_score\n",
        "y_predict = model.predict(test_X)\n",
        "mean_absolute_error(test_y,y_predict)"
      ],
      "execution_count": null,
      "outputs": []
    },
    {
      "cell_type": "code",
      "metadata": {
        "id": "mVzNDyyU-aGz"
      },
      "source": [
        "# ทำ prediction\n",
        "yhat = model.predict(test_X)\n",
        "test_X = test_X.reshape((test_X.shape[0], test_X.shape[2]))\n",
        "\n",
        "# rescale ข้อมูลกลับ\n",
        "inv_yhat = yhat*(max_dict['Close']-min_dict['Close'])+min_dict['Close']\n",
        "inv_y = test_y*(max_dict['Close']-min_dict['Close'])+min_dict['Close']\n",
        "\n",
        "# พล็อตราคาจริงของวันที่ทำ prediction ล่วงหน้า 3 วัน + ราคาย้อนหลัง 30 วัน (สีน้ำเงิน) และ ราคา forecast (สีแดง)\n",
        "import numpy as np\n",
        "idx = np.random.randint(0,len(yhat-3))\n",
        "if idx <30:\n",
        "  date_actual = date_test[:idx+3]\n",
        "else:\n",
        "  date_actual = date_test[idx-30:idx+3]\n",
        "  \n",
        "  plt.plot(date_actual,inv_y[max(0,idx-30):idx+3,0],'b')\n",
        "  plt.plot(date_test[idx:idx+3],inv_yhat[idx],'r')"
      ],
      "execution_count": null,
      "outputs": []
    },
    {
      "cell_type": "markdown",
      "metadata": {
        "id": "194Vgov6QGV7"
      },
      "source": [
        "## Condition\n",
        "    1) หากมูลค่าตามราคาตลาดมีค่ามากกว่ามูลค่าตามราคาตลาดเฉลี่ยระยะเวลา 5วัน จะเข้าเงื่อนไขในกฎข้อ 2, 3 และ 4 ต่อไป เพื่อให้ความสนใจในกรณีการแลกเปลี่ยนซื้อขายที่มีขนาดกลางไปจนถึงขนาดใหญ่ และในกรณีที่มูลค่าตามตลาดในขณะนั้น มีค่านอ้ยกว่ามูลค่าตามตลาดเฉลี่ยระยะเวลา 5 วันหรือเกิดการแลกเปลี่ยนซื้อขายขนาดเล็ก ก็จะทำาการถือหลักทรัพย์นั้นไว้และไม่ทำ การขายหรือซ้ือเพิ่มในกรณีที่มีหลักทรัพย์นั้นในการครอบครอง\n",
        "    2) หากราคาปิดของหลักทรัพย์มีค่ามากกว่าราคาปิดของหลักทรัพย์เฉลี่ยระยะเวลา 5วัน จะทำ การซ้ือหลักทรัพย์น้นัและในกรณีหากราคาปิดของหลักทรัพย์มีค่าน้อยกว่าราคาปิ ดของหลักทรัพย์เฉลี่ยระยะเวลา 5 วัน จะท าการขายหลักทรัพย์น้นั18\n",
        "    3) หากค่า MACD เป็นบวก ซึ่งมีค่า EMA(12) มากกว่า EMA(26) แสดงว่า ทิศทางแนวโน้มของราคาหลักทรัพย์ และแรงส่งของราคาหลักทรัพย์ กำลังอยู่ในช่วงขาขึ้น จะทำ การขายหลักทรัพย์นั้น และในกรณีค่า MACD เป็นลบซึ่งมีค่า EMA(12)น้อยกว่า EMA(26) แสดงว่า ทิศทางแนวโน้มของราคาหลักทรัพย์และแรงส่งของราคาหลักทรัพย์กำลังอยู่ในช่วงขาลง และใน 2 กรณีที่กล่าวมาข้างต้น โอกาสที่ค่าMACD จะเปลี่ยนจากบวกเป็นลบหรือลบเป็นบวกเกิดข้ึนไดน้อ้ยมากหรืออาจเกิดได้ช้า ซึ่งราคาของหลักทรัพย์อาจจะตกหรือข้ึนไปมากแลว้ เพื่อเพิ่มโอกาสในการทา กา ไร ผูว้ิจยัจึงไดเ้พิ่มกฏยอ่ ยเขา้ไปว่า หากค่า MACD มีค่าเป็ นบวก และค่าMACD มากกว่า MACD เฉลี่ย ระยะเวลา 10 วนั จะทา การซ้ือหลักทรัพย์น้น ใน ักรณีหากค่า MACD มีค่าเป็ นบวกและค่า MACD น้อยกว่า MACD เฉลี่ยระยะเวลา10 วัน จะท าการขายหลักทรัพย์น้นั และในกรณีหากค่า MACD มีค่าเป็ นลบ จะท าการขายหลักทรัพย์น้นั\n",
        "    4) หากค่า RSI น้อยกว่า 30 แสดงว่าหลักทรัพย์น้นัอาจมีแนวโนม้ ในการพลิกจากช่วงขาลงมาเป็ นช่วงขาข้ึนได้ และในกรณีหากค่า RSI มากกว่า 70 หลักทรัพย์น้นัอาจมีแนวโนม้ ในการพลิกจากช่วงขาข้ึนมาเป็นช่วงขาลงได้ผูว้ิจยัจึงคิดกฏว่า หากจะทาการซ้ือหลักทรัพย์น้นั ไดก้็ต่อเมอื่ ค่า RSI น้อยกว่า 70 และในกรณีจะขายหลักทรัพย์น้นั จะสามารถขายได้เมื่อค่า RSI มากกว่า 30จากเงื่อนไขที่กล่าวมาข้างต้น หากเข้าเงื่อนไขตามกฎข้อ1 คือ \n",
        "\n",
        "\n",
        "\n",
        "---\n",
        "\n",
        "    มูลค่าตามราคาตลาดมีค่ามากกว่ามูลค่าตามราคาตลาดเฉลี่ยระยะเวลา 5 วัน จะสามารถสรุปการเพิ่มค่ากลุ่มแนวโนม้ของหลักทรัพย์ได้ดังนี้\n",
        "    1) หากเงื่อนไขจากกฎข้อ 2, 3 และ 4 ท้้ง 3 ข้อ ตรงกบั เงื่อนไขการซ้ือ จะเพิ่มค่ากลุ่มแนวโน้มของหลักทรัพย์เป็นการแนะนำให้ซ้ือหลักทรัพย์น้้น ในวัดถัดไป\n",
        "    2) หากเงื่อนไขจากกฎข้อ 2, 3และ 4 ท้งั 3ขอ้ ตรงกบั เงื่อนไขการขาย จะเพิ่มค่ากลุ่มแนวโน้มของหลักทรัพย์เป็ นการแนะน าให้ขายหลักทรัพย์น้นั ในวนัถดัไป\n",
        "    3) หากเงื่อนไขจากกฎข้อ 2, 3 และ 4 ท้งั 3 ขอ้ ไม่ตรงเงื่อนไขซ้ือหรือเงื่อนไขขายท้งัหมด จะไม่กระทา การใดๆ หรือทา การถือหลักทรัพย์น้นั ไวใ้นกรณีที่มีหลักทรัพย์น้นัอยใู่ นการครอบครอง19และหากไม่เข้าเงื่อนไขตามกฎข้อ 1 คือ มูลค่าตามราคาตลาดมีค่าน้อยกว่ามูลค่าตามราคาตลาดเฉลี่ยระยะเวลา 5 วัน จะไม่กระท าการใดๆ หรือท าการถือหลักทรัพย์น้นั ไวใ้นกรณีที่มีหลักทรัพย์น้นัอยใู่ นการครอบครอง\n"
      ]
    },
    {
      "cell_type": "code",
      "metadata": {
        "id": "wbDfTKn7QF1c"
      },
      "source": [
        "def sel(money,money5):\n",
        "  if money < money5:\n",
        "      result = 'Stay'\n",
        "  else:\n",
        "      if close > close5:\n",
        "         result = 'Buy'\n",
        "      else:\n",
        "          result = \"Sell\"\n",
        "      if macd>=0.0:\n",
        "          result = \"Buy\"\n",
        "      else:\n",
        "          result = \"Sell\"\n",
        "      if rsi >30 and rsi <70:\n",
        "          result = 'Buy'\n",
        "      else:\n",
        "          result = \"Sell\"\n",
        "  return result\n",
        "    "
      ],
      "execution_count": null,
      "outputs": []
    },
    {
      "cell_type": "code",
      "metadata": {
        "id": "-vSfs-XQexih"
      },
      "source": [
        "plt.plot(dtn[\"SET50.Close\"],dtn[\"SET50.Open\"])\n",
        "\n",
        "plt.title('SET50')\n",
        "plt.xlabel('X axis')\n",
        "plt.ylabel('Y axis')\n",
        "\n",
        "plt.show()\n",
        "\n"
      ],
      "execution_count": null,
      "outputs": []
    },
    {
      "cell_type": "code",
      "metadata": {
        "id": "Nflb7Jozi0wm"
      },
      "source": [
        "sel(dtn[\"Money\"][2],dtn[\"Money(5)\"][2])"
      ],
      "execution_count": null,
      "outputs": []
    },
    {
      "cell_type": "markdown",
      "metadata": {
        "id": "v-bUywURmzKx"
      },
      "source": [
        "# Train"
      ]
    },
    {
      "cell_type": "code",
      "metadata": {
        "id": "rHsDrZ1QnJ7U"
      },
      "source": [
        "def encode_mysignal(signal, predict=\"up\"):\n",
        "  if predict==\"up\":    \n",
        "    signal[signal < 4] = 0 \n",
        "    signal[signal == 4] = 1 # สนใจราคาขึ้นมากสุด 4 วันติดกัน\n",
        "\n",
        "  elif predict==\"down\":\n",
        "    signal[signal > 0] = 1     \n",
        "    signal[signal==0] = 0 # สนใจราคาลงมากสุด 4 วันติดกัน\n",
        "\n",
        "  return signal\n",
        "\n",
        "signal = my_signal(dtn['SET50.Close'])\n",
        "\n",
        "# ปรับตำแหน่งแถวของ ข้อมูล กับ signal ให้สอดคล้องกัน\n",
        "signal = signal.shift(-2) # shift ขึ้นไปสองแถว\n",
        "signal = signal.fillna(0) # ยังมี NaN อยู่แถวแรก แก้ให้เป็น 0\n",
        "signal = signal[:-2] # cut tail that is NaN\n",
        "\n",
        "signal = encode_mysignal(signal, predict=\"up\")\n",
        "\n",
        "df_new = dtn[:-2] # ตัดให้เหลือแถวเท่ากับ signal\n",
        "\n",
        "assert len(df_new) == len(data[stock_name]) - 2\n",
        "assert len(signal) == len(data[stock_name]) - 2\n",
        "assert len(df_new) == len(signal)\n",
        "\n",
        "\n",
        "print(np.shape(df_new))\n",
        "print(np.shape(signal))"
      ],
      "execution_count": null,
      "outputs": []
    },
    {
      "cell_type": "code",
      "metadata": {
        "id": "zvDhv32Am4iK"
      },
      "source": [
        "from sklearn.preprocessing import MinMaxScaler\n",
        "sc = MinMaxScaler(feature_range = (0, 1))\n",
        "df_scaled = sc.fit_transform(dtn)\n",
        "\n",
        "assert np.shape(df_scaled)  == np.shape(dtn)\n",
        "\n",
        "labels = signal.to_numpy()\n",
        "assert len(df_scaled) == len(labels)"
      ],
      "execution_count": null,
      "outputs": []
    },
    {
      "cell_type": "markdown",
      "metadata": {
        "id": "h7S1dwwC6Sgj"
      },
      "source": [
        "# PULL Stock #ยังไม่ได้"
      ]
    },
    {
      "cell_type": "code",
      "metadata": {
        "id": "qG5rKjZF6PEn"
      },
      "source": [
        "%%capture\n",
        "!pip install starfishX\n",
        "\n",
        "# Import all necessary packages\n",
        "import starfishX as sx\n",
        "import pandas as pd\n",
        "from pandas_datareader import data\n",
        "import matplotlib.pyplot as plt\n",
        "%matplotlib inline\n",
        "%config InlineBackend.figure_format = 'svg'\n",
        "pd.options.display.float_format = '{:,.2f}'.format"
      ],
      "execution_count": null,
      "outputs": []
    },
    {
      "cell_type": "code",
      "metadata": {
        "id": "dnn_DuzTbgts"
      },
      "source": [
        "df = data.DataReader('^SET50.BK',data_source='yahoo')\n",
        "df.head()"
      ],
      "execution_count": null,
      "outputs": []
    },
    {
      "cell_type": "code",
      "metadata": {
        "id": "JBs7h5Rm853q"
      },
      "source": [
        "df.info()"
      ],
      "execution_count": null,
      "outputs": []
    },
    {
      "cell_type": "code",
      "metadata": {
        "id": "K_Cxt2-j8_Jk"
      },
      "source": [
        "df.describe()"
      ],
      "execution_count": null,
      "outputs": []
    },
    {
      "cell_type": "code",
      "metadata": {
        "id": "86YJeWla9B7u"
      },
      "source": [
        "df.head()"
      ],
      "execution_count": null,
      "outputs": []
    },
    {
      "cell_type": "code",
      "metadata": {
        "id": "GlFzrVsZ9FkH"
      },
      "source": [
        "# A quick look at stock price\n",
        "df.Close.plot(figsize=(15,5))\n",
        "plt.title('Symbol: {}'.format(stock_symbol))\n",
        "plt.grid()\n",
        "plt.legend();"
      ],
      "execution_count": null,
      "outputs": []
    },
    {
      "cell_type": "code",
      "metadata": {
        "id": "hapGIuWb9qTr"
      },
      "source": [
        " #decompose trend, seasonal, and residual\n",
        "from statsmodels.tsa.seasonal import seasonal_decompose\n",
        "\n",
        "df_decom = seasonal_decompose(df.CLOSE, model='additive',freq=30)\n",
        "\n",
        "df_decom.plot();"
      ],
      "execution_count": null,
      "outputs": []
    },
    {
      "cell_type": "markdown",
      "metadata": {
        "id": "7-ntinh0af07"
      },
      "source": [
        "# New"
      ]
    },
    {
      "cell_type": "code",
      "metadata": {
        "id": "4wu86TFFC648",
        "outputId": "245d8bb2-2f0f-4fd0-c3d5-62cf82dc6370",
        "colab": {
          "base_uri": "https://localhost:8080/",
          "height": 535
        }
      },
      "source": [
        "dtn = pd.read_csv(\"/content/drive/My Drive/SET50_new.csv\")\n",
        "cols={'วันเดือนปี':'Date','ล่าสุด':'Close','ราคาเปิด':'Open','สูงสุด':'Hight','ต่ำสุด':'Low','ปริมาณ':'Volume','% เปลี่ยน':'Change'}\n",
        "dtn.rename(columns=cols,inplace=True)\n",
        "dtn.Date = pd.to_datetime(dtn.Date)\n",
        "print(dtn.shape)\n",
        "dtn.set_index(\"Date\",inplace=True)\n",
        "dtn.info()\n",
        "dtn.head(7)"
      ],
      "execution_count": 3,
      "outputs": [
        {
          "output_type": "stream",
          "text": [
            "(1414, 7)\n",
            "<class 'pandas.core.frame.DataFrame'>\n",
            "DatetimeIndex: 1414 entries, 2020-10-16 to 2015-01-05\n",
            "Data columns (total 6 columns):\n",
            " #   Column  Non-Null Count  Dtype \n",
            "---  ------  --------------  ----- \n",
            " 0   Close   1414 non-null   object\n",
            " 1   Open    1414 non-null   object\n",
            " 2   Hight   1414 non-null   object\n",
            " 3   Low     1414 non-null   object\n",
            " 4   Volume  1414 non-null   object\n",
            " 5   Change  1414 non-null   object\n",
            "dtypes: object(6)\n",
            "memory usage: 77.3+ KB\n"
          ],
          "name": "stdout"
        },
        {
          "output_type": "execute_result",
          "data": {
            "text/html": [
              "<div>\n",
              "<style scoped>\n",
              "    .dataframe tbody tr th:only-of-type {\n",
              "        vertical-align: middle;\n",
              "    }\n",
              "\n",
              "    .dataframe tbody tr th {\n",
              "        vertical-align: top;\n",
              "    }\n",
              "\n",
              "    .dataframe thead th {\n",
              "        text-align: right;\n",
              "    }\n",
              "</style>\n",
              "<table border=\"1\" class=\"dataframe\">\n",
              "  <thead>\n",
              "    <tr style=\"text-align: right;\">\n",
              "      <th></th>\n",
              "      <th>Close</th>\n",
              "      <th>Open</th>\n",
              "      <th>Hight</th>\n",
              "      <th>Low</th>\n",
              "      <th>Volume</th>\n",
              "      <th>Change</th>\n",
              "    </tr>\n",
              "    <tr>\n",
              "      <th>Date</th>\n",
              "      <th></th>\n",
              "      <th></th>\n",
              "      <th></th>\n",
              "      <th></th>\n",
              "      <th></th>\n",
              "      <th></th>\n",
              "    </tr>\n",
              "  </thead>\n",
              "  <tbody>\n",
              "    <tr>\n",
              "      <th>2020-10-16</th>\n",
              "      <td>776.50</td>\n",
              "      <td>783.74</td>\n",
              "      <td>785.44</td>\n",
              "      <td>771.77</td>\n",
              "      <td>1.01B</td>\n",
              "      <td>-0.71%</td>\n",
              "    </tr>\n",
              "    <tr>\n",
              "      <th>2020-10-15</th>\n",
              "      <td>782.02</td>\n",
              "      <td>787.60</td>\n",
              "      <td>790.65</td>\n",
              "      <td>779.99</td>\n",
              "      <td>1.20B</td>\n",
              "      <td>-1.61%</td>\n",
              "    </tr>\n",
              "    <tr>\n",
              "      <th>2020-10-14</th>\n",
              "      <td>794.81</td>\n",
              "      <td>800.31</td>\n",
              "      <td>801.59</td>\n",
              "      <td>790.52</td>\n",
              "      <td>1.08M</td>\n",
              "      <td>-1.22%</td>\n",
              "    </tr>\n",
              "    <tr>\n",
              "      <th>2020-10-12</th>\n",
              "      <td>804.59</td>\n",
              "      <td>801.79</td>\n",
              "      <td>808.32</td>\n",
              "      <td>798.62</td>\n",
              "      <td>954.35K</td>\n",
              "      <td>0.47%</td>\n",
              "    </tr>\n",
              "    <tr>\n",
              "      <th>2020-10-09</th>\n",
              "      <td>800.79</td>\n",
              "      <td>808.18</td>\n",
              "      <td>809.17</td>\n",
              "      <td>797.89</td>\n",
              "      <td>983.31M</td>\n",
              "      <td>-0.52%</td>\n",
              "    </tr>\n",
              "    <tr>\n",
              "      <th>2020-10-08</th>\n",
              "      <td>804.96</td>\n",
              "      <td>801.81</td>\n",
              "      <td>810.61</td>\n",
              "      <td>799.45</td>\n",
              "      <td>1.35B</td>\n",
              "      <td>0.94%</td>\n",
              "    </tr>\n",
              "    <tr>\n",
              "      <th>2020-10-07</th>\n",
              "      <td>797.43</td>\n",
              "      <td>785.08</td>\n",
              "      <td>798.08</td>\n",
              "      <td>782.21</td>\n",
              "      <td>1.36B</td>\n",
              "      <td>1.25%</td>\n",
              "    </tr>\n",
              "  </tbody>\n",
              "</table>\n",
              "</div>"
            ],
            "text/plain": [
              "             Close    Open   Hight     Low   Volume  Change\n",
              "Date                                                       \n",
              "2020-10-16  776.50  783.74  785.44  771.77    1.01B  -0.71%\n",
              "2020-10-15  782.02  787.60  790.65  779.99    1.20B  -1.61%\n",
              "2020-10-14  794.81  800.31  801.59  790.52    1.08M  -1.22%\n",
              "2020-10-12  804.59  801.79  808.32  798.62  954.35K   0.47%\n",
              "2020-10-09  800.79  808.18  809.17  797.89  983.31M  -0.52%\n",
              "2020-10-08  804.96  801.81  810.61  799.45    1.35B   0.94%\n",
              "2020-10-07  797.43  785.08  798.08  782.21    1.36B   1.25%"
            ]
          },
          "metadata": {
            "tags": []
          },
          "execution_count": 3
        }
      ]
    },
    {
      "cell_type": "markdown",
      "metadata": {
        "id": "OGL_6ZsOFvqU"
      },
      "source": [
        "##Check for Null value and preprocessing data"
      ]
    },
    {
      "cell_type": "code",
      "metadata": {
        "id": "1mIBeH-MEkZz"
      },
      "source": [
        "for feature in ['Close','Open','Hight','Low','Volume','Change']:\n",
        "    if dtn[feature].isnull().values.any():\n",
        "        print (feature)"
      ],
      "execution_count": 4,
      "outputs": []
    },
    {
      "cell_type": "code",
      "metadata": {
        "id": "Eaz82vs8GPQo"
      },
      "source": [
        "for i in ['Close','Open','Hight','Low']:\n",
        "    dtn[i] = pd.to_numeric(dtn[i],errors='coerce')"
      ],
      "execution_count": 5,
      "outputs": []
    },
    {
      "cell_type": "code",
      "metadata": {
        "id": "Sx8x-eG_f-rE"
      },
      "source": [
        "drinks = pd.read_csv(url, dtype={'beer_servings':float})"
      ],
      "execution_count": null,
      "outputs": []
    },
    {
      "cell_type": "code",
      "metadata": {
        "id": "6QpNTlHDZ3qf",
        "outputId": "cd816aa9-10f8-4bdb-e743-1caee9fb8690",
        "colab": {
          "base_uri": "https://localhost:8080/",
          "height": 334
        }
      },
      "source": [
        "dtn.Close.plot(figsize=(15,5))\n",
        "plt.title('Symbol:Close')\n",
        "plt.grid()\n",
        "plt.legend();"
      ],
      "execution_count": 7,
      "outputs": [
        {
          "output_type": "display_data",
          "data": {
            "image/png": "[encoded data removed]",
            "text/plain": [
              "<Figure size 1080x360 with 1 Axes>"
            ]
          },
          "metadata": {
            "tags": [],
            "needs_background": "light"
          }
        }
      ]
    }
  ]
}