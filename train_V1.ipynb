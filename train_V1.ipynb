{
  "nbformat": 4,
  "nbformat_minor": 0,
  "metadata": {
    "colab": {
      "name": "train1.ipynb",
      "provenance": [],
      "collapsed_sections": [],
      "authorship_tag": "ABX9TyMID8t75a5l7VH4OfW+nmZd",
      "include_colab_link": true
    },
    "kernelspec": {
      "name": "python3",
      "display_name": "Python 3"
    }
  },
  "cells": [
    {
      "cell_type": "markdown",
      "metadata": {
        "id": "view-in-github",
        "colab_type": "text"
      },
      "source": [
        "<a href=\"https://colab.research.google.com/github/sarisppp/PJ63_CE18/blob/master/train_V1.ipynb\" target=\"_parent\"><img src=\"https://colab.research.google.com/assets/colab-badge.svg\" alt=\"Open In Colab\"/></a>"
      ]
    },
    {
      "cell_type": "code",
      "metadata": {
        "id": "LHGXQCWc33S_",
        "outputId": "f9d12c4f-eac9-44b7-c409-3fc01e8ad9cf",
        "colab": {
          "base_uri": "https://localhost:8080/",
          "height": 34
        }
      },
      "source": [
        "import pandas as pd\n",
        "from pandas_datareader import data as pdr\n",
        "from tqdm import tqdm,trange\n",
        "from google.colab import drive\n",
        "from matplotlib import pyplot\n",
        "\n",
        "drive.mount('/content/drive')"
      ],
      "execution_count": 1,
      "outputs": [
        {
          "output_type": "stream",
          "text": [
            "Drive already mounted at /content/drive; to attempt to forcibly remount, call drive.mount(\"/content/drive\", force_remount=True).\n"
          ],
          "name": "stdout"
        }
      ]
    },
    {
      "cell_type": "code",
      "metadata": {
        "id": "mzqw9OUPqmXW"
      },
      "source": [
        "\n",
        "import numpy as np"
      ],
      "execution_count": 2,
      "outputs": []
    },
    {
      "cell_type": "code",
      "metadata": {
        "id": "b06swipl4pLL"
      },
      "source": [
        "df = pd.read_excel(\"/content/drive/My Drive/His_SET50_2019_2020.xlsx\")"
      ],
      "execution_count": 3,
      "outputs": []
    },
    {
      "cell_type": "code",
      "metadata": {
        "id": "Ru2SUTKf4-R0",
        "outputId": "da21de51-3c3a-4e7d-b907-1c90794f6bd0",
        "colab": {
          "base_uri": "https://localhost:8080/",
          "height": 603
        }
      },
      "source": [
        "used_features = ['SET50.Open','SET50.High','SET50.Low','SET50.Close','Vol']\n",
        "df = pd.read_excel(\"/content/drive/My Drive/His_SET50_2019_2020.xlsx\", usecols = used_features)\n",
        "df.info()\n",
        "df.head(500)"
      ],
      "execution_count": 4,
      "outputs": [
        {
          "output_type": "stream",
          "text": [
            "<class 'pandas.core.frame.DataFrame'>\n",
            "RangeIndex: 55920 entries, 0 to 55919\n",
            "Data columns (total 5 columns):\n",
            " #   Column       Non-Null Count  Dtype  \n",
            "---  ------       --------------  -----  \n",
            " 0   SET50.Open   55920 non-null  float64\n",
            " 1   SET50.High   55920 non-null  float64\n",
            " 2   SET50.Low    55920 non-null  float64\n",
            " 3   SET50.Close  55920 non-null  float64\n",
            " 4   Vol          55920 non-null  int64  \n",
            "dtypes: float64(4), int64(1)\n",
            "memory usage: 2.1 MB\n"
          ],
          "name": "stdout"
        },
        {
          "output_type": "execute_result",
          "data": {
            "text/html": [
              "<div>\n",
              "<style scoped>\n",
              "    .dataframe tbody tr th:only-of-type {\n",
              "        vertical-align: middle;\n",
              "    }\n",
              "\n",
              "    .dataframe tbody tr th {\n",
              "        vertical-align: top;\n",
              "    }\n",
              "\n",
              "    .dataframe thead th {\n",
              "        text-align: right;\n",
              "    }\n",
              "</style>\n",
              "<table border=\"1\" class=\"dataframe\">\n",
              "  <thead>\n",
              "    <tr style=\"text-align: right;\">\n",
              "      <th></th>\n",
              "      <th>SET50.Open</th>\n",
              "      <th>SET50.High</th>\n",
              "      <th>SET50.Low</th>\n",
              "      <th>SET50.Close</th>\n",
              "      <th>Vol</th>\n",
              "    </tr>\n",
              "  </thead>\n",
              "  <tbody>\n",
              "    <tr>\n",
              "      <th>0</th>\n",
              "      <td>1081.38</td>\n",
              "      <td>1081.38</td>\n",
              "      <td>1081.38</td>\n",
              "      <td>1081.38</td>\n",
              "      <td>7698</td>\n",
              "    </tr>\n",
              "    <tr>\n",
              "      <th>1</th>\n",
              "      <td>1080.28</td>\n",
              "      <td>1080.28</td>\n",
              "      <td>1079.86</td>\n",
              "      <td>1079.86</td>\n",
              "      <td>817</td>\n",
              "    </tr>\n",
              "    <tr>\n",
              "      <th>2</th>\n",
              "      <td>1079.77</td>\n",
              "      <td>1081.50</td>\n",
              "      <td>1079.72</td>\n",
              "      <td>1081.50</td>\n",
              "      <td>2935</td>\n",
              "    </tr>\n",
              "    <tr>\n",
              "      <th>3</th>\n",
              "      <td>1081.54</td>\n",
              "      <td>1081.54</td>\n",
              "      <td>1081.32</td>\n",
              "      <td>1081.32</td>\n",
              "      <td>94</td>\n",
              "    </tr>\n",
              "    <tr>\n",
              "      <th>4</th>\n",
              "      <td>1081.38</td>\n",
              "      <td>1081.38</td>\n",
              "      <td>1081.37</td>\n",
              "      <td>1081.37</td>\n",
              "      <td>1900</td>\n",
              "    </tr>\n",
              "    <tr>\n",
              "      <th>...</th>\n",
              "      <td>...</td>\n",
              "      <td>...</td>\n",
              "      <td>...</td>\n",
              "      <td>...</td>\n",
              "      <td>...</td>\n",
              "    </tr>\n",
              "    <tr>\n",
              "      <th>495</th>\n",
              "      <td>1093.88</td>\n",
              "      <td>1093.88</td>\n",
              "      <td>1093.59</td>\n",
              "      <td>1093.59</td>\n",
              "      <td>4293</td>\n",
              "    </tr>\n",
              "    <tr>\n",
              "      <th>496</th>\n",
              "      <td>1093.91</td>\n",
              "      <td>1094.36</td>\n",
              "      <td>1093.48</td>\n",
              "      <td>1094.23</td>\n",
              "      <td>5662</td>\n",
              "    </tr>\n",
              "    <tr>\n",
              "      <th>497</th>\n",
              "      <td>1094.30</td>\n",
              "      <td>1094.30</td>\n",
              "      <td>1094.14</td>\n",
              "      <td>1094.30</td>\n",
              "      <td>1257</td>\n",
              "    </tr>\n",
              "    <tr>\n",
              "      <th>498</th>\n",
              "      <td>1093.65</td>\n",
              "      <td>1094.18</td>\n",
              "      <td>1093.65</td>\n",
              "      <td>1093.67</td>\n",
              "      <td>1951</td>\n",
              "    </tr>\n",
              "    <tr>\n",
              "      <th>499</th>\n",
              "      <td>1094.38</td>\n",
              "      <td>1094.67</td>\n",
              "      <td>1094.08</td>\n",
              "      <td>1094.17</td>\n",
              "      <td>2261</td>\n",
              "    </tr>\n",
              "  </tbody>\n",
              "</table>\n",
              "<p>500 rows × 5 columns</p>\n",
              "</div>"
            ],
            "text/plain": [
              "     SET50.Open  SET50.High  SET50.Low  SET50.Close   Vol\n",
              "0       1081.38     1081.38    1081.38      1081.38  7698\n",
              "1       1080.28     1080.28    1079.86      1079.86   817\n",
              "2       1079.77     1081.50    1079.72      1081.50  2935\n",
              "3       1081.54     1081.54    1081.32      1081.32    94\n",
              "4       1081.38     1081.38    1081.37      1081.37  1900\n",
              "..          ...         ...        ...          ...   ...\n",
              "495     1093.88     1093.88    1093.59      1093.59  4293\n",
              "496     1093.91     1094.36    1093.48      1094.23  5662\n",
              "497     1094.30     1094.30    1094.14      1094.30  1257\n",
              "498     1093.65     1094.18    1093.65      1093.67  1951\n",
              "499     1094.38     1094.67    1094.08      1094.17  2261\n",
              "\n",
              "[500 rows x 5 columns]"
            ]
          },
          "metadata": {
            "tags": []
          },
          "execution_count": 4
        }
      ]
    },
    {
      "cell_type": "code",
      "metadata": {
        "id": "wHa0ZDhcBFfM"
      },
      "source": [
        "def inner_func(prices):  \n",
        "  diff = np.diff(prices)    \n",
        "  if  sum(n > 0 for n in diff) == len(diff) : # ราคาหุ้นมันขึ้นจากเมื่อวานติดต่อกัน ไม่มีตกลงมาแม้แต่นิดเดียว\n",
        "    return 4 # ให้คะแนน\n",
        "\n",
        "  if sum(n < 0 for n in diff) == len(diff) : # ราคาหุ้นตกต่อเนื่องจากเมื่อวานติดต่อกัน ไม่มีวี่แววเด้งขึ้นมา\n",
        "     return 0 # ให้คะแนน\n",
        "\n",
        "  SUM = diff.sum()\n",
        "  if SUM > 0: # มีแนวโน้มราคาขึ้น แม้ว่าจะมีตกลงบ้างระหว่างทาง\n",
        "    return 3 # ให้คะแนน\n",
        "  \n",
        "  if SUM < 0: # มีแนวโน้มราคาลดลง แม้วมีเด้งขึ้นบ้างระหว่างทาง\n",
        "    return 1 # ให้คะแนน\n",
        "\n",
        "  if SUM == 0: # sideway\n",
        "    return 2 # ให้คะแนน \n"
      ],
      "execution_count": 5,
      "outputs": []
    },
    {
      "cell_type": "code",
      "metadata": {
        "id": "z-9GB06iAs3V"
      },
      "source": [
        "def my_signal(df_close, period=3):  \n",
        "  result = df_close.rolling(window=period+1 ).apply(inner_func, raw=True)\n",
        "   \n",
        "  assert len(result) == len(df_close)\n",
        "  return result"
      ],
      "execution_count": 6,
      "outputs": []
    },
    {
      "cell_type": "code",
      "metadata": {
        "id": "4ZJXm7wx_Miq",
        "outputId": "05e7c28d-a2c9-4ee4-df86-3999899d8e25",
        "colab": {
          "base_uri": "https://localhost:8080/",
          "height": 435
        }
      },
      "source": [
        "def encode_mysignal(signal, predict=\"up\"):\n",
        "  if predict==\"up\":    \n",
        "    signal[signal < 4] = 0 \n",
        "    signal[signal == 4] = 1 # สนใจราคาขึ้นมากสุด 4 วันติดกัน\n",
        "\n",
        "  elif predict==\"down\":\n",
        "    signal[signal > 0] = 1     \n",
        "    signal[signal==0] = 0 # สนใจราคาลงมากสุด 4 วันติดกัน\n",
        "\n",
        "  return signal\n",
        "\n",
        "signal = my_signal(df['SET50.Close'])\n",
        "\n",
        "# ปรับตำแหน่งแถวของ ข้อมูล กับ signal ให้สอดคล้องกัน\n",
        "signal = signal.shift(-2) # shift ขึ้นไปสองแถว\n",
        "signal = signal.fillna(0) # ยังมี NaN อยู่แถวแรก แก้ให้เป็น 0\n",
        "signal = signal[:-2] # cut tail that is NaN\n",
        "\n",
        "signal = encode_mysignal(signal, predict=\"up\")\n",
        "\n",
        "df_new = df[:-2] # ตัดให้เหลือแถวเท่ากับ signal\n",
        "\n",
        "assert len(df_new) == len(df) - 2\n",
        "assert len(signal) == len(df) - 2\n",
        "assert len(df_new) == len(signal)\n",
        "\n",
        "\n",
        "print(np.shape(df_new))\n",
        "print(np.shape(signal))\n",
        "df_new\n",
        "\n"
      ],
      "execution_count": 7,
      "outputs": [
        {
          "output_type": "stream",
          "text": [
            "(55918, 5)\n",
            "(55918,)\n"
          ],
          "name": "stdout"
        },
        {
          "output_type": "execute_result",
          "data": {
            "text/html": [
              "<div>\n",
              "<style scoped>\n",
              "    .dataframe tbody tr th:only-of-type {\n",
              "        vertical-align: middle;\n",
              "    }\n",
              "\n",
              "    .dataframe tbody tr th {\n",
              "        vertical-align: top;\n",
              "    }\n",
              "\n",
              "    .dataframe thead th {\n",
              "        text-align: right;\n",
              "    }\n",
              "</style>\n",
              "<table border=\"1\" class=\"dataframe\">\n",
              "  <thead>\n",
              "    <tr style=\"text-align: right;\">\n",
              "      <th></th>\n",
              "      <th>SET50.Open</th>\n",
              "      <th>SET50.High</th>\n",
              "      <th>SET50.Low</th>\n",
              "      <th>SET50.Close</th>\n",
              "      <th>Vol</th>\n",
              "    </tr>\n",
              "  </thead>\n",
              "  <tbody>\n",
              "    <tr>\n",
              "      <th>0</th>\n",
              "      <td>1081.38</td>\n",
              "      <td>1081.38</td>\n",
              "      <td>1081.38</td>\n",
              "      <td>1081.38</td>\n",
              "      <td>7698</td>\n",
              "    </tr>\n",
              "    <tr>\n",
              "      <th>1</th>\n",
              "      <td>1080.28</td>\n",
              "      <td>1080.28</td>\n",
              "      <td>1079.86</td>\n",
              "      <td>1079.86</td>\n",
              "      <td>817</td>\n",
              "    </tr>\n",
              "    <tr>\n",
              "      <th>2</th>\n",
              "      <td>1079.77</td>\n",
              "      <td>1081.50</td>\n",
              "      <td>1079.72</td>\n",
              "      <td>1081.50</td>\n",
              "      <td>2935</td>\n",
              "    </tr>\n",
              "    <tr>\n",
              "      <th>3</th>\n",
              "      <td>1081.54</td>\n",
              "      <td>1081.54</td>\n",
              "      <td>1081.32</td>\n",
              "      <td>1081.32</td>\n",
              "      <td>94</td>\n",
              "    </tr>\n",
              "    <tr>\n",
              "      <th>4</th>\n",
              "      <td>1081.38</td>\n",
              "      <td>1081.38</td>\n",
              "      <td>1081.37</td>\n",
              "      <td>1081.37</td>\n",
              "      <td>1900</td>\n",
              "    </tr>\n",
              "    <tr>\n",
              "      <th>...</th>\n",
              "      <td>...</td>\n",
              "      <td>...</td>\n",
              "      <td>...</td>\n",
              "      <td>...</td>\n",
              "      <td>...</td>\n",
              "    </tr>\n",
              "    <tr>\n",
              "      <th>55913</th>\n",
              "      <td>840.28</td>\n",
              "      <td>840.28</td>\n",
              "      <td>840.28</td>\n",
              "      <td>840.28</td>\n",
              "      <td>200</td>\n",
              "    </tr>\n",
              "    <tr>\n",
              "      <th>55914</th>\n",
              "      <td>840.28</td>\n",
              "      <td>840.28</td>\n",
              "      <td>840.28</td>\n",
              "      <td>840.28</td>\n",
              "      <td>580</td>\n",
              "    </tr>\n",
              "    <tr>\n",
              "      <th>55915</th>\n",
              "      <td>840.28</td>\n",
              "      <td>840.28</td>\n",
              "      <td>840.28</td>\n",
              "      <td>840.28</td>\n",
              "      <td>708</td>\n",
              "    </tr>\n",
              "    <tr>\n",
              "      <th>55916</th>\n",
              "      <td>840.28</td>\n",
              "      <td>840.28</td>\n",
              "      <td>840.28</td>\n",
              "      <td>840.28</td>\n",
              "      <td>135</td>\n",
              "    </tr>\n",
              "    <tr>\n",
              "      <th>55917</th>\n",
              "      <td>840.28</td>\n",
              "      <td>840.28</td>\n",
              "      <td>840.28</td>\n",
              "      <td>840.28</td>\n",
              "      <td>1939</td>\n",
              "    </tr>\n",
              "  </tbody>\n",
              "</table>\n",
              "<p>55918 rows × 5 columns</p>\n",
              "</div>"
            ],
            "text/plain": [
              "       SET50.Open  SET50.High  SET50.Low  SET50.Close   Vol\n",
              "0         1081.38     1081.38    1081.38      1081.38  7698\n",
              "1         1080.28     1080.28    1079.86      1079.86   817\n",
              "2         1079.77     1081.50    1079.72      1081.50  2935\n",
              "3         1081.54     1081.54    1081.32      1081.32    94\n",
              "4         1081.38     1081.38    1081.37      1081.37  1900\n",
              "...           ...         ...        ...          ...   ...\n",
              "55913      840.28      840.28     840.28       840.28   200\n",
              "55914      840.28      840.28     840.28       840.28   580\n",
              "55915      840.28      840.28     840.28       840.28   708\n",
              "55916      840.28      840.28     840.28       840.28   135\n",
              "55917      840.28      840.28     840.28       840.28  1939\n",
              "\n",
              "[55918 rows x 5 columns]"
            ]
          },
          "metadata": {
            "tags": []
          },
          "execution_count": 7
        }
      ]
    },
    {
      "cell_type": "code",
      "metadata": {
        "id": "RRstKTdFC-m8"
      },
      "source": [
        "from sklearn.preprocessing import MinMaxScaler\n",
        "sc = MinMaxScaler(feature_range = (0, 1))\n",
        "df_scaled = sc.fit_transform(df_new)\n",
        "\n",
        "assert np.shape(df_scaled)  == np.shape(df_new)\n",
        "\n",
        "labels = signal.to_numpy()\n",
        "assert len(df_scaled) == len(labels)\n"
      ],
      "execution_count": 8,
      "outputs": []
    },
    {
      "cell_type": "code",
      "metadata": {
        "id": "vLYR2lC3Aq68",
        "outputId": "d67dd39e-c6cf-4f8e-b2c7-e86003188f62",
        "colab": {
          "base_uri": "https://localhost:8080/",
          "height": 50
        }
      },
      "source": [
        "from keras.preprocessing.sequence import TimeseriesGenerator\n",
        "\n",
        "timesteps = 14\n",
        "X_train = []\n",
        "y_train = []\n",
        "for i in range(timesteps, len(df_scaled)):\n",
        "    X_train.append(df_scaled[i-timesteps:i])    \n",
        "    #y_train.append(one_hot_labels[i])\n",
        "    y_train.append(signal[i])\n",
        "    \n",
        "X_train, y_train = np.array(X_train), np.array(y_train)\n",
        "\n",
        "print(np.shape(X_train))\n",
        "print(np.shape(y_train))"
      ],
      "execution_count": 9,
      "outputs": [
        {
          "output_type": "stream",
          "text": [
            "(55904, 14, 5)\n",
            "(55904,)\n"
          ],
          "name": "stdout"
        }
      ]
    },
    {
      "cell_type": "code",
      "metadata": {
        "id": "K0wSkc3NHxaj",
        "outputId": "b5477fb3-8f85-4470-e903-3aef2a131df7",
        "colab": {
          "base_uri": "https://localhost:8080/",
          "height": 420
        }
      },
      "source": [
        "# Building the LSTM\n",
        "\n",
        "# Importing the Keras libraries and packages\n",
        "from tensorflow.keras.models import Sequential\n",
        "from tensorflow.keras.layers import Dense\n",
        "from tensorflow.keras.layers import LSTM\n",
        "from tensorflow.keras.layers import Dropout\n",
        "\n",
        "# Begin\n",
        "model = Sequential()\n",
        "\n",
        "# Adding the first LSTM layer and some Dropout regularisation\n",
        "model.add(LSTM(units = 150, return_sequences = True, input_shape = (timesteps, X_train.shape[2])))\n",
        "model.add(Dropout(0.2))\n",
        "\n",
        "# Adding a second LSTM layer and some Dropout regularisation\n",
        "model.add(LSTM(units = 150, return_sequences = True))\n",
        "#model.add(Dropout(0.2))\n",
        "\n",
        "# Adding a third LSTM layer and some Dropout regularisation\n",
        "model.add(LSTM(units = 150, return_sequences = True))\n",
        "model.add(Dropout(0.2))\n",
        "\n",
        "# Adding a fourth LSTM layer and some Dropout regularisation\n",
        "model.add(LSTM(units = 100))\n",
        "model.add(Dropout(0.2))\n",
        "\n",
        "# Adding the output layer\n",
        "#model.add(Dense(2, activation='softmax'))\n",
        "model.add(Dense(1, activation='sigmoid'))\n",
        "\n",
        "\n",
        "# Compiling the RNN\n",
        "#model.compile(optimizer='adam', loss = 'categorical_crossentropy', metrics=['accuracy'])\n",
        "#model.compile(optimizer='rmsprop', loss = 'categorical_crossentropy', metrics=['accuracy'])\n",
        "#model.compile(loss='binary_crossentropy', optimizer='adam', metrics=['accuracy'])\n",
        "model.compile(loss='binary_crossentropy', optimizer='rmsprop', metrics=['accuracy'])\n",
        "\n",
        "model.summary()"
      ],
      "execution_count": 10,
      "outputs": [
        {
          "output_type": "stream",
          "text": [
            "Model: \"sequential\"\n",
            "_________________________________________________________________\n",
            "Layer (type)                 Output Shape              Param #   \n",
            "=================================================================\n",
            "lstm (LSTM)                  (None, 14, 150)           93600     \n",
            "_________________________________________________________________\n",
            "dropout (Dropout)            (None, 14, 150)           0         \n",
            "_________________________________________________________________\n",
            "lstm_1 (LSTM)                (None, 14, 150)           180600    \n",
            "_________________________________________________________________\n",
            "lstm_2 (LSTM)                (None, 14, 150)           180600    \n",
            "_________________________________________________________________\n",
            "dropout_1 (Dropout)          (None, 14, 150)           0         \n",
            "_________________________________________________________________\n",
            "lstm_3 (LSTM)                (None, 100)               100400    \n",
            "_________________________________________________________________\n",
            "dropout_2 (Dropout)          (None, 100)               0         \n",
            "_________________________________________________________________\n",
            "dense (Dense)                (None, 1)                 101       \n",
            "=================================================================\n",
            "Total params: 555,301\n",
            "Trainable params: 555,301\n",
            "Non-trainable params: 0\n",
            "_________________________________________________________________\n"
          ],
          "name": "stdout"
        }
      ]
    },
    {
      "cell_type": "code",
      "metadata": {
        "id": "SZU9OjwjH-xV"
      },
      "source": [
        "from sklearn.model_selection import train_test_split\n",
        "\n",
        "# Split the data\n",
        "s = int(len(X_train)*0.8)\n",
        "\n",
        "X_train, x_valid = X_train[:s], X_train[s:]\n",
        "y_train, y_valid = y_train[:s], y_train[s:]\n",
        "\n",
        "# Fitting the RNN to the Training set\n",
        "# history = model.fit(X_train, y_train, validation_split=0.25, epochs = 40, batch_size = 32, verbose=0)\n",
        "history = model.fit(X_train, y_train, validation_data=(x_valid, y_valid), epochs = 40, batch_size = 32, verbose=0)"
      ],
      "execution_count": 11,
      "outputs": []
    },
    {
      "cell_type": "code",
      "metadata": {
        "id": "wF683Ph5INEt",
        "outputId": "2bb2b2d8-7005-4a63-9c2b-acd2d57ef049",
        "colab": {
          "base_uri": "https://localhost:8080/",
          "height": 573
        }
      },
      "source": [
        "import matplotlib.pyplot as plt\n",
        "# Plot training & validation accuracy values\n",
        "plt.plot(history.history['accuracy'])\n",
        "plt.plot(history.history['val_accuracy'])\n",
        "plt.title('Model accuracy')\n",
        "plt.ylabel('Accuracy')\n",
        "plt.xlabel('Epoch')\n",
        "plt.legend(['Train', 'Test'], loc='upper left')\n",
        "plt.show()\n",
        "\n",
        "# Plot training & validation loss values\n",
        "plt.plot(history.history['loss'])\n",
        "plt.plot(history.history['val_loss'])\n",
        "plt.title('Model loss')\n",
        "plt.ylabel('Loss')\n",
        "plt.xlabel('Epoch')\n",
        "plt.legend(['Train', 'Test'], loc='upper left')\n",
        "plt.show()"
      ],
      "execution_count": 18,
      "outputs": [
        {
          "output_type": "display_data",
          "data": {
            "image/png": "[encoded data removed]",
            "text/plain": [
              "<Figure size 432x288 with 1 Axes>"
            ]
          },
          "metadata": {
            "tags": [],
            "needs_background": "light"
          }
        },
        {
          "output_type": "display_data",
          "data": {
            "image/png": "[encoded data removed]",
            "text/plain": [
              "<Figure size 432x288 with 1 Axes>"
            ]
          },
          "metadata": {
            "tags": [],
            "needs_background": "light"
          }
        }
      ]
    },
    {
      "cell_type": "code",
      "metadata": {
        "id": "ZS_UZTd79Qyq"
      },
      "source": [
        "from datetime import date\n",
        "from glob import glob\n",
        "def get_fromYahoo(symbol, startdate, enddate = date.today()):\n",
        "  try:        \n",
        "    return pdr.get_data_yahoo('{}.BK'.format(symbol), start=startdate, end=enddate)         \n",
        "  except:\n",
        "    print(\"Error:\", sys.exc_info()[0])\n",
        "    print(\"Description:\", sys.exc_info()[1])  \n",
        "\n",
        "def check_dataInfile(files, startdate, enddate ):\n",
        "  for filename in files:\n",
        "      text = filename.split('_')            \n",
        "      startdate_file = datetime.datetime.strptime(text[1], '%Y-%m-%d')\n",
        "      enddate_file =  datetime.datetime.strptime(text[3].replace(\".csv\",\"\"), '%Y-%m-%d')\n",
        "      \n",
        "      start = datetime.datetime.strptime(startdate, '%Y-%m-%d')\n",
        "      end =  datetime.datetime.strptime(enddate, '%Y-%m-%d')\n",
        "      \n",
        "      if  (startdate_file <= start <= enddate_file) \\\n",
        "          and (startdate_file <= end <= enddate_file):\n",
        "        return filename\n",
        "def get_stockData(symbols, startdate, enddate = date.today()): \n",
        "  all_data = {}\n",
        "  symbols_error = []\n",
        "  \n",
        "  for name in tqdm(symbols):\n",
        "    _startdate = str(startdate)[0:10] \t    \n",
        "    _enddate = str(enddate)[0:10]\n",
        "    \n",
        "    files = glob('%s*' % name)\n",
        "    csv_file = check_dataInfile(files, _startdate, _enddate)\n",
        "    if csv_file is not None:\n",
        "      print(\"read file:  \", csv_file)\n",
        "      data = pd.read_csv( csv_file, parse_dates = True, index_col = 0)         \n",
        "      data = data[(data.index >= _startdate) & (data.index <= _enddate)]           \n",
        "    else:\n",
        "      [ os.remove(f) for f in files]\n",
        "      data = get_fromYahoo(name ,startdate, enddate)\n",
        "      if data is None: \n",
        "        symbols_error.append(name)\n",
        "        continue\n",
        "      \n",
        "      print(\"get data from yahoo: \", name)\n",
        "      csv_file = '%s_%s_to_%s.csv' % (name, _startdate , _enddate)\n",
        "      data.to_csv(csv_file)\n",
        "\n",
        "    all_data[name] = data   \n",
        "\n",
        "  return all_data, symbols_error"
      ],
      "execution_count": 60,
      "outputs": []
    },
    {
      "cell_type": "code",
      "metadata": {
        "id": "v6mLy2ov5OEm",
        "outputId": "8bdf1df1-d28f-4a61-ae85-d45a4e5dccd3",
        "colab": {
          "base_uri": "https://localhost:8080/",
          "height": 50
        }
      },
      "source": [
        "from pandas_datareader import data as pdr\n",
        "from tqdm import tqdm,trange\n",
        "\n",
        "today = date.today()\n",
        "stock_list=['THAI']\n",
        "start_date=\"2018-01-02\"\n",
        "data, symbols_error = get_stockData(symbols=stock_list, startdate=start_date)"
      ],
      "execution_count": 77,
      "outputs": [
        {
          "output_type": "stream",
          "text": [
            "100%|██████████| 1/1 [00:00<00:00,  1.10it/s]"
          ],
          "name": "stderr"
        },
        {
          "output_type": "stream",
          "text": [
            "get data from yahoo:  THAI\n"
          ],
          "name": "stdout"
        },
        {
          "output_type": "stream",
          "text": [
            "\n"
          ],
          "name": "stderr"
        }
      ]
    },
    {
      "cell_type": "code",
      "metadata": {
        "id": "vWTNHzLt58EL"
      },
      "source": [
        ""
      ],
      "execution_count": 62,
      "outputs": []
    },
    {
      "cell_type": "code",
      "metadata": {
        "id": "BL-QHnVm6Z-P"
      },
      "source": [
        "def ema(df_close, period=14, adjustment=True):  \n",
        "  result = df_close.ewm(span=period, adjust=adjustment).mean()\n",
        "  \n",
        "  assert len(result) == len(df_close)\n",
        "  return result\n",
        "def macd(df_close, slow=26, fast=12):    \n",
        "    emaslow = ema(df_close, period=slow)\n",
        "    emafast = ema(df_close, period=fast)\n",
        "    result = emafast - emaslow\n",
        "    \n",
        "    assert len(result) == len(df_close)\n",
        "    return emaslow, emafast, result\n",
        "def stoch(df_high, df_low, df_close):  \n",
        "  #Create the \"low period\" the DataFrame\n",
        "  df_low14 = df_low.rolling(window=14).min()\n",
        "\n",
        "  #Create the \"high period\" the DataFrame\n",
        "  df_high14 = df_high.rolling(window=14).max()\n",
        "\n",
        "  #Create the \"%K\" the DataFrame\n",
        "  df_percentK = 100*((df_close - df_low14) / (df_high14- df_low14) )\n",
        "    \n",
        "  #Create the \"%D\" the DataFrame\n",
        "  df_percentD = df_percentK.rolling(window=3).mean()\n",
        "\n",
        "  assert len(df_percentK) == len(df_close)\n",
        "  assert len(df_percentD) == len(df_close)\n",
        "  return df_percentK, df_percentD\n",
        "def rsi(df_close, period=14, method=\"EMA\"):\n",
        "    result = pd.DataFrame(index = df_close.index, columns=['RSI'])\n",
        "    \n",
        "    # deffernt\n",
        "    delta = df_close.diff().dropna()\n",
        "    \n",
        "    # Make the positive gains (up) and negative gains (down) Series\n",
        "    up, down = delta.copy(), delta.copy()\n",
        "    up[up < 0] = 0\n",
        "    down[down > 0] = 0\n",
        "\n",
        "    if method==\"EMA\":\n",
        "      # Calculate the EMA\n",
        "      roll_up1 = up.ewm(span=period).mean()\n",
        "      roll_down1 = down.abs().ewm(span=period).mean()\n",
        "      \n",
        "      # Calculate the RSI based on EMA\n",
        "      RS1 = roll_up1 / roll_down1\n",
        "      RSI1 = 100.0 - (100.0 / (1.0 + RS1))\n",
        "      result['RSI'][1:]=RSI1 \n",
        "      assert len(df_close) == len(RSI1)+1  \n",
        "\n",
        "    if method==\"SMA\":\n",
        "      # Calculate the SMA\n",
        "      roll_up2 = up.rolling(window=period).mean()\n",
        "      roll_down2 = down.abs().rolling(window=period).mean()\n",
        "      \n",
        "      # Calculate the RSI based on SMA\n",
        "      RS2 = roll_up2 / roll_down2\n",
        "      RSI2 = 100.0 - (100.0 / (1.0 + RS2))\n",
        "      result['RSI'][1:]=RSI2 \n",
        "      assert len(df_close) == len(RSI2)+1  \n",
        "    \n",
        "    return result['RSI']\n",
        "def stoch_rsi(df_close, period=14, method=\"EMA\"):\n",
        "  df_rsi = rsi(df_close, period, method)\n",
        "  assert len(df_rsi) == len(df_close)\n",
        "  \n",
        "  df_percentK, df_percentD = stoch(df_rsi, df_rsi, df_rsi)\n",
        "  \n",
        "  assert len(df_percentK) == len(df_close)\n",
        "  assert len(df_percentD) == len(df_close)\n",
        "  return df_percentK, df_percentD\n"
      ],
      "execution_count": 71,
      "outputs": []
    },
    {
      "cell_type": "code",
      "metadata": {
        "id": "g90zgSaHCW78"
      },
      "source": [
        "def encode_diff(df_diff):\n",
        "  df = pd.DataFrame(index=df_diff.index , columns=['encode'])\n",
        "  df.encode[df_diff > 0] = 1.0    \n",
        "  df.encode[df_diff == 0] = 0.5\n",
        "  df.encode[df_diff < 0] = 0.0\n",
        "  \n",
        "  return df.encode"
      ],
      "execution_count": 92,
      "outputs": []
    },
    {
      "cell_type": "code",
      "metadata": {
        "id": "JjdlfxFU58Cf",
        "outputId": "b8261ba6-4684-4f7c-8122-4bd15fa06e85",
        "colab": {
          "base_uri": "https://localhost:8080/",
          "height": 168
        }
      },
      "source": [
        "stock_name = stock_list[0]\n",
        "df = data[stock_name]\n",
        "adj_close = df['Adj Close']\n",
        "\n",
        "emaslow, emafast, ema_diff = macd(adj_close)\n",
        "\n",
        "rsi_percentK, rsi_percentD = stoch_rsi(adj_close)\n",
        "rsi_diff = rsi_percentK - rsi_percentD\n",
        "\n",
        "open_close = df.Open-df.Close\n",
        "open_closePrev = df.Open-df.Close.shift(1)\n",
        "\n",
        "price_diff = df.diff()\n",
        "\n",
        "df['macd'] = encode_diff(ema_diff)\n",
        "df['rsi_diff'] = encode_diff(rsi_diff)\n",
        "df['open-close'] = encode_diff(open_close)\n",
        "df['open-close.prev'] = encode_diff(open_closePrev)\n",
        "\n",
        "df['open_diff'] = encode_diff(price_diff.Open)\n",
        "df['close_diff'] = encode_diff(price_diff.Close)\n",
        "df['high_diff'] = encode_diff(price_diff.High)\n",
        "df['low_diff'] = encode_diff(price_diff.Low)\n",
        "\n",
        "\n",
        "signal = my_signal(adj_close)\n",
        "signal = signal.shift(-2) # shift ขึ้นไปสองแถว\n",
        "signal = signal.fillna(0) # ยังมี NaN อยู่แถวแรก แก้ให้เป็น 0\n",
        "signal = signal[1:-2] # cut tail that is NaN\n",
        "\n",
        "signal[signal==1] = 0 \n",
        "signal[signal==2] = 0 \n",
        "signal[signal==3] = 0 \n",
        "signal[signal==4] = 1 # สนใจราคาขึ้นมากสุด 4 วันติดกัน\n",
        "\n",
        "df_new = df[:-2] # ตัดให้เหลือแถวเท่ากับ signal\n",
        "df_new = df_new.drop(columns=['High', 'Low',  'Open',  'Close',   'Volume',  'Adj Close'])\n",
        "#print(table_signal.head())\n",
        "print(df_new.tail())"
      ],
      "execution_count": 94,
      "outputs": [
        {
          "output_type": "stream",
          "text": [
            "           macd rsi_diff open-close  ... close_diff high_diff low_diff\n",
            "Date                                 ...                              \n",
            "2020-10-16    0        0          1  ...          0       0.5        0\n",
            "2020-10-19    0        0          1  ...          0         0        0\n",
            "2020-10-20    0        1        0.5  ...          1         0        0\n",
            "2020-10-21    0        1          1  ...          1       0.5        1\n",
            "2020-10-22    0        0          1  ...          0         1        0\n",
            "\n",
            "[5 rows x 8 columns]\n"
          ],
          "name": "stdout"
        }
      ]
    },
    {
      "cell_type": "code",
      "metadata": {
        "id": "W_aogeEX57_o"
      },
      "source": [
        ""
      ],
      "execution_count": null,
      "outputs": []
    }
  ]
}